{
 "cells": [
  {
   "cell_type": "code",
   "execution_count": null,
   "metadata": {
    "id": "5BstU2ocI5Oo"
   },
   "outputs": [],
   "source": [
    "# To check execution time of each cell\n",
    "import time\n",
    "## Usages : \n",
    "#%%time\n",
    "# your_code "
   ]
  },
  {
   "cell_type": "code",
   "execution_count": null,
   "metadata": {
    "id": "1ZFmxkhGviMK"
   },
   "outputs": [],
   "source": [
    "# import necessary libraries\n",
    "import pandas as pd\n",
    "import numpy as np\n",
    "import matplotlib.pyplot as plt\n",
    "import seaborn as sns"
   ]
  },
  {
   "cell_type": "code",
   "execution_count": null,
   "metadata": {
    "colab": {
     "base_uri": "https://localhost:8080/"
    },
    "id": "Ps9Xn3Oiv5G7",
    "outputId": "d1adb9c4-d9fe-4f36-de7f-73bc2cc7dfe4"
   },
   "outputs": [
    {
     "name": "stdout",
     "output_type": "stream",
     "text": [
      "CPU times: user 2.15 s, sys: 14.6 ms, total: 2.17 s\n",
      "Wall time: 2.36 s\n"
     ]
    }
   ],
   "source": [
    "# Read the data \n",
    "%%time\n",
    "df = pd.read_excel(\"/content/Airline/data/Data_Train.xlsx\")"
   ]
  },
  {
   "cell_type": "code",
   "execution_count": null,
   "metadata": {
    "id": "db3UV1Bfxe-4"
   },
   "outputs": [],
   "source": [
    "## Data EDA"
   ]
  },
  {
   "cell_type": "code",
   "execution_count": null,
   "metadata": {},
   "outputs": [],
   "source": []
  },
  {
   "cell_type": "code",
   "execution_count": null,
   "metadata": {
    "id": "mesSwBejxZQJ"
   },
   "outputs": [],
   "source": [
    "## Data Pre-processing"
   ]
  },
  {
   "cell_type": "markdown",
   "metadata": {
    "id": "exB4rRwlxhpe"
   },
   "source": [
    "# Sanity check and Validate data correctness "
   ]
  },
  {
   "cell_type": "code",
   "execution_count": null,
   "metadata": {
    "colab": {
     "base_uri": "https://localhost:8080/"
    },
    "id": "myZywi7c-zzO",
    "outputId": "18cddce7-4aa1-4777-dadc-56682688c927"
   },
   "outputs": [
    {
     "data": {
      "text/plain": [
       "10683"
      ]
     },
     "execution_count": 22,
     "metadata": {},
     "output_type": "execute_result"
    }
   ],
   "source": [
    "len(df)"
   ]
  },
  {
   "cell_type": "code",
   "execution_count": null,
   "metadata": {
    "id": "XZg8O8KLYVpy"
   },
   "outputs": [],
   "source": [
    "# Drop any duplicaties (check size before and after dropping duplicates.)\n",
    "df.drop_duplicates(inplace=True)"
   ]
  },
  {
   "cell_type": "code",
   "execution_count": null,
   "metadata": {
    "colab": {
     "base_uri": "https://localhost:8080/"
    },
    "id": "VgL6h58p_YRu",
    "outputId": "82a96203-b311-42fa-c400-6c5c830a529f"
   },
   "outputs": [
    {
     "data": {
      "text/plain": [
       "10463"
      ]
     },
     "execution_count": 24,
     "metadata": {},
     "output_type": "execute_result"
    }
   ],
   "source": [
    "len(df)  \n",
    "# 220 duplicate rows are removed"
   ]
  },
  {
   "cell_type": "code",
   "execution_count": null,
   "metadata": {
    "colab": {
     "base_uri": "https://localhost:8080/"
    },
    "id": "9_TUty-YAD18",
    "outputId": "bb552b29-a326-4876-bf42-f9fe3a2dd9f0"
   },
   "outputs": [
    {
     "name": "stdout",
     "output_type": "stream",
     "text": [
      "<class 'pandas.core.frame.DataFrame'>\n",
      "Int64Index: 10463 entries, 0 to 10682\n",
      "Data columns (total 11 columns):\n",
      " #   Column           Non-Null Count  Dtype \n",
      "---  ------           --------------  ----- \n",
      " 0   Airline          10463 non-null  object\n",
      " 1   Date_of_Journey  10463 non-null  object\n",
      " 2   Source           10463 non-null  object\n",
      " 3   Destination      10463 non-null  object\n",
      " 4   Route            10462 non-null  object\n",
      " 5   Dep_Time         10463 non-null  object\n",
      " 6   Arrival_Time     10463 non-null  object\n",
      " 7   Duration         10463 non-null  object\n",
      " 8   Total_Stops      10462 non-null  object\n",
      " 9   Additional_Info  10463 non-null  object\n",
      " 10  Price            10463 non-null  int64 \n",
      "dtypes: int64(1), object(10)\n",
      "memory usage: 980.9+ KB\n"
     ]
    }
   ],
   "source": [
    "df.info()"
   ]
  },
  {
   "cell_type": "code",
   "execution_count": null,
   "metadata": {
    "id": "hgp5r_gny6xH"
   },
   "outputs": [],
   "source": [
    "# Date_of_Journey ,Arrival_Time and Dep_Time must be datetime object\n",
    "df['Date_of_Journey'] = pd.to_datetime(df['Date_of_Journey'])\n",
    "df['Arrival_Time'] = pd.to_datetime(df['Arrival_Time'])\n",
    "df['Dep_Time'] = pd.to_datetime(df['Dep_Time'])"
   ]
  },
  {
   "cell_type": "code",
   "execution_count": null,
   "metadata": {
    "id": "vZYanHVchCKi"
   },
   "outputs": [],
   "source": [
    "datetime_columns = ['Date_of_Journey','Dep_Time','Arrival_Time']\n",
    "for col in datetime_columns:\n",
    "  df[col] = pd.to_datetime(df[col])"
   ]
  },
  {
   "cell_type": "code",
   "execution_count": null,
   "metadata": {
    "colab": {
     "base_uri": "https://localhost:8080/"
    },
    "id": "Y-Xg4kTxAwD0",
    "outputId": "418f69a1-5840-405b-8697-647c006d646b"
   },
   "outputs": [
    {
     "name": "stdout",
     "output_type": "stream",
     "text": [
      "<class 'pandas.core.frame.DataFrame'>\n",
      "Int64Index: 10463 entries, 0 to 10682\n",
      "Data columns (total 11 columns):\n",
      " #   Column           Non-Null Count  Dtype         \n",
      "---  ------           --------------  -----         \n",
      " 0   Airline          10463 non-null  object        \n",
      " 1   Date_of_Journey  10463 non-null  datetime64[ns]\n",
      " 2   Source           10463 non-null  object        \n",
      " 3   Destination      10463 non-null  object        \n",
      " 4   Route            10462 non-null  object        \n",
      " 5   Dep_Time         10463 non-null  datetime64[ns]\n",
      " 6   Arrival_Time     10463 non-null  datetime64[ns]\n",
      " 7   Duration         10463 non-null  object        \n",
      " 8   Total_Stops      10462 non-null  object        \n",
      " 9   Additional_Info  10463 non-null  object        \n",
      " 10  Price            10463 non-null  int64         \n",
      "dtypes: datetime64[ns](3), int64(1), object(7)\n",
      "memory usage: 980.9+ KB\n"
     ]
    }
   ],
   "source": [
    "df.info()"
   ]
  },
  {
   "cell_type": "code",
   "execution_count": null,
   "metadata": {
    "id": "mi7ifnVBAyd4"
   },
   "outputs": [],
   "source": [
    "def convert_todatetime(df,datetime_columns):\n",
    "    '''\n",
    "    This function converts object columns into datetime value.\n",
    "    Input :\n",
    "        df : DataFrame for which conversion need to applied.\n",
    "        datetime_columns : list of columns that need to be converted.\n",
    "    Return: None\n",
    "    '''\n",
    "    for col in datetime_columns:\n",
    "       df[col] = pd.to_datetime(df[col])"
   ]
  },
  {
   "cell_type": "code",
   "execution_count": null,
   "metadata": {
    "id": "gFjV2LMAy5PY"
   },
   "outputs": [],
   "source": [
    "# Duration and Total Stops have numerical meaning instead of object\n",
    "# Convert them into appropiate format."
   ]
  },
  {
   "cell_type": "code",
   "execution_count": null,
   "metadata": {
    "colab": {
     "base_uri": "https://localhost:8080/",
     "height": 142
    },
    "id": "wP3-nRhTFbqc",
    "outputId": "e0a7526b-208d-4404-82de-f9379f62dded"
   },
   "outputs": [
    {
     "data": {
      "text/html": [
       "\n",
       "  <div id=\"df-17b98332-92ac-464c-bb1a-25ed6dda9690\">\n",
       "    <div class=\"colab-df-container\">\n",
       "      <div>\n",
       "<style scoped>\n",
       "    .dataframe tbody tr th:only-of-type {\n",
       "        vertical-align: middle;\n",
       "    }\n",
       "\n",
       "    .dataframe tbody tr th {\n",
       "        vertical-align: top;\n",
       "    }\n",
       "\n",
       "    .dataframe thead th {\n",
       "        text-align: right;\n",
       "    }\n",
       "</style>\n",
       "<table border=\"1\" class=\"dataframe\">\n",
       "  <thead>\n",
       "    <tr style=\"text-align: right;\">\n",
       "      <th></th>\n",
       "      <th>Airline</th>\n",
       "      <th>Date_of_Journey</th>\n",
       "      <th>Source</th>\n",
       "      <th>Destination</th>\n",
       "      <th>Route</th>\n",
       "      <th>Dep_Time</th>\n",
       "      <th>Arrival_Time</th>\n",
       "      <th>Duration</th>\n",
       "      <th>Total_Stops</th>\n",
       "      <th>Additional_Info</th>\n",
       "      <th>Price</th>\n",
       "    </tr>\n",
       "  </thead>\n",
       "  <tbody>\n",
       "    <tr>\n",
       "      <th>6474</th>\n",
       "      <td>Air India</td>\n",
       "      <td>2019-06-03</td>\n",
       "      <td>Mumbai</td>\n",
       "      <td>Hyderabad</td>\n",
       "      <td>BOM → GOI → PNQ → HYD</td>\n",
       "      <td>2022-05-21 16:50:00</td>\n",
       "      <td>2022-05-21 16:55:00</td>\n",
       "      <td>5m</td>\n",
       "      <td>2 stops</td>\n",
       "      <td>No info</td>\n",
       "      <td>17327</td>\n",
       "    </tr>\n",
       "  </tbody>\n",
       "</table>\n",
       "</div>\n",
       "      <button class=\"colab-df-convert\" onclick=\"convertToInteractive('df-17b98332-92ac-464c-bb1a-25ed6dda9690')\"\n",
       "              title=\"Convert this dataframe to an interactive table.\"\n",
       "              style=\"display:none;\">\n",
       "        \n",
       "  <svg xmlns=\"http://www.w3.org/2000/svg\" height=\"24px\"viewBox=\"0 0 24 24\"\n",
       "       width=\"24px\">\n",
       "    <path d=\"M0 0h24v24H0V0z\" fill=\"none\"/>\n",
       "    <path d=\"M18.56 5.44l.94 2.06.94-2.06 2.06-.94-2.06-.94-.94-2.06-.94 2.06-2.06.94zm-11 1L8.5 8.5l.94-2.06 2.06-.94-2.06-.94L8.5 2.5l-.94 2.06-2.06.94zm10 10l.94 2.06.94-2.06 2.06-.94-2.06-.94-.94-2.06-.94 2.06-2.06.94z\"/><path d=\"M17.41 7.96l-1.37-1.37c-.4-.4-.92-.59-1.43-.59-.52 0-1.04.2-1.43.59L10.3 9.45l-7.72 7.72c-.78.78-.78 2.05 0 2.83L4 21.41c.39.39.9.59 1.41.59.51 0 1.02-.2 1.41-.59l7.78-7.78 2.81-2.81c.8-.78.8-2.07 0-2.86zM5.41 20L4 18.59l7.72-7.72 1.47 1.35L5.41 20z\"/>\n",
       "  </svg>\n",
       "      </button>\n",
       "      \n",
       "  <style>\n",
       "    .colab-df-container {\n",
       "      display:flex;\n",
       "      flex-wrap:wrap;\n",
       "      gap: 12px;\n",
       "    }\n",
       "\n",
       "    .colab-df-convert {\n",
       "      background-color: #E8F0FE;\n",
       "      border: none;\n",
       "      border-radius: 50%;\n",
       "      cursor: pointer;\n",
       "      display: none;\n",
       "      fill: #1967D2;\n",
       "      height: 32px;\n",
       "      padding: 0 0 0 0;\n",
       "      width: 32px;\n",
       "    }\n",
       "\n",
       "    .colab-df-convert:hover {\n",
       "      background-color: #E2EBFA;\n",
       "      box-shadow: 0px 1px 2px rgba(60, 64, 67, 0.3), 0px 1px 3px 1px rgba(60, 64, 67, 0.15);\n",
       "      fill: #174EA6;\n",
       "    }\n",
       "\n",
       "    [theme=dark] .colab-df-convert {\n",
       "      background-color: #3B4455;\n",
       "      fill: #D2E3FC;\n",
       "    }\n",
       "\n",
       "    [theme=dark] .colab-df-convert:hover {\n",
       "      background-color: #434B5C;\n",
       "      box-shadow: 0px 1px 3px 1px rgba(0, 0, 0, 0.15);\n",
       "      filter: drop-shadow(0px 1px 2px rgba(0, 0, 0, 0.3));\n",
       "      fill: #FFFFFF;\n",
       "    }\n",
       "  </style>\n",
       "\n",
       "      <script>\n",
       "        const buttonEl =\n",
       "          document.querySelector('#df-17b98332-92ac-464c-bb1a-25ed6dda9690 button.colab-df-convert');\n",
       "        buttonEl.style.display =\n",
       "          google.colab.kernel.accessAllowed ? 'block' : 'none';\n",
       "\n",
       "        async function convertToInteractive(key) {\n",
       "          const element = document.querySelector('#df-17b98332-92ac-464c-bb1a-25ed6dda9690');\n",
       "          const dataTable =\n",
       "            await google.colab.kernel.invokeFunction('convertToInteractive',\n",
       "                                                     [key], {});\n",
       "          if (!dataTable) return;\n",
       "\n",
       "          const docLinkHtml = 'Like what you see? Visit the ' +\n",
       "            '<a target=\"_blank\" href=https://colab.research.google.com/notebooks/data_table.ipynb>data table notebook</a>'\n",
       "            + ' to learn more about interactive tables.';\n",
       "          element.innerHTML = '';\n",
       "          dataTable['output_type'] = 'display_data';\n",
       "          await google.colab.output.renderOutput(dataTable, element);\n",
       "          const docLink = document.createElement('div');\n",
       "          docLink.innerHTML = docLinkHtml;\n",
       "          element.appendChild(docLink);\n",
       "        }\n",
       "      </script>\n",
       "    </div>\n",
       "  </div>\n",
       "  "
      ],
      "text/plain": [
       "        Airline Date_of_Journey  Source Destination                  Route  \\\n",
       "6474  Air India      2019-06-03  Mumbai   Hyderabad  BOM → GOI → PNQ → HYD   \n",
       "\n",
       "                Dep_Time        Arrival_Time Duration Total_Stops  \\\n",
       "6474 2022-05-21 16:50:00 2022-05-21 16:55:00       5m     2 stops   \n",
       "\n",
       "     Additional_Info  Price  \n",
       "6474         No info  17327  "
      ]
     },
     "execution_count": 31,
     "metadata": {},
     "output_type": "execute_result"
    }
   ],
   "source": [
    "df[df['Duration'] == '5m']"
   ]
  },
  {
   "cell_type": "code",
   "execution_count": null,
   "metadata": {
    "id": "Po02y0_iOX_7"
   },
   "outputs": [],
   "source": [
    "\n",
    "\n",
    "# duration= df.loc[0,'Duration']\n",
    "# duration\n",
    "# # 2h 50 m --> minutes ?\n",
    "# # 170\n",
    "# 2*60 + 50 = 170\n",
    "# duration.split(\" \")\n",
    "# hour_value = int(duration.split(\" \")[0].replace(\"h\",\"\"))\n",
    "# minute_value = int(duration.split(\" \")[1].replace(\"m\",\"\"))\n",
    "# hour_value*60  + minute_value\n",
    "# a = '2h 40m'\n",
    "# b = '3h'\n",
    "# c = '40m'\n",
    "# len(b.split(\" \"))\n",
    "# duration = '3h'\n",
    "# if b.endswith('h'):\n",
    "#   minute_value = 0\n",
    "#   hour_value = int(duration.split(\" \")[0].replace(\"h\",\"\"))\n",
    "#   total_minute = hour_value*60 + minute_value\n",
    "#   print(total_minute)\n",
    "# duration = '40m'\n",
    "# if duration.endswith('m'):\n",
    "#   minute_value = int(duration.split(\" \")[0].replace(\"m\",\"\"))\n",
    "#   hour_value = 0\n",
    "#   total_minute = hour_value*60 + minute_value\n",
    "#   print(total_minute)\n",
    "# Exception Handling\n",
    "def convert_toduration(duration):\n",
    "      \"\"\"\n",
    "      This function converts hour minute duration to minutes.\n",
    "      Input: \n",
    "          duration: A duration value in format '2h 50m'\n",
    "      return : duration value in minutes\n",
    "      \"\"\"\n",
    "      try:\n",
    "          if len(duration.split(\" \")) > 1:\n",
    "              hour_value = int(duration.split(\" \")[0].replace(\"h\",\"\"))\n",
    "              minute_value = int(duration.split(\" \")[1].replace(\"m\",\"\"))\n",
    "          else:\n",
    "              if duration.endswith('h'):\n",
    "                  minute_value = 0\n",
    "                  hour_value = int(duration.replace(\"h\",\"\"))\n",
    "              elif duration.endswith('m'):\n",
    "                  minute_value = int(duration.replace(\"m\",\"\"))\n",
    "                  hour_value = 0\n",
    "      except (IndexError,ValueError) as e:\n",
    "          hour_value = np.nan\n",
    "          minute_value = np.nan\n",
    "      return hour_value*60  + minute_value\n"
   ]
  },
  {
   "cell_type": "code",
   "execution_count": null,
   "metadata": {
    "id": "QYvy4w09TXfS"
   },
   "outputs": [],
   "source": [
    "# df['Duration_converted_new'] = df['Duration'].apply(lambda x: convert_toduration(x))"
   ]
  },
  {
   "cell_type": "code",
   "execution_count": null,
   "metadata": {
    "colab": {
     "base_uri": "https://localhost:8080/",
     "height": 142
    },
    "id": "ZvH2iNamTuip",
    "outputId": "bb3a7d5e-c027-4ecb-f07a-7636ea5e20be"
   },
   "outputs": [
    {
     "data": {
      "text/html": [
       "\n",
       "  <div id=\"df-b3e4c599-81ff-40c4-be20-28de08d59e8a\">\n",
       "    <div class=\"colab-df-container\">\n",
       "      <div>\n",
       "<style scoped>\n",
       "    .dataframe tbody tr th:only-of-type {\n",
       "        vertical-align: middle;\n",
       "    }\n",
       "\n",
       "    .dataframe tbody tr th {\n",
       "        vertical-align: top;\n",
       "    }\n",
       "\n",
       "    .dataframe thead th {\n",
       "        text-align: right;\n",
       "    }\n",
       "</style>\n",
       "<table border=\"1\" class=\"dataframe\">\n",
       "  <thead>\n",
       "    <tr style=\"text-align: right;\">\n",
       "      <th></th>\n",
       "      <th>Airline</th>\n",
       "      <th>Date_of_Journey</th>\n",
       "      <th>Source</th>\n",
       "      <th>Destination</th>\n",
       "      <th>Route</th>\n",
       "      <th>Dep_Time</th>\n",
       "      <th>Arrival_Time</th>\n",
       "      <th>Duration</th>\n",
       "      <th>Total_Stops</th>\n",
       "      <th>Additional_Info</th>\n",
       "      <th>Price</th>\n",
       "    </tr>\n",
       "  </thead>\n",
       "  <tbody>\n",
       "    <tr>\n",
       "      <th>6474</th>\n",
       "      <td>Air India</td>\n",
       "      <td>2019-06-03</td>\n",
       "      <td>Mumbai</td>\n",
       "      <td>Hyderabad</td>\n",
       "      <td>BOM → GOI → PNQ → HYD</td>\n",
       "      <td>2022-05-21 16:50:00</td>\n",
       "      <td>2022-05-21 16:55:00</td>\n",
       "      <td>5m</td>\n",
       "      <td>2 stops</td>\n",
       "      <td>No info</td>\n",
       "      <td>17327</td>\n",
       "    </tr>\n",
       "  </tbody>\n",
       "</table>\n",
       "</div>\n",
       "      <button class=\"colab-df-convert\" onclick=\"convertToInteractive('df-b3e4c599-81ff-40c4-be20-28de08d59e8a')\"\n",
       "              title=\"Convert this dataframe to an interactive table.\"\n",
       "              style=\"display:none;\">\n",
       "        \n",
       "  <svg xmlns=\"http://www.w3.org/2000/svg\" height=\"24px\"viewBox=\"0 0 24 24\"\n",
       "       width=\"24px\">\n",
       "    <path d=\"M0 0h24v24H0V0z\" fill=\"none\"/>\n",
       "    <path d=\"M18.56 5.44l.94 2.06.94-2.06 2.06-.94-2.06-.94-.94-2.06-.94 2.06-2.06.94zm-11 1L8.5 8.5l.94-2.06 2.06-.94-2.06-.94L8.5 2.5l-.94 2.06-2.06.94zm10 10l.94 2.06.94-2.06 2.06-.94-2.06-.94-.94-2.06-.94 2.06-2.06.94z\"/><path d=\"M17.41 7.96l-1.37-1.37c-.4-.4-.92-.59-1.43-.59-.52 0-1.04.2-1.43.59L10.3 9.45l-7.72 7.72c-.78.78-.78 2.05 0 2.83L4 21.41c.39.39.9.59 1.41.59.51 0 1.02-.2 1.41-.59l7.78-7.78 2.81-2.81c.8-.78.8-2.07 0-2.86zM5.41 20L4 18.59l7.72-7.72 1.47 1.35L5.41 20z\"/>\n",
       "  </svg>\n",
       "      </button>\n",
       "      \n",
       "  <style>\n",
       "    .colab-df-container {\n",
       "      display:flex;\n",
       "      flex-wrap:wrap;\n",
       "      gap: 12px;\n",
       "    }\n",
       "\n",
       "    .colab-df-convert {\n",
       "      background-color: #E8F0FE;\n",
       "      border: none;\n",
       "      border-radius: 50%;\n",
       "      cursor: pointer;\n",
       "      display: none;\n",
       "      fill: #1967D2;\n",
       "      height: 32px;\n",
       "      padding: 0 0 0 0;\n",
       "      width: 32px;\n",
       "    }\n",
       "\n",
       "    .colab-df-convert:hover {\n",
       "      background-color: #E2EBFA;\n",
       "      box-shadow: 0px 1px 2px rgba(60, 64, 67, 0.3), 0px 1px 3px 1px rgba(60, 64, 67, 0.15);\n",
       "      fill: #174EA6;\n",
       "    }\n",
       "\n",
       "    [theme=dark] .colab-df-convert {\n",
       "      background-color: #3B4455;\n",
       "      fill: #D2E3FC;\n",
       "    }\n",
       "\n",
       "    [theme=dark] .colab-df-convert:hover {\n",
       "      background-color: #434B5C;\n",
       "      box-shadow: 0px 1px 3px 1px rgba(0, 0, 0, 0.15);\n",
       "      filter: drop-shadow(0px 1px 2px rgba(0, 0, 0, 0.3));\n",
       "      fill: #FFFFFF;\n",
       "    }\n",
       "  </style>\n",
       "\n",
       "      <script>\n",
       "        const buttonEl =\n",
       "          document.querySelector('#df-b3e4c599-81ff-40c4-be20-28de08d59e8a button.colab-df-convert');\n",
       "        buttonEl.style.display =\n",
       "          google.colab.kernel.accessAllowed ? 'block' : 'none';\n",
       "\n",
       "        async function convertToInteractive(key) {\n",
       "          const element = document.querySelector('#df-b3e4c599-81ff-40c4-be20-28de08d59e8a');\n",
       "          const dataTable =\n",
       "            await google.colab.kernel.invokeFunction('convertToInteractive',\n",
       "                                                     [key], {});\n",
       "          if (!dataTable) return;\n",
       "\n",
       "          const docLinkHtml = 'Like what you see? Visit the ' +\n",
       "            '<a target=\"_blank\" href=https://colab.research.google.com/notebooks/data_table.ipynb>data table notebook</a>'\n",
       "            + ' to learn more about interactive tables.';\n",
       "          element.innerHTML = '';\n",
       "          dataTable['output_type'] = 'display_data';\n",
       "          await google.colab.output.renderOutput(dataTable, element);\n",
       "          const docLink = document.createElement('div');\n",
       "          docLink.innerHTML = docLinkHtml;\n",
       "          element.appendChild(docLink);\n",
       "        }\n",
       "      </script>\n",
       "    </div>\n",
       "  </div>\n",
       "  "
      ],
      "text/plain": [
       "        Airline Date_of_Journey  Source Destination                  Route  \\\n",
       "6474  Air India      2019-06-03  Mumbai   Hyderabad  BOM → GOI → PNQ → HYD   \n",
       "\n",
       "                Dep_Time        Arrival_Time Duration Total_Stops  \\\n",
       "6474 2022-05-21 16:50:00 2022-05-21 16:55:00       5m     2 stops   \n",
       "\n",
       "     Additional_Info  Price  \n",
       "6474         No info  17327  "
      ]
     },
     "execution_count": 34,
     "metadata": {},
     "output_type": "execute_result"
    }
   ],
   "source": [
    "df[df['Duration'] == '5m']"
   ]
  },
  {
   "cell_type": "code",
   "execution_count": null,
   "metadata": {
    "id": "3f4jalpBUwL8"
   },
   "outputs": [],
   "source": [
    "# df.loc[6474,\"Duration\"] = '5h'"
   ]
  },
  {
   "cell_type": "code",
   "execution_count": null,
   "metadata": {
    "id": "VWtUJreQVCtM"
   },
   "outputs": [],
   "source": [
    "# df.loc[6474,\"Duration\"]"
   ]
  },
  {
   "cell_type": "code",
   "execution_count": null,
   "metadata": {
    "id": "OjCiaVwWz-zB"
   },
   "outputs": [],
   "source": [
    "# Duration converted to Minutes.\n",
    "# def to_minutes(x):\n",
    "#     if len(x.split(\" \")) > 1:\n",
    "#         hour_value = int(x.split(\" \")[0].replace(\"h\",\"\"))\n",
    "#         minute_value = int(x.split(\" \")[1].replace(\"m\",\"\"))\n",
    "#     else:\n",
    "#         if x.endswith(\"h\"):\n",
    "#             hour_value = int(x.replace(\"h\",\"\"))\n",
    "#             minute_value = 0\n",
    "#         else:\n",
    "#             hour_value = 0\n",
    "#             minute_value = int(x.replace(\"m\",\"\"))\n",
    "#     duration = hour_value*60 + minute_value\n",
    "#     return duration\n",
    "\n",
    "def to_minutes(duration):\n",
    "      \"\"\"\n",
    "      This function converts hour minute duration to minutes.\n",
    "      Input: \n",
    "          duration: A duration value in format '2h 50m' 0r '3h' or '40m'\n",
    "      return : duration value in minutes\n",
    "      \"\"\"\n",
    "      try:\n",
    "          if len(duration.split(\" \")) > 1:\n",
    "              hour_value = int(duration.split(\" \")[0].replace(\"h\",\"\"))\n",
    "              minute_value = int(duration.split(\" \")[1].replace(\"m\",\"\"))\n",
    "          else:\n",
    "              if duration.endswith('h'):\n",
    "                  minute_value = 0\n",
    "                  hour_value = int(duration.replace(\"h\",\"\"))\n",
    "              elif duration.endswith('m'):\n",
    "                  minute_value = int(duration.replace(\"m\",\"\"))\n",
    "                  hour_value = 0\n",
    "      except (IndexError,ValueError) as e:\n",
    "          hour_value = np.nan\n",
    "          minute_value = np.nan\n",
    "      return hour_value*60  + minute_value"
   ]
  },
  {
   "cell_type": "code",
   "execution_count": null,
   "metadata": {
    "colab": {
     "base_uri": "https://localhost:8080/"
    },
    "id": "C73VMgBSKuTG",
    "outputId": "ec077330-7f12-4355-d7b6-b1ba42d05794"
   },
   "outputs": [
    {
     "data": {
      "text/plain": [
       "1 stop      53.766010\n",
       "non-stop    33.215446\n",
       "2 stops     12.597974\n",
       "3 stops      0.411011\n",
       "4 stops      0.009558\n",
       "Name: Total_Stops, dtype: float64"
      ]
     },
     "execution_count": 38,
     "metadata": {},
     "output_type": "execute_result"
    }
   ],
   "source": [
    "df['Total_Stops'].value_counts(normalize=True)*100"
   ]
  },
  {
   "cell_type": "code",
   "execution_count": null,
   "metadata": {
    "id": "MzQe0hm20E6Y"
   },
   "outputs": [],
   "source": [
    "# Total_Stops column converted to integer.\n",
    "stop_map = {\n",
    "    'non-stop': 0 ,\n",
    "    '2 stops' : 2 ,\n",
    "    '1 stop'  : 1 ,\n",
    "    '3 stops' : 3 ,\n",
    "    '4 stops' : 4\n",
    "}"
   ]
  },
  {
   "cell_type": "code",
   "execution_count": null,
   "metadata": {
    "id": "NOLDHjKaCTnn"
   },
   "outputs": [],
   "source": [
    "df['Duration'] = df['Duration'].apply(lambda x: to_minutes(x))"
   ]
  },
  {
   "cell_type": "code",
   "execution_count": null,
   "metadata": {
    "id": "oQmgRyERCQkz"
   },
   "outputs": [],
   "source": [
    "df['Total_Stops'] = df['Total_Stops'].replace(stop_map)"
   ]
  },
  {
   "cell_type": "code",
   "execution_count": null,
   "metadata": {
    "colab": {
     "base_uri": "https://localhost:8080/"
    },
    "id": "0Jx96Z4XyAuH",
    "outputId": "b40c7d28-a227-4cb6-e1c8-cf00de751618"
   },
   "outputs": [
    {
     "name": "stdout",
     "output_type": "stream",
     "text": [
      "<class 'pandas.core.frame.DataFrame'>\n",
      "Int64Index: 10463 entries, 0 to 10682\n",
      "Data columns (total 11 columns):\n",
      " #   Column           Non-Null Count  Dtype         \n",
      "---  ------           --------------  -----         \n",
      " 0   Airline          10463 non-null  object        \n",
      " 1   Date_of_Journey  10463 non-null  datetime64[ns]\n",
      " 2   Source           10463 non-null  object        \n",
      " 3   Destination      10463 non-null  object        \n",
      " 4   Route            10462 non-null  object        \n",
      " 5   Dep_Time         10463 non-null  datetime64[ns]\n",
      " 6   Arrival_Time     10463 non-null  datetime64[ns]\n",
      " 7   Duration         10463 non-null  int64         \n",
      " 8   Total_Stops      10462 non-null  float64       \n",
      " 9   Additional_Info  10463 non-null  object        \n",
      " 10  Price            10463 non-null  int64         \n",
      "dtypes: datetime64[ns](3), float64(1), int64(2), object(5)\n",
      "memory usage: 980.9+ KB\n"
     ]
    }
   ],
   "source": [
    "df.info()"
   ]
  },
  {
   "cell_type": "code",
   "execution_count": null,
   "metadata": {
    "id": "m8Zw0wpKxUTx"
   },
   "outputs": [],
   "source": [
    "## Buildng a sanity_check function\n",
    "def sanity_check(df,mode='train'):\n",
    "    '''\n",
    "      This function perform sanity and check create a dataframe.\n",
    "      Input:\n",
    "        df : Dataframe which require sanity-check\n",
    "        mode : train or predict\n",
    "      return : None\n",
    "    '''\n",
    "    if mode == 'train':\n",
    "        # Drop any duplicaties (check size before and after dropping duplicates.)\n",
    "        df.drop_duplicates(inplace=True)\n",
    "\n",
    "    # Date_of_Journey ,Arrival_Time and Dep_Time must be datetime object\n",
    "    df['Date_of_Journey'] = pd.to_datetime(df['Date_of_Journey'])\n",
    "    df['Arrival_Time'] = pd.to_datetime(df['Arrival_Time'])\n",
    "    df['Dep_Time'] = pd.to_datetime(df['Dep_Time'])\n",
    "\n",
    "    # Duration converted to Minutes.\n",
    "    df['Duration'] = df['Duration'].apply(lambda x: to_minutes(x))\n",
    "\n",
    "    # Total_Stops column converted to integer.\n",
    "    df['Total_Stops'] = df['Total_Stops'].replace(stop_map)"
   ]
  },
  {
   "cell_type": "code",
   "execution_count": null,
   "metadata": {
    "id": "-nvZyYEu6V2o"
   },
   "outputs": [],
   "source": [
    "# sanity_check(df)"
   ]
  },
  {
   "cell_type": "code",
   "execution_count": null,
   "metadata": {
    "colab": {
     "base_uri": "https://localhost:8080/"
    },
    "id": "0jers7w8M80L",
    "outputId": "e99a510b-35a1-4d6d-b348-bee78da4f9b4"
   },
   "outputs": [
    {
     "name": "stdout",
     "output_type": "stream",
     "text": [
      "<class 'pandas.core.frame.DataFrame'>\n",
      "Int64Index: 10463 entries, 0 to 10682\n",
      "Data columns (total 11 columns):\n",
      " #   Column           Non-Null Count  Dtype         \n",
      "---  ------           --------------  -----         \n",
      " 0   Airline          10463 non-null  object        \n",
      " 1   Date_of_Journey  10463 non-null  datetime64[ns]\n",
      " 2   Source           10463 non-null  object        \n",
      " 3   Destination      10463 non-null  object        \n",
      " 4   Route            10462 non-null  object        \n",
      " 5   Dep_Time         10463 non-null  datetime64[ns]\n",
      " 6   Arrival_Time     10463 non-null  datetime64[ns]\n",
      " 7   Duration         10463 non-null  int64         \n",
      " 8   Total_Stops      10462 non-null  float64       \n",
      " 9   Additional_Info  10463 non-null  object        \n",
      " 10  Price            10463 non-null  int64         \n",
      "dtypes: datetime64[ns](3), float64(1), int64(2), object(5)\n",
      "memory usage: 980.9+ KB\n"
     ]
    }
   ],
   "source": [
    "df.info()"
   ]
  },
  {
   "cell_type": "markdown",
   "metadata": {
    "id": "Zuo8thUkyfvj"
   },
   "source": [
    "# Handling Missing Values"
   ]
  },
  {
   "cell_type": "code",
   "execution_count": null,
   "metadata": {
    "colab": {
     "base_uri": "https://localhost:8080/"
    },
    "id": "gx1tP5fG1Cnb",
    "outputId": "b5ab7bca-4877-4bfe-e4a7-de67248b406d"
   },
   "outputs": [
    {
     "data": {
      "text/plain": [
       "Airline            0.000000\n",
       "Date_of_Journey    0.000000\n",
       "Source             0.000000\n",
       "Destination        0.000000\n",
       "Route              0.000096\n",
       "Dep_Time           0.000000\n",
       "Arrival_Time       0.000000\n",
       "Duration           0.000000\n",
       "Total_Stops        0.000096\n",
       "Additional_Info    0.000000\n",
       "Price              0.000000\n",
       "dtype: float64"
      ]
     },
     "execution_count": 46,
     "metadata": {},
     "output_type": "execute_result"
    }
   ],
   "source": [
    "# Check for missing values in the columns\n",
    "# Drop columns having more than 30% of data missing (and Justify)\n",
    "# Drop rows having NaN's or substitute using appropiate imputation starategy.\n",
    "df.isnull().sum()/len(df)"
   ]
  },
  {
   "cell_type": "code",
   "execution_count": null,
   "metadata": {
    "colab": {
     "base_uri": "https://localhost:8080/",
     "height": 49
    },
    "id": "frO2EBzgXa8J",
    "outputId": "347b5a3f-f47b-4cf7-cdce-8c23c1169c27"
   },
   "outputs": [
    {
     "data": {
      "text/html": [
       "\n",
       "  <div id=\"df-4f995660-6e63-40ac-85c9-237ec21478ae\">\n",
       "    <div class=\"colab-df-container\">\n",
       "      <div>\n",
       "<style scoped>\n",
       "    .dataframe tbody tr th:only-of-type {\n",
       "        vertical-align: middle;\n",
       "    }\n",
       "\n",
       "    .dataframe tbody tr th {\n",
       "        vertical-align: top;\n",
       "    }\n",
       "\n",
       "    .dataframe thead th {\n",
       "        text-align: right;\n",
       "    }\n",
       "</style>\n",
       "<table border=\"1\" class=\"dataframe\">\n",
       "  <thead>\n",
       "    <tr style=\"text-align: right;\">\n",
       "      <th></th>\n",
       "      <th>Airline</th>\n",
       "      <th>Date_of_Journey</th>\n",
       "      <th>Source</th>\n",
       "      <th>Destination</th>\n",
       "      <th>Route</th>\n",
       "      <th>Dep_Time</th>\n",
       "      <th>Arrival_Time</th>\n",
       "      <th>Duration</th>\n",
       "      <th>Total_Stops</th>\n",
       "      <th>Additional_Info</th>\n",
       "      <th>Price</th>\n",
       "    </tr>\n",
       "  </thead>\n",
       "  <tbody>\n",
       "  </tbody>\n",
       "</table>\n",
       "</div>\n",
       "      <button class=\"colab-df-convert\" onclick=\"convertToInteractive('df-4f995660-6e63-40ac-85c9-237ec21478ae')\"\n",
       "              title=\"Convert this dataframe to an interactive table.\"\n",
       "              style=\"display:none;\">\n",
       "        \n",
       "  <svg xmlns=\"http://www.w3.org/2000/svg\" height=\"24px\"viewBox=\"0 0 24 24\"\n",
       "       width=\"24px\">\n",
       "    <path d=\"M0 0h24v24H0V0z\" fill=\"none\"/>\n",
       "    <path d=\"M18.56 5.44l.94 2.06.94-2.06 2.06-.94-2.06-.94-.94-2.06-.94 2.06-2.06.94zm-11 1L8.5 8.5l.94-2.06 2.06-.94-2.06-.94L8.5 2.5l-.94 2.06-2.06.94zm10 10l.94 2.06.94-2.06 2.06-.94-2.06-.94-.94-2.06-.94 2.06-2.06.94z\"/><path d=\"M17.41 7.96l-1.37-1.37c-.4-.4-.92-.59-1.43-.59-.52 0-1.04.2-1.43.59L10.3 9.45l-7.72 7.72c-.78.78-.78 2.05 0 2.83L4 21.41c.39.39.9.59 1.41.59.51 0 1.02-.2 1.41-.59l7.78-7.78 2.81-2.81c.8-.78.8-2.07 0-2.86zM5.41 20L4 18.59l7.72-7.72 1.47 1.35L5.41 20z\"/>\n",
       "  </svg>\n",
       "      </button>\n",
       "      \n",
       "  <style>\n",
       "    .colab-df-container {\n",
       "      display:flex;\n",
       "      flex-wrap:wrap;\n",
       "      gap: 12px;\n",
       "    }\n",
       "\n",
       "    .colab-df-convert {\n",
       "      background-color: #E8F0FE;\n",
       "      border: none;\n",
       "      border-radius: 50%;\n",
       "      cursor: pointer;\n",
       "      display: none;\n",
       "      fill: #1967D2;\n",
       "      height: 32px;\n",
       "      padding: 0 0 0 0;\n",
       "      width: 32px;\n",
       "    }\n",
       "\n",
       "    .colab-df-convert:hover {\n",
       "      background-color: #E2EBFA;\n",
       "      box-shadow: 0px 1px 2px rgba(60, 64, 67, 0.3), 0px 1px 3px 1px rgba(60, 64, 67, 0.15);\n",
       "      fill: #174EA6;\n",
       "    }\n",
       "\n",
       "    [theme=dark] .colab-df-convert {\n",
       "      background-color: #3B4455;\n",
       "      fill: #D2E3FC;\n",
       "    }\n",
       "\n",
       "    [theme=dark] .colab-df-convert:hover {\n",
       "      background-color: #434B5C;\n",
       "      box-shadow: 0px 1px 3px 1px rgba(0, 0, 0, 0.15);\n",
       "      filter: drop-shadow(0px 1px 2px rgba(0, 0, 0, 0.3));\n",
       "      fill: #FFFFFF;\n",
       "    }\n",
       "  </style>\n",
       "\n",
       "      <script>\n",
       "        const buttonEl =\n",
       "          document.querySelector('#df-4f995660-6e63-40ac-85c9-237ec21478ae button.colab-df-convert');\n",
       "        buttonEl.style.display =\n",
       "          google.colab.kernel.accessAllowed ? 'block' : 'none';\n",
       "\n",
       "        async function convertToInteractive(key) {\n",
       "          const element = document.querySelector('#df-4f995660-6e63-40ac-85c9-237ec21478ae');\n",
       "          const dataTable =\n",
       "            await google.colab.kernel.invokeFunction('convertToInteractive',\n",
       "                                                     [key], {});\n",
       "          if (!dataTable) return;\n",
       "\n",
       "          const docLinkHtml = 'Like what you see? Visit the ' +\n",
       "            '<a target=\"_blank\" href=https://colab.research.google.com/notebooks/data_table.ipynb>data table notebook</a>'\n",
       "            + ' to learn more about interactive tables.';\n",
       "          element.innerHTML = '';\n",
       "          dataTable['output_type'] = 'display_data';\n",
       "          await google.colab.output.renderOutput(dataTable, element);\n",
       "          const docLink = document.createElement('div');\n",
       "          docLink.innerHTML = docLinkHtml;\n",
       "          element.appendChild(docLink);\n",
       "        }\n",
       "      </script>\n",
       "    </div>\n",
       "  </div>\n",
       "  "
      ],
      "text/plain": [
       "Empty DataFrame\n",
       "Columns: [Airline, Date_of_Journey, Source, Destination, Route, Dep_Time, Arrival_Time, Duration, Total_Stops, Additional_Info, Price]\n",
       "Index: []"
      ]
     },
     "execution_count": 47,
     "metadata": {},
     "output_type": "execute_result"
    }
   ],
   "source": [
    "# np.nan doesn't equate with np.nan so filtering nan values using np.nan is not a good strategy.\n",
    "df[df['Route'] == np.nan]"
   ]
  },
  {
   "cell_type": "code",
   "execution_count": null,
   "metadata": {
    "colab": {
     "base_uri": "https://localhost:8080/",
     "height": 300
    },
    "id": "m48bw9LtX8ot",
    "outputId": "4be8ab6c-cfc5-4759-f3fe-7e06664c4705"
   },
   "outputs": [
    {
     "data": {
      "text/html": [
       "\n",
       "  <div id=\"df-70e3c81e-941a-42fa-994c-23fd166d881c\">\n",
       "    <div class=\"colab-df-container\">\n",
       "      <div>\n",
       "<style scoped>\n",
       "    .dataframe tbody tr th:only-of-type {\n",
       "        vertical-align: middle;\n",
       "    }\n",
       "\n",
       "    .dataframe tbody tr th {\n",
       "        vertical-align: top;\n",
       "    }\n",
       "\n",
       "    .dataframe thead th {\n",
       "        text-align: right;\n",
       "    }\n",
       "</style>\n",
       "<table border=\"1\" class=\"dataframe\">\n",
       "  <thead>\n",
       "    <tr style=\"text-align: right;\">\n",
       "      <th></th>\n",
       "      <th>Duration</th>\n",
       "      <th>Total_Stops</th>\n",
       "      <th>Price</th>\n",
       "    </tr>\n",
       "  </thead>\n",
       "  <tbody>\n",
       "    <tr>\n",
       "      <th>count</th>\n",
       "      <td>4346.000000</td>\n",
       "      <td>4345.000000</td>\n",
       "      <td>4346.000000</td>\n",
       "    </tr>\n",
       "    <tr>\n",
       "      <th>mean</th>\n",
       "      <td>793.977220</td>\n",
       "      <td>1.174223</td>\n",
       "      <td>10460.914634</td>\n",
       "    </tr>\n",
       "    <tr>\n",
       "      <th>std</th>\n",
       "      <td>451.039785</td>\n",
       "      <td>0.502552</td>\n",
       "      <td>3817.579577</td>\n",
       "    </tr>\n",
       "    <tr>\n",
       "      <th>min</th>\n",
       "      <td>170.000000</td>\n",
       "      <td>0.000000</td>\n",
       "      <td>3876.000000</td>\n",
       "    </tr>\n",
       "    <tr>\n",
       "      <th>25%</th>\n",
       "      <td>455.000000</td>\n",
       "      <td>1.000000</td>\n",
       "      <td>7174.000000</td>\n",
       "    </tr>\n",
       "    <tr>\n",
       "      <th>50%</th>\n",
       "      <td>665.000000</td>\n",
       "      <td>1.000000</td>\n",
       "      <td>10262.000000</td>\n",
       "    </tr>\n",
       "    <tr>\n",
       "      <th>75%</th>\n",
       "      <td>1025.000000</td>\n",
       "      <td>1.000000</td>\n",
       "      <td>13292.000000</td>\n",
       "    </tr>\n",
       "    <tr>\n",
       "      <th>max</th>\n",
       "      <td>2860.000000</td>\n",
       "      <td>3.000000</td>\n",
       "      <td>52285.000000</td>\n",
       "    </tr>\n",
       "  </tbody>\n",
       "</table>\n",
       "</div>\n",
       "      <button class=\"colab-df-convert\" onclick=\"convertToInteractive('df-70e3c81e-941a-42fa-994c-23fd166d881c')\"\n",
       "              title=\"Convert this dataframe to an interactive table.\"\n",
       "              style=\"display:none;\">\n",
       "        \n",
       "  <svg xmlns=\"http://www.w3.org/2000/svg\" height=\"24px\"viewBox=\"0 0 24 24\"\n",
       "       width=\"24px\">\n",
       "    <path d=\"M0 0h24v24H0V0z\" fill=\"none\"/>\n",
       "    <path d=\"M18.56 5.44l.94 2.06.94-2.06 2.06-.94-2.06-.94-.94-2.06-.94 2.06-2.06.94zm-11 1L8.5 8.5l.94-2.06 2.06-.94-2.06-.94L8.5 2.5l-.94 2.06-2.06.94zm10 10l.94 2.06.94-2.06 2.06-.94-2.06-.94-.94-2.06-.94 2.06-2.06.94z\"/><path d=\"M17.41 7.96l-1.37-1.37c-.4-.4-.92-.59-1.43-.59-.52 0-1.04.2-1.43.59L10.3 9.45l-7.72 7.72c-.78.78-.78 2.05 0 2.83L4 21.41c.39.39.9.59 1.41.59.51 0 1.02-.2 1.41-.59l7.78-7.78 2.81-2.81c.8-.78.8-2.07 0-2.86zM5.41 20L4 18.59l7.72-7.72 1.47 1.35L5.41 20z\"/>\n",
       "  </svg>\n",
       "      </button>\n",
       "      \n",
       "  <style>\n",
       "    .colab-df-container {\n",
       "      display:flex;\n",
       "      flex-wrap:wrap;\n",
       "      gap: 12px;\n",
       "    }\n",
       "\n",
       "    .colab-df-convert {\n",
       "      background-color: #E8F0FE;\n",
       "      border: none;\n",
       "      border-radius: 50%;\n",
       "      cursor: pointer;\n",
       "      display: none;\n",
       "      fill: #1967D2;\n",
       "      height: 32px;\n",
       "      padding: 0 0 0 0;\n",
       "      width: 32px;\n",
       "    }\n",
       "\n",
       "    .colab-df-convert:hover {\n",
       "      background-color: #E2EBFA;\n",
       "      box-shadow: 0px 1px 2px rgba(60, 64, 67, 0.3), 0px 1px 3px 1px rgba(60, 64, 67, 0.15);\n",
       "      fill: #174EA6;\n",
       "    }\n",
       "\n",
       "    [theme=dark] .colab-df-convert {\n",
       "      background-color: #3B4455;\n",
       "      fill: #D2E3FC;\n",
       "    }\n",
       "\n",
       "    [theme=dark] .colab-df-convert:hover {\n",
       "      background-color: #434B5C;\n",
       "      box-shadow: 0px 1px 3px 1px rgba(0, 0, 0, 0.15);\n",
       "      filter: drop-shadow(0px 1px 2px rgba(0, 0, 0, 0.3));\n",
       "      fill: #FFFFFF;\n",
       "    }\n",
       "  </style>\n",
       "\n",
       "      <script>\n",
       "        const buttonEl =\n",
       "          document.querySelector('#df-70e3c81e-941a-42fa-994c-23fd166d881c button.colab-df-convert');\n",
       "        buttonEl.style.display =\n",
       "          google.colab.kernel.accessAllowed ? 'block' : 'none';\n",
       "\n",
       "        async function convertToInteractive(key) {\n",
       "          const element = document.querySelector('#df-70e3c81e-941a-42fa-994c-23fd166d881c');\n",
       "          const dataTable =\n",
       "            await google.colab.kernel.invokeFunction('convertToInteractive',\n",
       "                                                     [key], {});\n",
       "          if (!dataTable) return;\n",
       "\n",
       "          const docLinkHtml = 'Like what you see? Visit the ' +\n",
       "            '<a target=\"_blank\" href=https://colab.research.google.com/notebooks/data_table.ipynb>data table notebook</a>'\n",
       "            + ' to learn more about interactive tables.';\n",
       "          element.innerHTML = '';\n",
       "          dataTable['output_type'] = 'display_data';\n",
       "          await google.colab.output.renderOutput(dataTable, element);\n",
       "          const docLink = document.createElement('div');\n",
       "          docLink.innerHTML = docLinkHtml;\n",
       "          element.appendChild(docLink);\n",
       "        }\n",
       "      </script>\n",
       "    </div>\n",
       "  </div>\n",
       "  "
      ],
      "text/plain": [
       "          Duration  Total_Stops         Price\n",
       "count  4346.000000  4345.000000   4346.000000\n",
       "mean    793.977220     1.174223  10460.914634\n",
       "std     451.039785     0.502552   3817.579577\n",
       "min     170.000000     0.000000   3876.000000\n",
       "25%     455.000000     1.000000   7174.000000\n",
       "50%     665.000000     1.000000  10262.000000\n",
       "75%    1025.000000     1.000000  13292.000000\n",
       "max    2860.000000     3.000000  52285.000000"
      ]
     },
     "execution_count": 48,
     "metadata": {},
     "output_type": "execute_result"
    }
   ],
   "source": [
    "df[(df['Source']== 'Delhi') & (df['Destination']=='Cochin')].describe()"
   ]
  },
  {
   "cell_type": "code",
   "execution_count": null,
   "metadata": {
    "colab": {
     "base_uri": "https://localhost:8080/",
     "height": 175
    },
    "id": "HC9q90CSY43L",
    "outputId": "67d6c1f9-8f7f-4594-d71a-13dfe40a2723"
   },
   "outputs": [
    {
     "data": {
      "text/html": [
       "\n",
       "  <div id=\"df-39983c16-e32b-44ac-83d0-7ee351fc76c8\">\n",
       "    <div class=\"colab-df-container\">\n",
       "      <div>\n",
       "<style scoped>\n",
       "    .dataframe tbody tr th:only-of-type {\n",
       "        vertical-align: middle;\n",
       "    }\n",
       "\n",
       "    .dataframe tbody tr th {\n",
       "        vertical-align: top;\n",
       "    }\n",
       "\n",
       "    .dataframe thead th {\n",
       "        text-align: right;\n",
       "    }\n",
       "</style>\n",
       "<table border=\"1\" class=\"dataframe\">\n",
       "  <thead>\n",
       "    <tr style=\"text-align: right;\">\n",
       "      <th></th>\n",
       "      <th>Airline</th>\n",
       "      <th>Source</th>\n",
       "      <th>Destination</th>\n",
       "      <th>Route</th>\n",
       "      <th>Additional_Info</th>\n",
       "    </tr>\n",
       "  </thead>\n",
       "  <tbody>\n",
       "    <tr>\n",
       "      <th>count</th>\n",
       "      <td>4346</td>\n",
       "      <td>4346</td>\n",
       "      <td>4346</td>\n",
       "      <td>4345</td>\n",
       "      <td>4346</td>\n",
       "    </tr>\n",
       "    <tr>\n",
       "      <th>unique</th>\n",
       "      <td>10</td>\n",
       "      <td>1</td>\n",
       "      <td>1</td>\n",
       "      <td>30</td>\n",
       "      <td>4</td>\n",
       "    </tr>\n",
       "    <tr>\n",
       "      <th>top</th>\n",
       "      <td>Jet Airways</td>\n",
       "      <td>Delhi</td>\n",
       "      <td>Cochin</td>\n",
       "      <td>DEL → BOM → COK</td>\n",
       "      <td>No info</td>\n",
       "    </tr>\n",
       "    <tr>\n",
       "      <th>freq</th>\n",
       "      <td>1438</td>\n",
       "      <td>4346</td>\n",
       "      <td>4346</td>\n",
       "      <td>2376</td>\n",
       "      <td>3477</td>\n",
       "    </tr>\n",
       "  </tbody>\n",
       "</table>\n",
       "</div>\n",
       "      <button class=\"colab-df-convert\" onclick=\"convertToInteractive('df-39983c16-e32b-44ac-83d0-7ee351fc76c8')\"\n",
       "              title=\"Convert this dataframe to an interactive table.\"\n",
       "              style=\"display:none;\">\n",
       "        \n",
       "  <svg xmlns=\"http://www.w3.org/2000/svg\" height=\"24px\"viewBox=\"0 0 24 24\"\n",
       "       width=\"24px\">\n",
       "    <path d=\"M0 0h24v24H0V0z\" fill=\"none\"/>\n",
       "    <path d=\"M18.56 5.44l.94 2.06.94-2.06 2.06-.94-2.06-.94-.94-2.06-.94 2.06-2.06.94zm-11 1L8.5 8.5l.94-2.06 2.06-.94-2.06-.94L8.5 2.5l-.94 2.06-2.06.94zm10 10l.94 2.06.94-2.06 2.06-.94-2.06-.94-.94-2.06-.94 2.06-2.06.94z\"/><path d=\"M17.41 7.96l-1.37-1.37c-.4-.4-.92-.59-1.43-.59-.52 0-1.04.2-1.43.59L10.3 9.45l-7.72 7.72c-.78.78-.78 2.05 0 2.83L4 21.41c.39.39.9.59 1.41.59.51 0 1.02-.2 1.41-.59l7.78-7.78 2.81-2.81c.8-.78.8-2.07 0-2.86zM5.41 20L4 18.59l7.72-7.72 1.47 1.35L5.41 20z\"/>\n",
       "  </svg>\n",
       "      </button>\n",
       "      \n",
       "  <style>\n",
       "    .colab-df-container {\n",
       "      display:flex;\n",
       "      flex-wrap:wrap;\n",
       "      gap: 12px;\n",
       "    }\n",
       "\n",
       "    .colab-df-convert {\n",
       "      background-color: #E8F0FE;\n",
       "      border: none;\n",
       "      border-radius: 50%;\n",
       "      cursor: pointer;\n",
       "      display: none;\n",
       "      fill: #1967D2;\n",
       "      height: 32px;\n",
       "      padding: 0 0 0 0;\n",
       "      width: 32px;\n",
       "    }\n",
       "\n",
       "    .colab-df-convert:hover {\n",
       "      background-color: #E2EBFA;\n",
       "      box-shadow: 0px 1px 2px rgba(60, 64, 67, 0.3), 0px 1px 3px 1px rgba(60, 64, 67, 0.15);\n",
       "      fill: #174EA6;\n",
       "    }\n",
       "\n",
       "    [theme=dark] .colab-df-convert {\n",
       "      background-color: #3B4455;\n",
       "      fill: #D2E3FC;\n",
       "    }\n",
       "\n",
       "    [theme=dark] .colab-df-convert:hover {\n",
       "      background-color: #434B5C;\n",
       "      box-shadow: 0px 1px 3px 1px rgba(0, 0, 0, 0.15);\n",
       "      filter: drop-shadow(0px 1px 2px rgba(0, 0, 0, 0.3));\n",
       "      fill: #FFFFFF;\n",
       "    }\n",
       "  </style>\n",
       "\n",
       "      <script>\n",
       "        const buttonEl =\n",
       "          document.querySelector('#df-39983c16-e32b-44ac-83d0-7ee351fc76c8 button.colab-df-convert');\n",
       "        buttonEl.style.display =\n",
       "          google.colab.kernel.accessAllowed ? 'block' : 'none';\n",
       "\n",
       "        async function convertToInteractive(key) {\n",
       "          const element = document.querySelector('#df-39983c16-e32b-44ac-83d0-7ee351fc76c8');\n",
       "          const dataTable =\n",
       "            await google.colab.kernel.invokeFunction('convertToInteractive',\n",
       "                                                     [key], {});\n",
       "          if (!dataTable) return;\n",
       "\n",
       "          const docLinkHtml = 'Like what you see? Visit the ' +\n",
       "            '<a target=\"_blank\" href=https://colab.research.google.com/notebooks/data_table.ipynb>data table notebook</a>'\n",
       "            + ' to learn more about interactive tables.';\n",
       "          element.innerHTML = '';\n",
       "          dataTable['output_type'] = 'display_data';\n",
       "          await google.colab.output.renderOutput(dataTable, element);\n",
       "          const docLink = document.createElement('div');\n",
       "          docLink.innerHTML = docLinkHtml;\n",
       "          element.appendChild(docLink);\n",
       "        }\n",
       "      </script>\n",
       "    </div>\n",
       "  </div>\n",
       "  "
      ],
      "text/plain": [
       "            Airline Source Destination            Route Additional_Info\n",
       "count          4346   4346        4346             4345            4346\n",
       "unique           10      1           1               30               4\n",
       "top     Jet Airways  Delhi      Cochin  DEL → BOM → COK         No info\n",
       "freq           1438   4346        4346             2376            3477"
      ]
     },
     "execution_count": 49,
     "metadata": {},
     "output_type": "execute_result"
    }
   ],
   "source": [
    "df[(df['Source']== 'Delhi') & (df['Destination']=='Cochin')].describe(include=object)"
   ]
  },
  {
   "cell_type": "code",
   "execution_count": null,
   "metadata": {
    "colab": {
     "base_uri": "https://localhost:8080/",
     "height": 81
    },
    "id": "HkqnO3Nd1Jf-",
    "outputId": "966e7a03-faec-4f15-a169-30d37d8fe5d4"
   },
   "outputs": [
    {
     "data": {
      "text/html": [
       "\n",
       "  <div id=\"df-e4b09983-34a4-4901-b3a3-2997686d2499\">\n",
       "    <div class=\"colab-df-container\">\n",
       "      <div>\n",
       "<style scoped>\n",
       "    .dataframe tbody tr th:only-of-type {\n",
       "        vertical-align: middle;\n",
       "    }\n",
       "\n",
       "    .dataframe tbody tr th {\n",
       "        vertical-align: top;\n",
       "    }\n",
       "\n",
       "    .dataframe thead th {\n",
       "        text-align: right;\n",
       "    }\n",
       "</style>\n",
       "<table border=\"1\" class=\"dataframe\">\n",
       "  <thead>\n",
       "    <tr style=\"text-align: right;\">\n",
       "      <th></th>\n",
       "      <th>Airline</th>\n",
       "      <th>Date_of_Journey</th>\n",
       "      <th>Source</th>\n",
       "      <th>Destination</th>\n",
       "      <th>Route</th>\n",
       "      <th>Dep_Time</th>\n",
       "      <th>Arrival_Time</th>\n",
       "      <th>Duration</th>\n",
       "      <th>Total_Stops</th>\n",
       "      <th>Additional_Info</th>\n",
       "      <th>Price</th>\n",
       "    </tr>\n",
       "  </thead>\n",
       "  <tbody>\n",
       "    <tr>\n",
       "      <th>9039</th>\n",
       "      <td>Air India</td>\n",
       "      <td>2019-06-05</td>\n",
       "      <td>Delhi</td>\n",
       "      <td>Cochin</td>\n",
       "      <td>NaN</td>\n",
       "      <td>2022-05-21 09:45:00</td>\n",
       "      <td>2022-05-07 09:25:00</td>\n",
       "      <td>1420</td>\n",
       "      <td>NaN</td>\n",
       "      <td>No info</td>\n",
       "      <td>7480</td>\n",
       "    </tr>\n",
       "  </tbody>\n",
       "</table>\n",
       "</div>\n",
       "      <button class=\"colab-df-convert\" onclick=\"convertToInteractive('df-e4b09983-34a4-4901-b3a3-2997686d2499')\"\n",
       "              title=\"Convert this dataframe to an interactive table.\"\n",
       "              style=\"display:none;\">\n",
       "        \n",
       "  <svg xmlns=\"http://www.w3.org/2000/svg\" height=\"24px\"viewBox=\"0 0 24 24\"\n",
       "       width=\"24px\">\n",
       "    <path d=\"M0 0h24v24H0V0z\" fill=\"none\"/>\n",
       "    <path d=\"M18.56 5.44l.94 2.06.94-2.06 2.06-.94-2.06-.94-.94-2.06-.94 2.06-2.06.94zm-11 1L8.5 8.5l.94-2.06 2.06-.94-2.06-.94L8.5 2.5l-.94 2.06-2.06.94zm10 10l.94 2.06.94-2.06 2.06-.94-2.06-.94-.94-2.06-.94 2.06-2.06.94z\"/><path d=\"M17.41 7.96l-1.37-1.37c-.4-.4-.92-.59-1.43-.59-.52 0-1.04.2-1.43.59L10.3 9.45l-7.72 7.72c-.78.78-.78 2.05 0 2.83L4 21.41c.39.39.9.59 1.41.59.51 0 1.02-.2 1.41-.59l7.78-7.78 2.81-2.81c.8-.78.8-2.07 0-2.86zM5.41 20L4 18.59l7.72-7.72 1.47 1.35L5.41 20z\"/>\n",
       "  </svg>\n",
       "      </button>\n",
       "      \n",
       "  <style>\n",
       "    .colab-df-container {\n",
       "      display:flex;\n",
       "      flex-wrap:wrap;\n",
       "      gap: 12px;\n",
       "    }\n",
       "\n",
       "    .colab-df-convert {\n",
       "      background-color: #E8F0FE;\n",
       "      border: none;\n",
       "      border-radius: 50%;\n",
       "      cursor: pointer;\n",
       "      display: none;\n",
       "      fill: #1967D2;\n",
       "      height: 32px;\n",
       "      padding: 0 0 0 0;\n",
       "      width: 32px;\n",
       "    }\n",
       "\n",
       "    .colab-df-convert:hover {\n",
       "      background-color: #E2EBFA;\n",
       "      box-shadow: 0px 1px 2px rgba(60, 64, 67, 0.3), 0px 1px 3px 1px rgba(60, 64, 67, 0.15);\n",
       "      fill: #174EA6;\n",
       "    }\n",
       "\n",
       "    [theme=dark] .colab-df-convert {\n",
       "      background-color: #3B4455;\n",
       "      fill: #D2E3FC;\n",
       "    }\n",
       "\n",
       "    [theme=dark] .colab-df-convert:hover {\n",
       "      background-color: #434B5C;\n",
       "      box-shadow: 0px 1px 3px 1px rgba(0, 0, 0, 0.15);\n",
       "      filter: drop-shadow(0px 1px 2px rgba(0, 0, 0, 0.3));\n",
       "      fill: #FFFFFF;\n",
       "    }\n",
       "  </style>\n",
       "\n",
       "      <script>\n",
       "        const buttonEl =\n",
       "          document.querySelector('#df-e4b09983-34a4-4901-b3a3-2997686d2499 button.colab-df-convert');\n",
       "        buttonEl.style.display =\n",
       "          google.colab.kernel.accessAllowed ? 'block' : 'none';\n",
       "\n",
       "        async function convertToInteractive(key) {\n",
       "          const element = document.querySelector('#df-e4b09983-34a4-4901-b3a3-2997686d2499');\n",
       "          const dataTable =\n",
       "            await google.colab.kernel.invokeFunction('convertToInteractive',\n",
       "                                                     [key], {});\n",
       "          if (!dataTable) return;\n",
       "\n",
       "          const docLinkHtml = 'Like what you see? Visit the ' +\n",
       "            '<a target=\"_blank\" href=https://colab.research.google.com/notebooks/data_table.ipynb>data table notebook</a>'\n",
       "            + ' to learn more about interactive tables.';\n",
       "          element.innerHTML = '';\n",
       "          dataTable['output_type'] = 'display_data';\n",
       "          await google.colab.output.renderOutput(dataTable, element);\n",
       "          const docLink = document.createElement('div');\n",
       "          docLink.innerHTML = docLinkHtml;\n",
       "          element.appendChild(docLink);\n",
       "        }\n",
       "      </script>\n",
       "    </div>\n",
       "  </div>\n",
       "  "
      ],
      "text/plain": [
       "        Airline Date_of_Journey Source Destination Route            Dep_Time  \\\n",
       "9039  Air India      2019-06-05  Delhi      Cochin   NaN 2022-05-21 09:45:00   \n",
       "\n",
       "            Arrival_Time  Duration  Total_Stops Additional_Info  Price  \n",
       "9039 2022-05-07 09:25:00      1420          NaN         No info   7480  "
      ]
     },
     "execution_count": 50,
     "metadata": {},
     "output_type": "execute_result"
    }
   ],
   "source": [
    "# Route and Total_Stops seems to have missing value check rows and decide what would be appropiate.\n",
    "df[df['Route'].isna()]"
   ]
  },
  {
   "cell_type": "code",
   "execution_count": null,
   "metadata": {
    "colab": {
     "base_uri": "https://localhost:8080/",
     "height": 81
    },
    "id": "J-gn69Ah2LQp",
    "outputId": "6c22ba02-dc45-4468-f8f1-784bd7b081c3"
   },
   "outputs": [
    {
     "data": {
      "text/html": [
       "\n",
       "  <div id=\"df-7dd8183e-a533-4822-9bb4-3b97ac3ae331\">\n",
       "    <div class=\"colab-df-container\">\n",
       "      <div>\n",
       "<style scoped>\n",
       "    .dataframe tbody tr th:only-of-type {\n",
       "        vertical-align: middle;\n",
       "    }\n",
       "\n",
       "    .dataframe tbody tr th {\n",
       "        vertical-align: top;\n",
       "    }\n",
       "\n",
       "    .dataframe thead th {\n",
       "        text-align: right;\n",
       "    }\n",
       "</style>\n",
       "<table border=\"1\" class=\"dataframe\">\n",
       "  <thead>\n",
       "    <tr style=\"text-align: right;\">\n",
       "      <th></th>\n",
       "      <th>Airline</th>\n",
       "      <th>Date_of_Journey</th>\n",
       "      <th>Source</th>\n",
       "      <th>Destination</th>\n",
       "      <th>Route</th>\n",
       "      <th>Dep_Time</th>\n",
       "      <th>Arrival_Time</th>\n",
       "      <th>Duration</th>\n",
       "      <th>Total_Stops</th>\n",
       "      <th>Additional_Info</th>\n",
       "      <th>Price</th>\n",
       "    </tr>\n",
       "  </thead>\n",
       "  <tbody>\n",
       "    <tr>\n",
       "      <th>9039</th>\n",
       "      <td>Air India</td>\n",
       "      <td>2019-06-05</td>\n",
       "      <td>Delhi</td>\n",
       "      <td>Cochin</td>\n",
       "      <td>NaN</td>\n",
       "      <td>2022-05-21 09:45:00</td>\n",
       "      <td>2022-05-07 09:25:00</td>\n",
       "      <td>1420</td>\n",
       "      <td>NaN</td>\n",
       "      <td>No info</td>\n",
       "      <td>7480</td>\n",
       "    </tr>\n",
       "  </tbody>\n",
       "</table>\n",
       "</div>\n",
       "      <button class=\"colab-df-convert\" onclick=\"convertToInteractive('df-7dd8183e-a533-4822-9bb4-3b97ac3ae331')\"\n",
       "              title=\"Convert this dataframe to an interactive table.\"\n",
       "              style=\"display:none;\">\n",
       "        \n",
       "  <svg xmlns=\"http://www.w3.org/2000/svg\" height=\"24px\"viewBox=\"0 0 24 24\"\n",
       "       width=\"24px\">\n",
       "    <path d=\"M0 0h24v24H0V0z\" fill=\"none\"/>\n",
       "    <path d=\"M18.56 5.44l.94 2.06.94-2.06 2.06-.94-2.06-.94-.94-2.06-.94 2.06-2.06.94zm-11 1L8.5 8.5l.94-2.06 2.06-.94-2.06-.94L8.5 2.5l-.94 2.06-2.06.94zm10 10l.94 2.06.94-2.06 2.06-.94-2.06-.94-.94-2.06-.94 2.06-2.06.94z\"/><path d=\"M17.41 7.96l-1.37-1.37c-.4-.4-.92-.59-1.43-.59-.52 0-1.04.2-1.43.59L10.3 9.45l-7.72 7.72c-.78.78-.78 2.05 0 2.83L4 21.41c.39.39.9.59 1.41.59.51 0 1.02-.2 1.41-.59l7.78-7.78 2.81-2.81c.8-.78.8-2.07 0-2.86zM5.41 20L4 18.59l7.72-7.72 1.47 1.35L5.41 20z\"/>\n",
       "  </svg>\n",
       "      </button>\n",
       "      \n",
       "  <style>\n",
       "    .colab-df-container {\n",
       "      display:flex;\n",
       "      flex-wrap:wrap;\n",
       "      gap: 12px;\n",
       "    }\n",
       "\n",
       "    .colab-df-convert {\n",
       "      background-color: #E8F0FE;\n",
       "      border: none;\n",
       "      border-radius: 50%;\n",
       "      cursor: pointer;\n",
       "      display: none;\n",
       "      fill: #1967D2;\n",
       "      height: 32px;\n",
       "      padding: 0 0 0 0;\n",
       "      width: 32px;\n",
       "    }\n",
       "\n",
       "    .colab-df-convert:hover {\n",
       "      background-color: #E2EBFA;\n",
       "      box-shadow: 0px 1px 2px rgba(60, 64, 67, 0.3), 0px 1px 3px 1px rgba(60, 64, 67, 0.15);\n",
       "      fill: #174EA6;\n",
       "    }\n",
       "\n",
       "    [theme=dark] .colab-df-convert {\n",
       "      background-color: #3B4455;\n",
       "      fill: #D2E3FC;\n",
       "    }\n",
       "\n",
       "    [theme=dark] .colab-df-convert:hover {\n",
       "      background-color: #434B5C;\n",
       "      box-shadow: 0px 1px 3px 1px rgba(0, 0, 0, 0.15);\n",
       "      filter: drop-shadow(0px 1px 2px rgba(0, 0, 0, 0.3));\n",
       "      fill: #FFFFFF;\n",
       "    }\n",
       "  </style>\n",
       "\n",
       "      <script>\n",
       "        const buttonEl =\n",
       "          document.querySelector('#df-7dd8183e-a533-4822-9bb4-3b97ac3ae331 button.colab-df-convert');\n",
       "        buttonEl.style.display =\n",
       "          google.colab.kernel.accessAllowed ? 'block' : 'none';\n",
       "\n",
       "        async function convertToInteractive(key) {\n",
       "          const element = document.querySelector('#df-7dd8183e-a533-4822-9bb4-3b97ac3ae331');\n",
       "          const dataTable =\n",
       "            await google.colab.kernel.invokeFunction('convertToInteractive',\n",
       "                                                     [key], {});\n",
       "          if (!dataTable) return;\n",
       "\n",
       "          const docLinkHtml = 'Like what you see? Visit the ' +\n",
       "            '<a target=\"_blank\" href=https://colab.research.google.com/notebooks/data_table.ipynb>data table notebook</a>'\n",
       "            + ' to learn more about interactive tables.';\n",
       "          element.innerHTML = '';\n",
       "          dataTable['output_type'] = 'display_data';\n",
       "          await google.colab.output.renderOutput(dataTable, element);\n",
       "          const docLink = document.createElement('div');\n",
       "          docLink.innerHTML = docLinkHtml;\n",
       "          element.appendChild(docLink);\n",
       "        }\n",
       "      </script>\n",
       "    </div>\n",
       "  </div>\n",
       "  "
      ],
      "text/plain": [
       "        Airline Date_of_Journey Source Destination Route            Dep_Time  \\\n",
       "9039  Air India      2019-06-05  Delhi      Cochin   NaN 2022-05-21 09:45:00   \n",
       "\n",
       "            Arrival_Time  Duration  Total_Stops Additional_Info  Price  \n",
       "9039 2022-05-07 09:25:00      1420          NaN         No info   7480  "
      ]
     },
     "execution_count": 51,
     "metadata": {},
     "output_type": "execute_result"
    }
   ],
   "source": [
    "df[df['Total_Stops'].isna()]"
   ]
  },
  {
   "cell_type": "code",
   "execution_count": null,
   "metadata": {
    "id": "oL6G125a2RJt"
   },
   "outputs": [],
   "source": [
    "# Seems to be the same row and make sense  if you don't have route can't decide on stops.\n",
    "# It would be appropiate to drop them in this case.\n",
    "df.dropna(inplace=True)"
   ]
  },
  {
   "cell_type": "code",
   "execution_count": null,
   "metadata": {
    "colab": {
     "base_uri": "https://localhost:8080/"
    },
    "id": "MOxjLcQE2ryQ",
    "outputId": "5596e8cb-6605-41c5-9c8f-2a83fe3acbcc"
   },
   "outputs": [
    {
     "data": {
      "text/plain": [
       "Airline            0.0\n",
       "Date_of_Journey    0.0\n",
       "Source             0.0\n",
       "Destination        0.0\n",
       "Route              0.0\n",
       "Dep_Time           0.0\n",
       "Arrival_Time       0.0\n",
       "Duration           0.0\n",
       "Total_Stops        0.0\n",
       "Additional_Info    0.0\n",
       "Price              0.0\n",
       "dtype: float64"
      ]
     },
     "execution_count": 53,
     "metadata": {},
     "output_type": "execute_result"
    }
   ],
   "source": [
    "# All null values seems to be removed.\n",
    "## Note: (Always verify count of rows before and after droping rows [check len(df)].)\n",
    "df.isnull().sum()/len(df)"
   ]
  },
  {
   "cell_type": "code",
   "execution_count": null,
   "metadata": {
    "colab": {
     "base_uri": "https://localhost:8080/"
    },
    "id": "02wGLNDiaGHh",
    "outputId": "a4285c2b-3058-4d06-f755-d7d18d82f35c"
   },
   "outputs": [
    {
     "data": {
      "text/plain": [
       "10462"
      ]
     },
     "execution_count": 54,
     "metadata": {},
     "output_type": "execute_result"
    }
   ],
   "source": [
    "len(df)"
   ]
  },
  {
   "cell_type": "code",
   "execution_count": null,
   "metadata": {
    "colab": {
     "base_uri": "https://localhost:8080/"
    },
    "id": "lq5u7ZV-2vIr",
    "outputId": "9f6d9d75-6361-4376-d408-4949715fb00f"
   },
   "outputs": [
    {
     "data": {
      "text/plain": [
       "No info                         78.206844\n",
       "In-flight meal not included     18.409482\n",
       "No check-in baggage included     3.039572\n",
       "1 Long layover                   0.181610\n",
       "Change airports                  0.066909\n",
       "Business class                   0.038234\n",
       "No Info                          0.028675\n",
       "1 Short layover                  0.009558\n",
       "Red-eye flight                   0.009558\n",
       "2 Long layover                   0.009558\n",
       "Name: Additional_Info, dtype: float64"
      ]
     },
     "execution_count": 55,
     "metadata": {},
     "output_type": "execute_result"
    }
   ],
   "source": [
    "# Additional investigtion into columns Additional_Info , suggest many entries have 'No info'.\n",
    "# Value 'No info' is as good as empty or NA values\n",
    "df['Additional_Info'].value_counts(normalize=True)*100"
   ]
  },
  {
   "cell_type": "code",
   "execution_count": null,
   "metadata": {
    "id": "TuqTww0v3XOC"
   },
   "outputs": [],
   "source": [
    "# Dropping Additional_Info columns as around 78% of values are not provided.\n",
    "df.drop('Additional_Info',axis=1,inplace=True)"
   ]
  },
  {
   "cell_type": "code",
   "execution_count": null,
   "metadata": {
    "colab": {
     "base_uri": "https://localhost:8080/"
    },
    "id": "s9M8S1OV36Qb",
    "outputId": "91c08e96-6cc4-4794-a9cc-ef93a8a3ee00"
   },
   "outputs": [
    {
     "name": "stdout",
     "output_type": "stream",
     "text": [
      "<class 'pandas.core.frame.DataFrame'>\n",
      "Int64Index: 10462 entries, 0 to 10682\n",
      "Data columns (total 10 columns):\n",
      " #   Column           Non-Null Count  Dtype         \n",
      "---  ------           --------------  -----         \n",
      " 0   Airline          10462 non-null  object        \n",
      " 1   Date_of_Journey  10462 non-null  datetime64[ns]\n",
      " 2   Source           10462 non-null  object        \n",
      " 3   Destination      10462 non-null  object        \n",
      " 4   Route            10462 non-null  object        \n",
      " 5   Dep_Time         10462 non-null  datetime64[ns]\n",
      " 6   Arrival_Time     10462 non-null  datetime64[ns]\n",
      " 7   Duration         10462 non-null  int64         \n",
      " 8   Total_Stops      10462 non-null  float64       \n",
      " 9   Price            10462 non-null  int64         \n",
      "dtypes: datetime64[ns](3), float64(1), int64(2), object(4)\n",
      "memory usage: 899.1+ KB\n"
     ]
    }
   ],
   "source": [
    "df.info()"
   ]
  },
  {
   "cell_type": "code",
   "execution_count": null,
   "metadata": {
    "id": "lkCZF_6pyyYk"
   },
   "outputs": [],
   "source": [
    "## Building function to handle missing value\n",
    "def handle_missing_value(df,mode='train'):\n",
    "    '''\n",
    "      This function handles missing value create a dataframe.\n",
    "      Input:\n",
    "        df : Dataframe which require missing value treatment\n",
    "        mode : train or predict\n",
    "      returns :\n",
    "         Dataframe with all missing value handled.\n",
    "    '''\n",
    "    if mode == 'train':\n",
    "        # Seems to be the same row and make sense  if you don't have route can't decide on stops.\n",
    "        # It would be appropiate to drop them in this case.\n",
    "        df.dropna(inplace=True)\n",
    "\n",
    "    # Dropping Additional_Info columns as around 78% of values are not provided.\n",
    "    df.drop('Additional_Info',axis=1,inplace=True)\n"
   ]
  },
  {
   "cell_type": "code",
   "execution_count": null,
   "metadata": {
    "colab": {
     "base_uri": "https://localhost:8080/"
    },
    "id": "79p_O_kR6zkM",
    "outputId": "699d76d4-0002-464f-b66c-f9bc030ca5f2"
   },
   "outputs": [
    {
     "name": "stdout",
     "output_type": "stream",
     "text": [
      "<class 'pandas.core.frame.DataFrame'>\n",
      "Int64Index: 10462 entries, 0 to 10682\n",
      "Data columns (total 10 columns):\n",
      " #   Column           Non-Null Count  Dtype         \n",
      "---  ------           --------------  -----         \n",
      " 0   Airline          10462 non-null  object        \n",
      " 1   Date_of_Journey  10462 non-null  datetime64[ns]\n",
      " 2   Source           10462 non-null  object        \n",
      " 3   Destination      10462 non-null  object        \n",
      " 4   Route            10462 non-null  object        \n",
      " 5   Dep_Time         10462 non-null  datetime64[ns]\n",
      " 6   Arrival_Time     10462 non-null  datetime64[ns]\n",
      " 7   Duration         10462 non-null  int64         \n",
      " 8   Total_Stops      10462 non-null  float64       \n",
      " 9   Price            10462 non-null  int64         \n",
      "dtypes: datetime64[ns](3), float64(1), int64(2), object(4)\n",
      "memory usage: 899.1+ KB\n"
     ]
    }
   ],
   "source": [
    "df.info()"
   ]
  },
  {
   "cell_type": "code",
   "execution_count": null,
   "metadata": {
    "id": "tnq_Lkl_63Pd"
   },
   "outputs": [],
   "source": [
    "# handle_missing_value(df)"
   ]
  },
  {
   "cell_type": "markdown",
   "metadata": {
    "id": "fEp8VATA39rn"
   },
   "source": [
    "# Handling Categorical Attributes"
   ]
  },
  {
   "cell_type": "code",
   "execution_count": null,
   "metadata": {
    "id": "MqPC_nnL4Kqb"
   },
   "outputs": [],
   "source": [
    "object_columns = df.select_dtypes(object).columns"
   ]
  },
  {
   "cell_type": "code",
   "execution_count": null,
   "metadata": {
    "colab": {
     "base_uri": "https://localhost:8080/"
    },
    "id": "vtqUHTU_pt2F",
    "outputId": "83ee3d0a-a6d8-4816-a446-e715f85e4ba7"
   },
   "outputs": [
    {
     "data": {
      "text/plain": [
       "Index(['Airline', 'Source', 'Destination', 'Route'], dtype='object')"
      ]
     },
     "execution_count": 61,
     "metadata": {},
     "output_type": "execute_result"
    }
   ],
   "source": [
    "object_columns"
   ]
  },
  {
   "cell_type": "code",
   "execution_count": null,
   "metadata": {
    "colab": {
     "base_uri": "https://localhost:8080/"
    },
    "id": "TN9BclBP4Tol",
    "outputId": "1e7f6106-ae7f-4758-ea8e-67ebbe755e16"
   },
   "outputs": [
    {
     "name": "stdout",
     "output_type": "stream",
     "text": [
      "Value counts for Airline are as below: \n",
      "Jet Airways                          35.366087\n",
      "IndiGo                               19.527815\n",
      "Air India                            16.191933\n",
      "Multiple carriers                    11.431849\n",
      "SpiceJet                              7.790097\n",
      "Vistara                               4.568916\n",
      "Air Asia                              3.049130\n",
      "GoAir                                 1.854330\n",
      "Multiple carriers Premium economy     0.124259\n",
      "Jet Airways Business                  0.057350\n",
      "Vistara Premium economy               0.028675\n",
      "Trujet                                0.009558\n",
      "Name: Airline, dtype: float64\n",
      "and ,\n",
      "No. of unique values for Airline is 12\n",
      "--------------------------------------------------------------------------------\n",
      "Value counts for Source are as below: \n",
      "Delhi       41.531256\n",
      "Kolkata     27.337029\n",
      "Banglore    20.827758\n",
      "Mumbai       6.662206\n",
      "Chennai      3.641751\n",
      "Name: Source, dtype: float64\n",
      "and ,\n",
      "No. of unique values for Source is 5\n",
      "--------------------------------------------------------------------------------\n",
      "Value counts for Destination are as below: \n",
      "Cochin       41.531256\n",
      "Banglore     27.337029\n",
      "Delhi        12.091378\n",
      "New Delhi     8.736379\n",
      "Hyderabad     6.662206\n",
      "Kolkata       3.641751\n",
      "Name: Destination, dtype: float64\n",
      "and ,\n",
      "No. of unique values for Destination is 6\n",
      "--------------------------------------------------------------------------------\n",
      "Value counts for Route are as below: \n",
      "DEL → BOM → COK          22.710763\n",
      "BLR → DEL                14.681705\n",
      "CCU → BOM → BLR           9.357675\n",
      "CCU → BLR                 6.920283\n",
      "BOM → HYD                 5.935768\n",
      "                           ...    \n",
      "CCU → VTZ → BLR           0.009558\n",
      "CCU → IXZ → MAA → BLR     0.009558\n",
      "BOM → COK → MAA → HYD     0.009558\n",
      "BOM → CCU → HYD           0.009558\n",
      "BOM → BBI → HYD           0.009558\n",
      "Name: Route, Length: 128, dtype: float64\n",
      "and ,\n",
      "No. of unique values for Route is 128\n",
      "--------------------------------------------------------------------------------\n"
     ]
    }
   ],
   "source": [
    "# Perform a value count on all columns as check for appropiate conversion technique.\n",
    "# Please refer notes/lecture for all possible conversion techniques available.\n",
    "# https://towardsdatascience.com/all-about-categorical-variable-encoding-305f3361fd02 [Good For quick revision]\n",
    "for col in object_columns:\n",
    "    print(f\"Value counts for {col} are as below: \")\n",
    "    print(df[col].value_counts(normalize=True)*100)\n",
    "    print(\"and ,\")\n",
    "    print(f\"No. of unique values for {col} is {df[col].nunique()}\")\n",
    "    print(\"-\"*80)"
   ]
  },
  {
   "cell_type": "code",
   "execution_count": null,
   "metadata": {
    "id": "HG-3Lta15g2_"
   },
   "outputs": [],
   "source": [
    "# For columns Airline and Route, One-Hot encoding and label encoding should not be used here because\n",
    "# No. of uniques are high and these are not ordinal values.\n",
    "# Other possible alternative are frequency encoding, mean encoding or hash encodings.\n",
    "\n",
    "# For columns Source and destination One-hot encoding is a possible option but not label encoding because\n",
    "# No. of uniques are less than 10 and these are also not ordinal."
   ]
  },
  {
   "cell_type": "code",
   "execution_count": null,
   "metadata": {
    "colab": {
     "base_uri": "https://localhost:8080/"
    },
    "id": "ta3kmTrjqLSZ",
    "outputId": "8de29360-9035-4ba8-a5e1-b85b040ef7d7"
   },
   "outputs": [
    {
     "name": "stdout",
     "output_type": "stream",
     "text": [
      "<class 'pandas.core.frame.DataFrame'>\n",
      "Int64Index: 10462 entries, 0 to 10682\n",
      "Data columns (total 10 columns):\n",
      " #   Column           Non-Null Count  Dtype         \n",
      "---  ------           --------------  -----         \n",
      " 0   Airline          10462 non-null  object        \n",
      " 1   Date_of_Journey  10462 non-null  datetime64[ns]\n",
      " 2   Source           10462 non-null  object        \n",
      " 3   Destination      10462 non-null  object        \n",
      " 4   Route            10462 non-null  object        \n",
      " 5   Dep_Time         10462 non-null  datetime64[ns]\n",
      " 6   Arrival_Time     10462 non-null  datetime64[ns]\n",
      " 7   Duration         10462 non-null  int64         \n",
      " 8   Total_Stops      10462 non-null  float64       \n",
      " 9   Price            10462 non-null  int64         \n",
      "dtypes: datetime64[ns](3), float64(1), int64(2), object(4)\n",
      "memory usage: 899.1+ KB\n"
     ]
    }
   ],
   "source": [
    "df.info()"
   ]
  },
  {
   "cell_type": "code",
   "execution_count": null,
   "metadata": {
    "id": "xO37LSn27Gpq"
   },
   "outputs": [],
   "source": [
    "# Using frequency encoding to encode categoical features, could be helpful if occurence of value is related to target.\n",
    "# Do it for one column and write a reuable function as this will be repeated for 4 columns or \n",
    "# future projects.\n",
    "airline_freq = df.groupby(\"Airline\").size()/len(df)\n",
    "airline_freq_dict = airline_freq.to_dict()\n",
    "df[\"Freq_encoded_Airline\"] = df[\"Airline\"].replace(airline_freq_dict)"
   ]
  },
  {
   "cell_type": "code",
   "execution_count": null,
   "metadata": {
    "colab": {
     "base_uri": "https://localhost:8080/",
     "height": 704
    },
    "id": "FeK91FoKD39Z",
    "outputId": "f92680a7-435d-40ec-ced4-fc9c1731f48c"
   },
   "outputs": [
    {
     "name": "stdout",
     "output_type": "stream",
     "text": [
      "Airline\n",
      "Air Asia                             0.030491\n",
      "Air India                            0.161919\n",
      "GoAir                                0.018543\n",
      "IndiGo                               0.195278\n",
      "Jet Airways                          0.353661\n",
      "Jet Airways Business                 0.000574\n",
      "Multiple carriers                    0.114318\n",
      "Multiple carriers Premium economy    0.001243\n",
      "SpiceJet                             0.077901\n",
      "Trujet                               0.000096\n",
      "Vistara                              0.045689\n",
      "Vistara Premium economy              0.000287\n",
      "dtype: float64\n",
      "{'Air Asia': 0.030491301854329956, 'Air India': 0.1619193270885108, 'GoAir': 0.018543299560313517, 'IndiGo': 0.1952781494934047, 'Jet Airways': 0.35366086790288664, 'Jet Airways Business': 0.0005735041101127892, 'Multiple carriers': 0.1143184859491493, 'Multiple carriers Premium economy': 0.0012425922385777097, 'SpiceJet': 0.0779009749569872, 'Trujet': 9.558401835213153e-05, 'Vistara': 0.04568916077231887, 'Vistara Premium economy': 0.0002867520550563946}\n"
     ]
    },
    {
     "data": {
      "text/html": [
       "\n",
       "  <div id=\"df-f5fda69e-460d-46df-a1c8-5db61e643d87\">\n",
       "    <div class=\"colab-df-container\">\n",
       "      <div>\n",
       "<style scoped>\n",
       "    .dataframe tbody tr th:only-of-type {\n",
       "        vertical-align: middle;\n",
       "    }\n",
       "\n",
       "    .dataframe tbody tr th {\n",
       "        vertical-align: top;\n",
       "    }\n",
       "\n",
       "    .dataframe thead th {\n",
       "        text-align: right;\n",
       "    }\n",
       "</style>\n",
       "<table border=\"1\" class=\"dataframe\">\n",
       "  <thead>\n",
       "    <tr style=\"text-align: right;\">\n",
       "      <th></th>\n",
       "      <th>Airline</th>\n",
       "      <th>Freq_encoded_Airline</th>\n",
       "    </tr>\n",
       "  </thead>\n",
       "  <tbody>\n",
       "    <tr>\n",
       "      <th>0</th>\n",
       "      <td>IndiGo</td>\n",
       "      <td>0.195278</td>\n",
       "    </tr>\n",
       "    <tr>\n",
       "      <th>1</th>\n",
       "      <td>Air India</td>\n",
       "      <td>0.161919</td>\n",
       "    </tr>\n",
       "    <tr>\n",
       "      <th>2</th>\n",
       "      <td>Jet Airways</td>\n",
       "      <td>0.353661</td>\n",
       "    </tr>\n",
       "    <tr>\n",
       "      <th>3</th>\n",
       "      <td>IndiGo</td>\n",
       "      <td>0.195278</td>\n",
       "    </tr>\n",
       "    <tr>\n",
       "      <th>4</th>\n",
       "      <td>IndiGo</td>\n",
       "      <td>0.195278</td>\n",
       "    </tr>\n",
       "    <tr>\n",
       "      <th>...</th>\n",
       "      <td>...</td>\n",
       "      <td>...</td>\n",
       "    </tr>\n",
       "    <tr>\n",
       "      <th>10678</th>\n",
       "      <td>Air Asia</td>\n",
       "      <td>0.030491</td>\n",
       "    </tr>\n",
       "    <tr>\n",
       "      <th>10679</th>\n",
       "      <td>Air India</td>\n",
       "      <td>0.161919</td>\n",
       "    </tr>\n",
       "    <tr>\n",
       "      <th>10680</th>\n",
       "      <td>Jet Airways</td>\n",
       "      <td>0.353661</td>\n",
       "    </tr>\n",
       "    <tr>\n",
       "      <th>10681</th>\n",
       "      <td>Vistara</td>\n",
       "      <td>0.045689</td>\n",
       "    </tr>\n",
       "    <tr>\n",
       "      <th>10682</th>\n",
       "      <td>Air India</td>\n",
       "      <td>0.161919</td>\n",
       "    </tr>\n",
       "  </tbody>\n",
       "</table>\n",
       "<p>10462 rows × 2 columns</p>\n",
       "</div>\n",
       "      <button class=\"colab-df-convert\" onclick=\"convertToInteractive('df-f5fda69e-460d-46df-a1c8-5db61e643d87')\"\n",
       "              title=\"Convert this dataframe to an interactive table.\"\n",
       "              style=\"display:none;\">\n",
       "        \n",
       "  <svg xmlns=\"http://www.w3.org/2000/svg\" height=\"24px\"viewBox=\"0 0 24 24\"\n",
       "       width=\"24px\">\n",
       "    <path d=\"M0 0h24v24H0V0z\" fill=\"none\"/>\n",
       "    <path d=\"M18.56 5.44l.94 2.06.94-2.06 2.06-.94-2.06-.94-.94-2.06-.94 2.06-2.06.94zm-11 1L8.5 8.5l.94-2.06 2.06-.94-2.06-.94L8.5 2.5l-.94 2.06-2.06.94zm10 10l.94 2.06.94-2.06 2.06-.94-2.06-.94-.94-2.06-.94 2.06-2.06.94z\"/><path d=\"M17.41 7.96l-1.37-1.37c-.4-.4-.92-.59-1.43-.59-.52 0-1.04.2-1.43.59L10.3 9.45l-7.72 7.72c-.78.78-.78 2.05 0 2.83L4 21.41c.39.39.9.59 1.41.59.51 0 1.02-.2 1.41-.59l7.78-7.78 2.81-2.81c.8-.78.8-2.07 0-2.86zM5.41 20L4 18.59l7.72-7.72 1.47 1.35L5.41 20z\"/>\n",
       "  </svg>\n",
       "      </button>\n",
       "      \n",
       "  <style>\n",
       "    .colab-df-container {\n",
       "      display:flex;\n",
       "      flex-wrap:wrap;\n",
       "      gap: 12px;\n",
       "    }\n",
       "\n",
       "    .colab-df-convert {\n",
       "      background-color: #E8F0FE;\n",
       "      border: none;\n",
       "      border-radius: 50%;\n",
       "      cursor: pointer;\n",
       "      display: none;\n",
       "      fill: #1967D2;\n",
       "      height: 32px;\n",
       "      padding: 0 0 0 0;\n",
       "      width: 32px;\n",
       "    }\n",
       "\n",
       "    .colab-df-convert:hover {\n",
       "      background-color: #E2EBFA;\n",
       "      box-shadow: 0px 1px 2px rgba(60, 64, 67, 0.3), 0px 1px 3px 1px rgba(60, 64, 67, 0.15);\n",
       "      fill: #174EA6;\n",
       "    }\n",
       "\n",
       "    [theme=dark] .colab-df-convert {\n",
       "      background-color: #3B4455;\n",
       "      fill: #D2E3FC;\n",
       "    }\n",
       "\n",
       "    [theme=dark] .colab-df-convert:hover {\n",
       "      background-color: #434B5C;\n",
       "      box-shadow: 0px 1px 3px 1px rgba(0, 0, 0, 0.15);\n",
       "      filter: drop-shadow(0px 1px 2px rgba(0, 0, 0, 0.3));\n",
       "      fill: #FFFFFF;\n",
       "    }\n",
       "  </style>\n",
       "\n",
       "      <script>\n",
       "        const buttonEl =\n",
       "          document.querySelector('#df-f5fda69e-460d-46df-a1c8-5db61e643d87 button.colab-df-convert');\n",
       "        buttonEl.style.display =\n",
       "          google.colab.kernel.accessAllowed ? 'block' : 'none';\n",
       "\n",
       "        async function convertToInteractive(key) {\n",
       "          const element = document.querySelector('#df-f5fda69e-460d-46df-a1c8-5db61e643d87');\n",
       "          const dataTable =\n",
       "            await google.colab.kernel.invokeFunction('convertToInteractive',\n",
       "                                                     [key], {});\n",
       "          if (!dataTable) return;\n",
       "\n",
       "          const docLinkHtml = 'Like what you see? Visit the ' +\n",
       "            '<a target=\"_blank\" href=https://colab.research.google.com/notebooks/data_table.ipynb>data table notebook</a>'\n",
       "            + ' to learn more about interactive tables.';\n",
       "          element.innerHTML = '';\n",
       "          dataTable['output_type'] = 'display_data';\n",
       "          await google.colab.output.renderOutput(dataTable, element);\n",
       "          const docLink = document.createElement('div');\n",
       "          docLink.innerHTML = docLinkHtml;\n",
       "          element.appendChild(docLink);\n",
       "        }\n",
       "      </script>\n",
       "    </div>\n",
       "  </div>\n",
       "  "
      ],
      "text/plain": [
       "           Airline  Freq_encoded_Airline\n",
       "0           IndiGo              0.195278\n",
       "1        Air India              0.161919\n",
       "2      Jet Airways              0.353661\n",
       "3           IndiGo              0.195278\n",
       "4           IndiGo              0.195278\n",
       "...            ...                   ...\n",
       "10678     Air Asia              0.030491\n",
       "10679    Air India              0.161919\n",
       "10680  Jet Airways              0.353661\n",
       "10681      Vistara              0.045689\n",
       "10682    Air India              0.161919\n",
       "\n",
       "[10462 rows x 2 columns]"
      ]
     },
     "execution_count": 66,
     "metadata": {},
     "output_type": "execute_result"
    }
   ],
   "source": [
    "## Explaining\n",
    "airline_freq = df.groupby(\"Airline\").size()/len(df)\n",
    "print(airline_freq)\n",
    "airline_freq_dict = airline_freq.to_dict()\n",
    "print(airline_freq_dict)\n",
    "df[\"Freq_encoded_Airline\"] = df[\"Airline\"].replace(airline_freq_dict)\n",
    "df[[\"Airline\",\"Freq_encoded_Airline\"]]"
   ]
  },
  {
   "cell_type": "code",
   "execution_count": null,
   "metadata": {
    "colab": {
     "base_uri": "https://localhost:8080/"
    },
    "id": "Zqn8kWgSG9gr",
    "outputId": "46ee1cdb-b829-4675-bfe1-4194045ad69b"
   },
   "outputs": [
    {
     "data": {
      "text/plain": [
       "Airline\n",
       "Air Asia                             0.030491\n",
       "Air India                            0.161919\n",
       "GoAir                                0.018543\n",
       "IndiGo                               0.195278\n",
       "Jet Airways                          0.353661\n",
       "Jet Airways Business                 0.000574\n",
       "Multiple carriers                    0.114318\n",
       "Multiple carriers Premium economy    0.001243\n",
       "SpiceJet                             0.077901\n",
       "Trujet                               0.000096\n",
       "Vistara                              0.045689\n",
       "Vistara Premium economy              0.000287\n",
       "dtype: float64"
      ]
     },
     "execution_count": 67,
     "metadata": {},
     "output_type": "execute_result"
    }
   ],
   "source": [
    "airline_freq"
   ]
  },
  {
   "cell_type": "code",
   "execution_count": null,
   "metadata": {
    "id": "EyaW1_ZFoCWc"
   },
   "outputs": [],
   "source": [
    "_freq = df.groupby(\"Airline\").size()/len(df)\n",
    "_freq_dict = _freq.to_dict()\n",
    "df[\"Freq_encoded_\"+\"Airline\"] = df[\"Airline\"].replace(_freq_dict)"
   ]
  },
  {
   "cell_type": "code",
   "execution_count": null,
   "metadata": {
    "id": "McBAnr0q7lE2"
   },
   "outputs": [],
   "source": [
    "def frequency_encoder(df,col):\n",
    "    \"\"\"\n",
    "    This function encodes a categorical column based on the frequency of their occurence.\n",
    "    input:\n",
    "        df : Input DataFrame in which encoding has to be created \n",
    "        col : Column name which has to be encoded\n",
    "    return: \n",
    "          frequency encoded dictionary for columns\n",
    "    \"\"\"\n",
    "    freq_value = df.groupby(col).size()/len(df)\n",
    "    freq_dict = freq_value.to_dict()\n",
    "    df[\"Freq_encoded_\"+col] = df[col].replace(freq_dict)\n",
    "    return freq_dict"
   ]
  },
  {
   "cell_type": "code",
   "execution_count": null,
   "metadata": {
    "colab": {
     "base_uri": "https://localhost:8080/"
    },
    "id": "3IVe4pNHGcHs",
    "outputId": "c4102325-55a6-4893-ab14-74421e72c060"
   },
   "outputs": [
    {
     "name": "stdout",
     "output_type": "stream",
     "text": [
      "<class 'pandas.core.frame.DataFrame'>\n",
      "Int64Index: 10462 entries, 0 to 10682\n",
      "Data columns (total 11 columns):\n",
      " #   Column                Non-Null Count  Dtype         \n",
      "---  ------                --------------  -----         \n",
      " 0   Airline               10462 non-null  object        \n",
      " 1   Date_of_Journey       10462 non-null  datetime64[ns]\n",
      " 2   Source                10462 non-null  object        \n",
      " 3   Destination           10462 non-null  object        \n",
      " 4   Route                 10462 non-null  object        \n",
      " 5   Dep_Time              10462 non-null  datetime64[ns]\n",
      " 6   Arrival_Time          10462 non-null  datetime64[ns]\n",
      " 7   Duration              10462 non-null  int64         \n",
      " 8   Total_Stops           10462 non-null  float64       \n",
      " 9   Price                 10462 non-null  int64         \n",
      " 10  Freq_encoded_Airline  10462 non-null  float64       \n",
      "dtypes: datetime64[ns](3), float64(2), int64(2), object(4)\n",
      "memory usage: 980.8+ KB\n"
     ]
    }
   ],
   "source": [
    "df.info()"
   ]
  },
  {
   "cell_type": "code",
   "execution_count": null,
   "metadata": {
    "colab": {
     "base_uri": "https://localhost:8080/"
    },
    "id": "_XH4Xkan8nIq",
    "outputId": "70578feb-0171-4a71-9f61-355846bf00a8"
   },
   "outputs": [
    {
     "data": {
      "text/plain": [
       "{'BLR → AMD → DEL': 0.0017205123303383673,\n",
       " 'BLR → BBI → DEL': 0.0004779200917606576,\n",
       " 'BLR → BDQ → DEL': 0.0007646721468170522,\n",
       " 'BLR → BOM → AMD → DEL': 0.0003823360734085261,\n",
       " 'BLR → BOM → BHO → DEL': 0.0010514242018734468,\n",
       " 'BLR → BOM → DEL': 0.038424775377556876,\n",
       " 'BLR → BOM → IDR → DEL': 0.0004779200917606576,\n",
       " 'BLR → BOM → IDR → GWL → DEL': 0.00019116803670426305,\n",
       " 'BLR → BOM → IXC → DEL': 9.558401835213153e-05,\n",
       " 'BLR → BOM → JDH → DEL': 0.0005735041101127892,\n",
       " 'BLR → BOM → NAG → DEL': 0.0008602561651691837,\n",
       " 'BLR → BOM → UDR → DEL': 0.0002867520550563946,\n",
       " 'BLR → CCU → BBI → DEL': 0.0004779200917606576,\n",
       " 'BLR → CCU → BBI → HYD → DEL': 0.00019116803670426305,\n",
       " 'BLR → CCU → BBI → HYD → VGA → DEL': 9.558401835213153e-05,\n",
       " 'BLR → CCU → DEL': 0.0010514242018734468,\n",
       " 'BLR → CCU → GAU → DEL': 0.0010514242018734468,\n",
       " 'BLR → COK → DEL': 0.0014337602752819729,\n",
       " 'BLR → DEL': 0.14681705218887403,\n",
       " 'BLR → GAU → DEL': 0.0002867520550563946,\n",
       " 'BLR → GOI → DEL': 0.0006690881284649206,\n",
       " 'BLR → HBX → BOM → AMD → DEL': 9.558401835213153e-05,\n",
       " 'BLR → HBX → BOM → BHO → DEL': 9.558401835213153e-05,\n",
       " 'BLR → HBX → BOM → NAG → DEL': 9.558401835213153e-05,\n",
       " 'BLR → HYD → DEL': 0.0035366086790288662,\n",
       " 'BLR → HYD → VGA → DEL': 0.0009558401835213152,\n",
       " 'BLR → IDR → DEL': 0.0004779200917606576,\n",
       " 'BLR → LKO → DEL': 0.0002867520550563946,\n",
       " 'BLR → MAA → DEL': 0.002771936532211814,\n",
       " 'BLR → NAG → DEL': 0.0002867520550563946,\n",
       " 'BLR → PNQ → DEL': 0.0004779200917606576,\n",
       " 'BLR → STV → DEL': 0.00019116803670426305,\n",
       " 'BLR → TRV → COK → DEL': 0.00019116803670426305,\n",
       " 'BLR → VGA → DEL': 0.0008602561651691837,\n",
       " 'BLR → VGA → HYD → DEL': 0.0003823360734085261,\n",
       " 'BLR → VGA → VTZ → DEL': 0.00019116803670426305,\n",
       " 'BOM → AMD → ISK → HYD': 0.0003823360734085261,\n",
       " 'BOM → BBI → HYD': 9.558401835213153e-05,\n",
       " 'BOM → BDQ → DEL → HYD': 0.00019116803670426305,\n",
       " 'BOM → BHO → DEL → HYD': 0.0006690881284649206,\n",
       " 'BOM → BLR → CCU → BBI → HYD': 9.558401835213153e-05,\n",
       " 'BOM → BLR → HYD': 0.0002867520550563946,\n",
       " 'BOM → CCU → HYD': 9.558401835213153e-05,\n",
       " 'BOM → COK → MAA → HYD': 9.558401835213153e-05,\n",
       " 'BOM → DED → DEL → HYD': 9.558401835213153e-05,\n",
       " 'BOM → DEL → HYD': 0.0031542726056203404,\n",
       " 'BOM → GOI → HYD': 9.558401835213153e-05,\n",
       " 'BOM → GOI → PNQ → HYD': 0.0005735041101127892,\n",
       " 'BOM → HYD': 0.05935767539667368,\n",
       " 'BOM → IDR → DEL → HYD': 0.00019116803670426305,\n",
       " 'BOM → JAI → DEL → HYD': 9.558401835213153e-05,\n",
       " 'BOM → JDH → DEL → HYD': 0.0002867520550563946,\n",
       " 'BOM → JDH → JAI → DEL → HYD': 9.558401835213153e-05,\n",
       " 'BOM → JLR → HYD': 9.558401835213153e-05,\n",
       " 'BOM → MAA → HYD': 0.0002867520550563946,\n",
       " 'BOM → NDC → HYD': 9.558401835213153e-05,\n",
       " 'BOM → RPR → VTZ → HYD': 9.558401835213153e-05,\n",
       " 'BOM → UDR → DEL → HYD': 9.558401835213153e-05,\n",
       " 'BOM → VNS → DEL → HYD': 9.558401835213153e-05,\n",
       " 'CCU → AMD → BLR': 0.0010514242018734468,\n",
       " 'CCU → BBI → BLR': 0.004779200917606577,\n",
       " 'CCU → BBI → BOM → BLR': 0.004014528770789524,\n",
       " 'CCU → BBI → HYD → BLR': 0.0008602561651691837,\n",
       " 'CCU → BBI → IXR → DEL → BLR': 0.00019116803670426305,\n",
       " 'CCU → BLR': 0.06920282928694323,\n",
       " 'CCU → BOM → AMD → BLR': 0.0008602561651691837,\n",
       " 'CCU → BOM → BLR': 0.09357675396673676,\n",
       " 'CCU → BOM → COK → BLR': 0.0028675205505639457,\n",
       " 'CCU → BOM → GOI → BLR': 0.0012425922385777097,\n",
       " 'CCU → BOM → HBX → BLR': 0.0005735041101127892,\n",
       " 'CCU → BOM → PNQ → BLR': 0.0003823360734085261,\n",
       " 'CCU → BOM → TRV → BLR': 0.00019116803670426305,\n",
       " 'CCU → DEL → AMD → BLR': 0.002007264385394762,\n",
       " 'CCU → DEL → BLR': 0.05400497036895431,\n",
       " 'CCU → DEL → COK → BLR': 0.002771936532211814,\n",
       " 'CCU → DEL → COK → TRV → BLR': 0.0003823360734085261,\n",
       " 'CCU → DEL → VGA → BLR': 0.0003823360734085261,\n",
       " 'CCU → GAU → BLR': 0.0039189447524373925,\n",
       " 'CCU → GAU → DEL → BLR': 0.003632192697380998,\n",
       " 'CCU → GAU → IMF → DEL → BLR': 0.0004779200917606576,\n",
       " 'CCU → HYD → BLR': 0.0050659529726629704,\n",
       " 'CCU → IXA → BLR': 9.558401835213153e-05,\n",
       " 'CCU → IXB → BLR': 0.0019116803670426305,\n",
       " 'CCU → IXB → DEL → BLR': 9.558401835213153e-05,\n",
       " 'CCU → IXR → BBI → BLR': 0.0005735041101127892,\n",
       " 'CCU → IXR → DEL → BLR': 0.00439686484419805,\n",
       " 'CCU → IXZ → MAA → BLR': 9.558401835213153e-05,\n",
       " 'CCU → JAI → BOM → BLR': 0.0012425922385777097,\n",
       " 'CCU → JAI → DEL → BLR': 0.0005735041101127892,\n",
       " 'CCU → KNU → BLR': 0.0009558401835213152,\n",
       " 'CCU → MAA → BLR': 0.006212961192888549,\n",
       " 'CCU → NAG → BLR': 0.0008602561651691837,\n",
       " 'CCU → PAT → BLR': 0.0009558401835213152,\n",
       " 'CCU → PNQ → BLR': 0.001816096348690499,\n",
       " 'CCU → RPR → HYD → BLR': 9.558401835213153e-05,\n",
       " 'CCU → VNS → DEL → BLR': 0.0009558401835213152,\n",
       " 'CCU → VTZ → BLR': 9.558401835213153e-05,\n",
       " 'DEL → AMD → BOM → COK': 0.013764098642706939,\n",
       " 'DEL → AMD → COK': 0.0023896004588032883,\n",
       " 'DEL → ATQ → BOM → COK': 0.003823360734085261,\n",
       " 'DEL → BBI → COK': 0.0004779200917606576,\n",
       " 'DEL → BDQ → BOM → COK': 0.002580768495507551,\n",
       " 'DEL → BHO → BOM → COK': 0.0045880328809023135,\n",
       " 'DEL → BLR → COK': 0.022175492257694513,\n",
       " 'DEL → BOM → COK': 0.2271076276046645,\n",
       " 'DEL → CCU → BOM → COK': 0.004205696807493787,\n",
       " 'DEL → COK': 0.020359395909004013,\n",
       " 'DEL → DED → BOM → COK': 0.00019116803670426305,\n",
       " 'DEL → GOI → BOM → COK': 0.004205696807493787,\n",
       " 'DEL → GWL → IDR → BOM → COK': 0.0007646721468170522,\n",
       " 'DEL → HYD → BOM → COK': 0.004301280825845919,\n",
       " 'DEL → HYD → COK': 0.031160389982794877,\n",
       " 'DEL → HYD → MAA → COK': 0.007933473523226917,\n",
       " 'DEL → IDR → BOM → COK': 0.008602561651691838,\n",
       " 'DEL → IXC → BOM → COK': 0.0010514242018734468,\n",
       " 'DEL → IXU → BOM → COK': 0.0011470082202255784,\n",
       " 'DEL → JAI → BOM → COK': 0.01749187535844007,\n",
       " 'DEL → JDH → BOM → COK': 0.0035366086790288662,\n",
       " 'DEL → LKO → BOM → COK': 0.0039189447524373925,\n",
       " 'DEL → LKO → COK': 0.001624928311986236,\n",
       " 'DEL → MAA → BOM → COK': 0.0010514242018734468,\n",
       " 'DEL → MAA → COK': 0.013955266679411202,\n",
       " 'DEL → NAG → BOM → COK': 0.004205696807493787,\n",
       " 'DEL → PNQ → COK': 0.004014528770789524,\n",
       " 'DEL → RPR → NAG → BOM → COK': 0.0014337602752819729,\n",
       " 'DEL → TRV → COK': 0.0015293442936341044,\n",
       " 'DEL → UDR → BOM → COK': 0.0017205123303383673,\n",
       " 'MAA → CCU': 0.03641751099216211}"
      ]
     },
     "execution_count": 71,
     "metadata": {},
     "output_type": "execute_result"
    }
   ],
   "source": [
    "frequency_encoder(df,'Source')\n",
    "frequency_encoder(df,'Destination')\n",
    "frequency_encoder(df,'Route')"
   ]
  },
  {
   "cell_type": "code",
   "execution_count": null,
   "metadata": {
    "colab": {
     "base_uri": "https://localhost:8080/"
    },
    "id": "erMNRPgO87a-",
    "outputId": "73a1731a-a4dc-4e70-f660-40fcd0fe7384"
   },
   "outputs": [
    {
     "name": "stdout",
     "output_type": "stream",
     "text": [
      "<class 'pandas.core.frame.DataFrame'>\n",
      "Int64Index: 10462 entries, 0 to 10682\n",
      "Data columns (total 14 columns):\n",
      " #   Column                    Non-Null Count  Dtype         \n",
      "---  ------                    --------------  -----         \n",
      " 0   Airline                   10462 non-null  object        \n",
      " 1   Date_of_Journey           10462 non-null  datetime64[ns]\n",
      " 2   Source                    10462 non-null  object        \n",
      " 3   Destination               10462 non-null  object        \n",
      " 4   Route                     10462 non-null  object        \n",
      " 5   Dep_Time                  10462 non-null  datetime64[ns]\n",
      " 6   Arrival_Time              10462 non-null  datetime64[ns]\n",
      " 7   Duration                  10462 non-null  int64         \n",
      " 8   Total_Stops               10462 non-null  float64       \n",
      " 9   Price                     10462 non-null  int64         \n",
      " 10  Freq_encoded_Airline      10462 non-null  float64       \n",
      " 11  Freq_encoded_Source       10462 non-null  float64       \n",
      " 12  Freq_encoded_Destination  10462 non-null  float64       \n",
      " 13  Freq_encoded_Route        10462 non-null  float64       \n",
      "dtypes: datetime64[ns](3), float64(5), int64(2), object(4)\n",
      "memory usage: 1.2+ MB\n"
     ]
    }
   ],
   "source": [
    "df.info()"
   ]
  },
  {
   "cell_type": "code",
   "execution_count": null,
   "metadata": {
    "id": "DPZBd2JF9Sul"
   },
   "outputs": [],
   "source": [
    "# Also we can try creating Mean-Target encoding for the categorical columns\n",
    "# Better approach [ Caution it can prove to overfit model and should be validated and treated for it.]\n",
    "# Try for one column and write reusable function for mean encoding .\n",
    "mean_value = df.groupby('Airline')['Price'].mean()\n",
    "mean_dict = mean_value.to_dict()\n",
    "df[\"Mean_encoded_Airline\"] = df['Airline'].replace(mean_dict)"
   ]
  },
  {
   "cell_type": "code",
   "execution_count": null,
   "metadata": {
    "colab": {
     "base_uri": "https://localhost:8080/"
    },
    "id": "C5b8g-GesCu8",
    "outputId": "658090b7-24d3-4ca7-a514-a5f0d93bbccb"
   },
   "outputs": [
    {
     "name": "stdout",
     "output_type": "stream",
     "text": [
      "Airline\n",
      "Air Asia                              5590.260188\n",
      "Air India                             9556.608028\n",
      "GoAir                                 5861.056701\n",
      "IndiGo                                5668.469897\n",
      "Jet Airways                          11599.021081\n",
      "Jet Airways Business                 58358.666667\n",
      "Multiple carriers                    10902.678094\n",
      "Multiple carriers Premium economy    11418.846154\n",
      "SpiceJet                              4335.841718\n",
      "Trujet                                4140.000000\n",
      "Vistara                               7801.355649\n",
      "Vistara Premium economy               8962.333333\n",
      "Name: Price, dtype: float64\n",
      "{'Air Asia': 5590.260188087775, 'Air India': 9556.6080283353, 'GoAir': 5861.056701030928, 'IndiGo': 5668.469897209985, 'Jet Airways': 11599.02108108108, 'Jet Airways Business': 58358.666666666664, 'Multiple carriers': 10902.678093645485, 'Multiple carriers Premium economy': 11418.846153846154, 'SpiceJet': 4335.841717791411, 'Trujet': 4140.0, 'Vistara': 7801.355648535565, 'Vistara Premium economy': 8962.333333333334}\n"
     ]
    }
   ],
   "source": [
    "mean_value = df.groupby('Airline')['Price'].mean()\n",
    "mean_dict = mean_value.to_dict()\n",
    "df[\"Mean_encoded_Airline\"] = df['Airline'].replace(mean_dict)\n",
    "print(mean_value),\n",
    "print(mean_dict)"
   ]
  },
  {
   "cell_type": "code",
   "execution_count": null,
   "metadata": {
    "colab": {
     "base_uri": "https://localhost:8080/",
     "height": 364
    },
    "id": "nC4SYIr7HHXg",
    "outputId": "a23ad657-54b4-47cb-f7b3-ba1c678a9c53"
   },
   "outputs": [
    {
     "data": {
      "text/html": [
       "\n",
       "  <div id=\"df-1fe2a5d2-87eb-450d-9491-0249dbc1ff79\">\n",
       "    <div class=\"colab-df-container\">\n",
       "      <div>\n",
       "<style scoped>\n",
       "    .dataframe tbody tr th:only-of-type {\n",
       "        vertical-align: middle;\n",
       "    }\n",
       "\n",
       "    .dataframe tbody tr th {\n",
       "        vertical-align: top;\n",
       "    }\n",
       "\n",
       "    .dataframe thead th {\n",
       "        text-align: right;\n",
       "    }\n",
       "</style>\n",
       "<table border=\"1\" class=\"dataframe\">\n",
       "  <thead>\n",
       "    <tr style=\"text-align: right;\">\n",
       "      <th></th>\n",
       "      <th>Duration</th>\n",
       "      <th>Total_Stops</th>\n",
       "      <th>Price</th>\n",
       "      <th>Freq_encoded_Airline</th>\n",
       "      <th>Freq_encoded_Source</th>\n",
       "      <th>Freq_encoded_Destination</th>\n",
       "      <th>Freq_encoded_Route</th>\n",
       "      <th>Mean_encoded_Airline</th>\n",
       "    </tr>\n",
       "  </thead>\n",
       "  <tbody>\n",
       "    <tr>\n",
       "      <th>count</th>\n",
       "      <td>1694.000000</td>\n",
       "      <td>1694.000000</td>\n",
       "      <td>1694.000000</td>\n",
       "      <td>1.694000e+03</td>\n",
       "      <td>1694.000000</td>\n",
       "      <td>1694.000000</td>\n",
       "      <td>1694.000000</td>\n",
       "      <td>1.694000e+03</td>\n",
       "    </tr>\n",
       "    <tr>\n",
       "      <th>mean</th>\n",
       "      <td>926.912633</td>\n",
       "      <td>1.211924</td>\n",
       "      <td>9556.608028</td>\n",
       "      <td>1.619193e-01</td>\n",
       "      <td>0.299538</td>\n",
       "      <td>0.278432</td>\n",
       "      <td>0.044470</td>\n",
       "      <td>9.556608e+03</td>\n",
       "    </tr>\n",
       "    <tr>\n",
       "      <th>std</th>\n",
       "      <td>604.288329</td>\n",
       "      <td>0.838712</td>\n",
       "      <td>3937.875634</td>\n",
       "      <td>4.636550e-15</td>\n",
       "      <td>0.112992</td>\n",
       "      <td>0.136095</td>\n",
       "      <td>0.065908</td>\n",
       "      <td>1.673964e-10</td>\n",
       "    </tr>\n",
       "    <tr>\n",
       "      <th>min</th>\n",
       "      <td>5.000000</td>\n",
       "      <td>0.000000</td>\n",
       "      <td>2050.000000</td>\n",
       "      <td>1.619193e-01</td>\n",
       "      <td>0.036418</td>\n",
       "      <td>0.036418</td>\n",
       "      <td>0.000096</td>\n",
       "      <td>9.556608e+03</td>\n",
       "    </tr>\n",
       "    <tr>\n",
       "      <th>25%</th>\n",
       "      <td>245.000000</td>\n",
       "      <td>1.000000</td>\n",
       "      <td>6597.750000</td>\n",
       "      <td>1.619193e-01</td>\n",
       "      <td>0.208278</td>\n",
       "      <td>0.120914</td>\n",
       "      <td>0.003537</td>\n",
       "      <td>9.556608e+03</td>\n",
       "    </tr>\n",
       "    <tr>\n",
       "      <th>50%</th>\n",
       "      <td>920.000000</td>\n",
       "      <td>1.000000</td>\n",
       "      <td>9316.000000</td>\n",
       "      <td>1.619193e-01</td>\n",
       "      <td>0.273370</td>\n",
       "      <td>0.273370</td>\n",
       "      <td>0.013764</td>\n",
       "      <td>9.556608e+03</td>\n",
       "    </tr>\n",
       "    <tr>\n",
       "      <th>75%</th>\n",
       "      <td>1440.000000</td>\n",
       "      <td>2.000000</td>\n",
       "      <td>12199.000000</td>\n",
       "      <td>1.619193e-01</td>\n",
       "      <td>0.415313</td>\n",
       "      <td>0.415313</td>\n",
       "      <td>0.059358</td>\n",
       "      <td>9.556608e+03</td>\n",
       "    </tr>\n",
       "    <tr>\n",
       "      <th>max</th>\n",
       "      <td>2480.000000</td>\n",
       "      <td>4.000000</td>\n",
       "      <td>31945.000000</td>\n",
       "      <td>1.619193e-01</td>\n",
       "      <td>0.415313</td>\n",
       "      <td>0.415313</td>\n",
       "      <td>0.227108</td>\n",
       "      <td>9.556608e+03</td>\n",
       "    </tr>\n",
       "  </tbody>\n",
       "</table>\n",
       "</div>\n",
       "      <button class=\"colab-df-convert\" onclick=\"convertToInteractive('df-1fe2a5d2-87eb-450d-9491-0249dbc1ff79')\"\n",
       "              title=\"Convert this dataframe to an interactive table.\"\n",
       "              style=\"display:none;\">\n",
       "        \n",
       "  <svg xmlns=\"http://www.w3.org/2000/svg\" height=\"24px\"viewBox=\"0 0 24 24\"\n",
       "       width=\"24px\">\n",
       "    <path d=\"M0 0h24v24H0V0z\" fill=\"none\"/>\n",
       "    <path d=\"M18.56 5.44l.94 2.06.94-2.06 2.06-.94-2.06-.94-.94-2.06-.94 2.06-2.06.94zm-11 1L8.5 8.5l.94-2.06 2.06-.94-2.06-.94L8.5 2.5l-.94 2.06-2.06.94zm10 10l.94 2.06.94-2.06 2.06-.94-2.06-.94-.94-2.06-.94 2.06-2.06.94z\"/><path d=\"M17.41 7.96l-1.37-1.37c-.4-.4-.92-.59-1.43-.59-.52 0-1.04.2-1.43.59L10.3 9.45l-7.72 7.72c-.78.78-.78 2.05 0 2.83L4 21.41c.39.39.9.59 1.41.59.51 0 1.02-.2 1.41-.59l7.78-7.78 2.81-2.81c.8-.78.8-2.07 0-2.86zM5.41 20L4 18.59l7.72-7.72 1.47 1.35L5.41 20z\"/>\n",
       "  </svg>\n",
       "      </button>\n",
       "      \n",
       "  <style>\n",
       "    .colab-df-container {\n",
       "      display:flex;\n",
       "      flex-wrap:wrap;\n",
       "      gap: 12px;\n",
       "    }\n",
       "\n",
       "    .colab-df-convert {\n",
       "      background-color: #E8F0FE;\n",
       "      border: none;\n",
       "      border-radius: 50%;\n",
       "      cursor: pointer;\n",
       "      display: none;\n",
       "      fill: #1967D2;\n",
       "      height: 32px;\n",
       "      padding: 0 0 0 0;\n",
       "      width: 32px;\n",
       "    }\n",
       "\n",
       "    .colab-df-convert:hover {\n",
       "      background-color: #E2EBFA;\n",
       "      box-shadow: 0px 1px 2px rgba(60, 64, 67, 0.3), 0px 1px 3px 1px rgba(60, 64, 67, 0.15);\n",
       "      fill: #174EA6;\n",
       "    }\n",
       "\n",
       "    [theme=dark] .colab-df-convert {\n",
       "      background-color: #3B4455;\n",
       "      fill: #D2E3FC;\n",
       "    }\n",
       "\n",
       "    [theme=dark] .colab-df-convert:hover {\n",
       "      background-color: #434B5C;\n",
       "      box-shadow: 0px 1px 3px 1px rgba(0, 0, 0, 0.15);\n",
       "      filter: drop-shadow(0px 1px 2px rgba(0, 0, 0, 0.3));\n",
       "      fill: #FFFFFF;\n",
       "    }\n",
       "  </style>\n",
       "\n",
       "      <script>\n",
       "        const buttonEl =\n",
       "          document.querySelector('#df-1fe2a5d2-87eb-450d-9491-0249dbc1ff79 button.colab-df-convert');\n",
       "        buttonEl.style.display =\n",
       "          google.colab.kernel.accessAllowed ? 'block' : 'none';\n",
       "\n",
       "        async function convertToInteractive(key) {\n",
       "          const element = document.querySelector('#df-1fe2a5d2-87eb-450d-9491-0249dbc1ff79');\n",
       "          const dataTable =\n",
       "            await google.colab.kernel.invokeFunction('convertToInteractive',\n",
       "                                                     [key], {});\n",
       "          if (!dataTable) return;\n",
       "\n",
       "          const docLinkHtml = 'Like what you see? Visit the ' +\n",
       "            '<a target=\"_blank\" href=https://colab.research.google.com/notebooks/data_table.ipynb>data table notebook</a>'\n",
       "            + ' to learn more about interactive tables.';\n",
       "          element.innerHTML = '';\n",
       "          dataTable['output_type'] = 'display_data';\n",
       "          await google.colab.output.renderOutput(dataTable, element);\n",
       "          const docLink = document.createElement('div');\n",
       "          docLink.innerHTML = docLinkHtml;\n",
       "          element.appendChild(docLink);\n",
       "        }\n",
       "      </script>\n",
       "    </div>\n",
       "  </div>\n",
       "  "
      ],
      "text/plain": [
       "          Duration  Total_Stops         Price  Freq_encoded_Airline  \\\n",
       "count  1694.000000  1694.000000   1694.000000          1.694000e+03   \n",
       "mean    926.912633     1.211924   9556.608028          1.619193e-01   \n",
       "std     604.288329     0.838712   3937.875634          4.636550e-15   \n",
       "min       5.000000     0.000000   2050.000000          1.619193e-01   \n",
       "25%     245.000000     1.000000   6597.750000          1.619193e-01   \n",
       "50%     920.000000     1.000000   9316.000000          1.619193e-01   \n",
       "75%    1440.000000     2.000000  12199.000000          1.619193e-01   \n",
       "max    2480.000000     4.000000  31945.000000          1.619193e-01   \n",
       "\n",
       "       Freq_encoded_Source  Freq_encoded_Destination  Freq_encoded_Route  \\\n",
       "count          1694.000000               1694.000000         1694.000000   \n",
       "mean              0.299538                  0.278432            0.044470   \n",
       "std               0.112992                  0.136095            0.065908   \n",
       "min               0.036418                  0.036418            0.000096   \n",
       "25%               0.208278                  0.120914            0.003537   \n",
       "50%               0.273370                  0.273370            0.013764   \n",
       "75%               0.415313                  0.415313            0.059358   \n",
       "max               0.415313                  0.415313            0.227108   \n",
       "\n",
       "       Mean_encoded_Airline  \n",
       "count          1.694000e+03  \n",
       "mean           9.556608e+03  \n",
       "std            1.673964e-10  \n",
       "min            9.556608e+03  \n",
       "25%            9.556608e+03  \n",
       "50%            9.556608e+03  \n",
       "75%            9.556608e+03  \n",
       "max            9.556608e+03  "
      ]
     },
     "execution_count": 75,
     "metadata": {},
     "output_type": "execute_result"
    }
   ],
   "source": [
    "df[df['Airline'] == \"Air India\"].describe()"
   ]
  },
  {
   "cell_type": "code",
   "execution_count": null,
   "metadata": {
    "colab": {
     "base_uri": "https://localhost:8080/",
     "height": 424
    },
    "id": "kHFey5DqH4nu",
    "outputId": "1eb50852-a838-4904-8003-cd7775bdf445"
   },
   "outputs": [
    {
     "data": {
      "text/html": [
       "\n",
       "  <div id=\"df-915bad98-a181-4f34-a4a5-a77d74afc373\">\n",
       "    <div class=\"colab-df-container\">\n",
       "      <div>\n",
       "<style scoped>\n",
       "    .dataframe tbody tr th:only-of-type {\n",
       "        vertical-align: middle;\n",
       "    }\n",
       "\n",
       "    .dataframe tbody tr th {\n",
       "        vertical-align: top;\n",
       "    }\n",
       "\n",
       "    .dataframe thead th {\n",
       "        text-align: right;\n",
       "    }\n",
       "</style>\n",
       "<table border=\"1\" class=\"dataframe\">\n",
       "  <thead>\n",
       "    <tr style=\"text-align: right;\">\n",
       "      <th></th>\n",
       "      <th>Airline</th>\n",
       "      <th>Mean_encoded_Airline</th>\n",
       "    </tr>\n",
       "  </thead>\n",
       "  <tbody>\n",
       "    <tr>\n",
       "      <th>0</th>\n",
       "      <td>IndiGo</td>\n",
       "      <td>5668.469897</td>\n",
       "    </tr>\n",
       "    <tr>\n",
       "      <th>1</th>\n",
       "      <td>Air India</td>\n",
       "      <td>9556.608028</td>\n",
       "    </tr>\n",
       "    <tr>\n",
       "      <th>2</th>\n",
       "      <td>Jet Airways</td>\n",
       "      <td>11599.021081</td>\n",
       "    </tr>\n",
       "    <tr>\n",
       "      <th>3</th>\n",
       "      <td>IndiGo</td>\n",
       "      <td>5668.469897</td>\n",
       "    </tr>\n",
       "    <tr>\n",
       "      <th>4</th>\n",
       "      <td>IndiGo</td>\n",
       "      <td>5668.469897</td>\n",
       "    </tr>\n",
       "    <tr>\n",
       "      <th>...</th>\n",
       "      <td>...</td>\n",
       "      <td>...</td>\n",
       "    </tr>\n",
       "    <tr>\n",
       "      <th>10678</th>\n",
       "      <td>Air Asia</td>\n",
       "      <td>5590.260188</td>\n",
       "    </tr>\n",
       "    <tr>\n",
       "      <th>10679</th>\n",
       "      <td>Air India</td>\n",
       "      <td>9556.608028</td>\n",
       "    </tr>\n",
       "    <tr>\n",
       "      <th>10680</th>\n",
       "      <td>Jet Airways</td>\n",
       "      <td>11599.021081</td>\n",
       "    </tr>\n",
       "    <tr>\n",
       "      <th>10681</th>\n",
       "      <td>Vistara</td>\n",
       "      <td>7801.355649</td>\n",
       "    </tr>\n",
       "    <tr>\n",
       "      <th>10682</th>\n",
       "      <td>Air India</td>\n",
       "      <td>9556.608028</td>\n",
       "    </tr>\n",
       "  </tbody>\n",
       "</table>\n",
       "<p>10462 rows × 2 columns</p>\n",
       "</div>\n",
       "      <button class=\"colab-df-convert\" onclick=\"convertToInteractive('df-915bad98-a181-4f34-a4a5-a77d74afc373')\"\n",
       "              title=\"Convert this dataframe to an interactive table.\"\n",
       "              style=\"display:none;\">\n",
       "        \n",
       "  <svg xmlns=\"http://www.w3.org/2000/svg\" height=\"24px\"viewBox=\"0 0 24 24\"\n",
       "       width=\"24px\">\n",
       "    <path d=\"M0 0h24v24H0V0z\" fill=\"none\"/>\n",
       "    <path d=\"M18.56 5.44l.94 2.06.94-2.06 2.06-.94-2.06-.94-.94-2.06-.94 2.06-2.06.94zm-11 1L8.5 8.5l.94-2.06 2.06-.94-2.06-.94L8.5 2.5l-.94 2.06-2.06.94zm10 10l.94 2.06.94-2.06 2.06-.94-2.06-.94-.94-2.06-.94 2.06-2.06.94z\"/><path d=\"M17.41 7.96l-1.37-1.37c-.4-.4-.92-.59-1.43-.59-.52 0-1.04.2-1.43.59L10.3 9.45l-7.72 7.72c-.78.78-.78 2.05 0 2.83L4 21.41c.39.39.9.59 1.41.59.51 0 1.02-.2 1.41-.59l7.78-7.78 2.81-2.81c.8-.78.8-2.07 0-2.86zM5.41 20L4 18.59l7.72-7.72 1.47 1.35L5.41 20z\"/>\n",
       "  </svg>\n",
       "      </button>\n",
       "      \n",
       "  <style>\n",
       "    .colab-df-container {\n",
       "      display:flex;\n",
       "      flex-wrap:wrap;\n",
       "      gap: 12px;\n",
       "    }\n",
       "\n",
       "    .colab-df-convert {\n",
       "      background-color: #E8F0FE;\n",
       "      border: none;\n",
       "      border-radius: 50%;\n",
       "      cursor: pointer;\n",
       "      display: none;\n",
       "      fill: #1967D2;\n",
       "      height: 32px;\n",
       "      padding: 0 0 0 0;\n",
       "      width: 32px;\n",
       "    }\n",
       "\n",
       "    .colab-df-convert:hover {\n",
       "      background-color: #E2EBFA;\n",
       "      box-shadow: 0px 1px 2px rgba(60, 64, 67, 0.3), 0px 1px 3px 1px rgba(60, 64, 67, 0.15);\n",
       "      fill: #174EA6;\n",
       "    }\n",
       "\n",
       "    [theme=dark] .colab-df-convert {\n",
       "      background-color: #3B4455;\n",
       "      fill: #D2E3FC;\n",
       "    }\n",
       "\n",
       "    [theme=dark] .colab-df-convert:hover {\n",
       "      background-color: #434B5C;\n",
       "      box-shadow: 0px 1px 3px 1px rgba(0, 0, 0, 0.15);\n",
       "      filter: drop-shadow(0px 1px 2px rgba(0, 0, 0, 0.3));\n",
       "      fill: #FFFFFF;\n",
       "    }\n",
       "  </style>\n",
       "\n",
       "      <script>\n",
       "        const buttonEl =\n",
       "          document.querySelector('#df-915bad98-a181-4f34-a4a5-a77d74afc373 button.colab-df-convert');\n",
       "        buttonEl.style.display =\n",
       "          google.colab.kernel.accessAllowed ? 'block' : 'none';\n",
       "\n",
       "        async function convertToInteractive(key) {\n",
       "          const element = document.querySelector('#df-915bad98-a181-4f34-a4a5-a77d74afc373');\n",
       "          const dataTable =\n",
       "            await google.colab.kernel.invokeFunction('convertToInteractive',\n",
       "                                                     [key], {});\n",
       "          if (!dataTable) return;\n",
       "\n",
       "          const docLinkHtml = 'Like what you see? Visit the ' +\n",
       "            '<a target=\"_blank\" href=https://colab.research.google.com/notebooks/data_table.ipynb>data table notebook</a>'\n",
       "            + ' to learn more about interactive tables.';\n",
       "          element.innerHTML = '';\n",
       "          dataTable['output_type'] = 'display_data';\n",
       "          await google.colab.output.renderOutput(dataTable, element);\n",
       "          const docLink = document.createElement('div');\n",
       "          docLink.innerHTML = docLinkHtml;\n",
       "          element.appendChild(docLink);\n",
       "        }\n",
       "      </script>\n",
       "    </div>\n",
       "  </div>\n",
       "  "
      ],
      "text/plain": [
       "           Airline  Mean_encoded_Airline\n",
       "0           IndiGo           5668.469897\n",
       "1        Air India           9556.608028\n",
       "2      Jet Airways          11599.021081\n",
       "3           IndiGo           5668.469897\n",
       "4           IndiGo           5668.469897\n",
       "...            ...                   ...\n",
       "10678     Air Asia           5590.260188\n",
       "10679    Air India           9556.608028\n",
       "10680  Jet Airways          11599.021081\n",
       "10681      Vistara           7801.355649\n",
       "10682    Air India           9556.608028\n",
       "\n",
       "[10462 rows x 2 columns]"
      ]
     },
     "execution_count": 76,
     "metadata": {},
     "output_type": "execute_result"
    }
   ],
   "source": [
    "df[[\"Airline\",\"Mean_encoded_Airline\"]]"
   ]
  },
  {
   "cell_type": "code",
   "execution_count": null,
   "metadata": {
    "id": "9jqlfLi5_PhI"
   },
   "outputs": [],
   "source": [
    "def mean_encoder(df,col,target_col):\n",
    "    \"\"\"\n",
    "    This function encodes a categorical column based on the frequency of their occurence.\n",
    "    input:\n",
    "        df : Input DataFrame in which encoding has to be created \n",
    "        col : Column name which has to be encoded\n",
    "        target_col : Dependent column to be predicted.\n",
    "    return: \n",
    "          Mean encoded dict for column\n",
    "    \"\"\"\n",
    "    mean_value = df.groupby(col)[target_col].mean()\n",
    "    mean_dict = mean_value.to_dict()\n",
    "    df[\"Mean_encoded_\"+col] = df[col].replace(mean_dict)\n",
    "    return mean_dict"
   ]
  },
  {
   "cell_type": "code",
   "execution_count": null,
   "metadata": {
    "colab": {
     "base_uri": "https://localhost:8080/"
    },
    "id": "UUI-BAnT_z0q",
    "outputId": "b4b9387b-818a-4055-b365-1f43d5fb431b"
   },
   "outputs": [
    {
     "data": {
      "text/plain": [
       "{'BLR → AMD → DEL': 11134.166666666666,\n",
       " 'BLR → BBI → DEL': 11486.0,\n",
       " 'BLR → BDQ → DEL': 11550.5,\n",
       " 'BLR → BOM → AMD → DEL': 14155.75,\n",
       " 'BLR → BOM → BHO → DEL': 17211.545454545456,\n",
       " 'BLR → BOM → DEL': 15723.174129353234,\n",
       " 'BLR → BOM → IDR → DEL': 15360.6,\n",
       " 'BLR → BOM → IDR → GWL → DEL': 13387.0,\n",
       " 'BLR → BOM → IXC → DEL': 13303.0,\n",
       " 'BLR → BOM → JDH → DEL': 14845.833333333334,\n",
       " 'BLR → BOM → NAG → DEL': 14685.333333333334,\n",
       " 'BLR → BOM → UDR → DEL': 11937.666666666666,\n",
       " 'BLR → CCU → BBI → DEL': 9155.0,\n",
       " 'BLR → CCU → BBI → HYD → DEL': 12713.5,\n",
       " 'BLR → CCU → BBI → HYD → VGA → DEL': 17686.0,\n",
       " 'BLR → CCU → DEL': 12260.272727272728,\n",
       " 'BLR → CCU → GAU → DEL': 11810.0,\n",
       " 'BLR → COK → DEL': 9139.133333333333,\n",
       " 'BLR → DEL': 5552.235677083333,\n",
       " 'BLR → GAU → DEL': 12508.333333333334,\n",
       " 'BLR → GOI → DEL': 8759.857142857143,\n",
       " 'BLR → HBX → BOM → AMD → DEL': 10573.0,\n",
       " 'BLR → HBX → BOM → BHO → DEL': 14195.0,\n",
       " 'BLR → HBX → BOM → NAG → DEL': 12358.0,\n",
       " 'BLR → HYD → DEL': 6473.027027027027,\n",
       " 'BLR → HYD → VGA → DEL': 10770.7,\n",
       " 'BLR → IDR → DEL': 7610.4,\n",
       " 'BLR → LKO → DEL': 7334.333333333333,\n",
       " 'BLR → MAA → DEL': 12071.965517241379,\n",
       " 'BLR → NAG → DEL': 11313.0,\n",
       " 'BLR → PNQ → DEL': 11888.4,\n",
       " 'BLR → STV → DEL': 5746.0,\n",
       " 'BLR → TRV → COK → DEL': 11838.0,\n",
       " 'BLR → VGA → DEL': 9002.222222222223,\n",
       " 'BLR → VGA → HYD → DEL': 9598.75,\n",
       " 'BLR → VGA → VTZ → DEL': 15361.0,\n",
       " 'BOM → AMD → ISK → HYD': 11762.0,\n",
       " 'BOM → BBI → HYD': 14408.0,\n",
       " 'BOM → BDQ → DEL → HYD': 22792.5,\n",
       " 'BOM → BHO → DEL → HYD': 13161.57142857143,\n",
       " 'BOM → BLR → CCU → BBI → HYD': 14260.0,\n",
       " 'BOM → BLR → HYD': 9045.0,\n",
       " 'BOM → CCU → HYD': 16666.0,\n",
       " 'BOM → COK → MAA → HYD': 9678.0,\n",
       " 'BOM → DED → DEL → HYD': 24115.0,\n",
       " 'BOM → DEL → HYD': 13379.515151515152,\n",
       " 'BOM → GOI → HYD': 7681.0,\n",
       " 'BOM → GOI → PNQ → HYD': 17082.0,\n",
       " 'BOM → HYD': 3932.8099838969406,\n",
       " 'BOM → IDR → DEL → HYD': 17049.0,\n",
       " 'BOM → JAI → DEL → HYD': 17926.0,\n",
       " 'BOM → JDH → DEL → HYD': 23867.0,\n",
       " 'BOM → JDH → JAI → DEL → HYD': 18293.0,\n",
       " 'BOM → JLR → HYD': 13552.0,\n",
       " 'BOM → MAA → HYD': 8598.333333333334,\n",
       " 'BOM → NDC → HYD': 4140.0,\n",
       " 'BOM → RPR → VTZ → HYD': 9736.0,\n",
       " 'BOM → UDR → DEL → HYD': 22950.0,\n",
       " 'BOM → VNS → DEL → HYD': 23528.0,\n",
       " 'CCU → AMD → BLR': 8382.636363636364,\n",
       " 'CCU → BBI → BLR': 6060.6,\n",
       " 'CCU → BBI → BOM → BLR': 10457.404761904761,\n",
       " 'CCU → BBI → HYD → BLR': 5790.333333333333,\n",
       " 'CCU → BBI → IXR → DEL → BLR': 12606.0,\n",
       " 'CCU → BLR': 4556.055248618784,\n",
       " 'CCU → BOM → AMD → BLR': 14424.444444444445,\n",
       " 'CCU → BOM → BLR': 11487.788559754852,\n",
       " 'CCU → BOM → COK → BLR': 12864.833333333334,\n",
       " 'CCU → BOM → GOI → BLR': 11809.76923076923,\n",
       " 'CCU → BOM → HBX → BLR': 10037.166666666666,\n",
       " 'CCU → BOM → PNQ → BLR': 10118.0,\n",
       " 'CCU → BOM → TRV → BLR': 12403.0,\n",
       " 'CCU → DEL → AMD → BLR': 13719.095238095239,\n",
       " 'CCU → DEL → BLR': 10763.258407079646,\n",
       " 'CCU → DEL → COK → BLR': 13486.241379310344,\n",
       " 'CCU → DEL → COK → TRV → BLR': 12941.25,\n",
       " 'CCU → DEL → VGA → BLR': 12533.25,\n",
       " 'CCU → GAU → BLR': 7612.682926829269,\n",
       " 'CCU → GAU → DEL → BLR': 13892.052631578947,\n",
       " 'CCU → GAU → IMF → DEL → BLR': 13537.4,\n",
       " 'CCU → HYD → BLR': 4910.018867924528,\n",
       " 'CCU → IXA → BLR': 9413.0,\n",
       " 'CCU → IXB → BLR': 9275.25,\n",
       " 'CCU → IXB → DEL → BLR': 15292.0,\n",
       " 'CCU → IXR → BBI → BLR': 7369.166666666667,\n",
       " 'CCU → IXR → DEL → BLR': 10969.065217391304,\n",
       " 'CCU → IXZ → MAA → BLR': 11522.0,\n",
       " 'CCU → JAI → BOM → BLR': 10874.692307692309,\n",
       " 'CCU → JAI → DEL → BLR': 12053.0,\n",
       " 'CCU → KNU → BLR': 8623.4,\n",
       " 'CCU → MAA → BLR': 5240.876923076923,\n",
       " 'CCU → NAG → BLR': 6279.333333333333,\n",
       " 'CCU → PAT → BLR': 10821.3,\n",
       " 'CCU → PNQ → BLR': 6703.421052631579,\n",
       " 'CCU → RPR → HYD → BLR': 6103.0,\n",
       " 'CCU → VNS → DEL → BLR': 15164.5,\n",
       " 'CCU → VTZ → BLR': 6301.0,\n",
       " 'DEL → AMD → BOM → COK': 12630.173611111111,\n",
       " 'DEL → AMD → COK': 5606.2,\n",
       " 'DEL → ATQ → BOM → COK': 16699.675,\n",
       " 'DEL → BBI → COK': 11062.6,\n",
       " 'DEL → BDQ → BOM → COK': 12339.444444444445,\n",
       " 'DEL → BHO → BOM → COK': 14120.645833333334,\n",
       " 'DEL → BLR → COK': 7559.612068965517,\n",
       " 'DEL → BOM → COK': 10954.205808080807,\n",
       " 'DEL → CCU → BOM → COK': 13962.431818181818,\n",
       " 'DEL → COK': 6315.816901408451,\n",
       " 'DEL → DED → BOM → COK': 19539.5,\n",
       " 'DEL → GOI → BOM → COK': 11941.818181818182,\n",
       " 'DEL → GWL → IDR → BOM → COK': 17292.75,\n",
       " 'DEL → HYD → BOM → COK': 11724.577777777778,\n",
       " 'DEL → HYD → COK': 7299.331288343558,\n",
       " 'DEL → HYD → MAA → COK': 9133.469879518072,\n",
       " 'DEL → IDR → BOM → COK': 14038.122222222222,\n",
       " 'DEL → IXC → BOM → COK': 12514.545454545454,\n",
       " 'DEL → IXU → BOM → COK': 19381.333333333332,\n",
       " 'DEL → JAI → BOM → COK': 12210.196721311475,\n",
       " 'DEL → JDH → BOM → COK': 16163.135135135135,\n",
       " 'DEL → LKO → BOM → COK': 13277.19512195122,\n",
       " 'DEL → LKO → COK': 7166.176470588235,\n",
       " 'DEL → MAA → BOM → COK': 9161.636363636364,\n",
       " 'DEL → MAA → COK': 7312.431506849315,\n",
       " 'DEL → NAG → BOM → COK': 12171.227272727272,\n",
       " 'DEL → PNQ → COK': 6602.071428571428,\n",
       " 'DEL → RPR → NAG → BOM → COK': 11021.533333333333,\n",
       " 'DEL → TRV → COK': 7835.625,\n",
       " 'DEL → UDR → BOM → COK': 13859.277777777777,\n",
       " 'MAA → CCU': 4789.892388451443}"
      ]
     },
     "execution_count": 78,
     "metadata": {},
     "output_type": "execute_result"
    }
   ],
   "source": [
    "mean_encoder(df,'Source','Price')\n",
    "mean_encoder(df,'Destination','Price')\n",
    "mean_encoder(df,'Route','Price')"
   ]
  },
  {
   "cell_type": "code",
   "execution_count": null,
   "metadata": {
    "colab": {
     "base_uri": "https://localhost:8080/"
    },
    "id": "YvGSw_6t_7Za",
    "outputId": "a478101d-b106-4fd3-b7a6-5e9d5a402a67"
   },
   "outputs": [
    {
     "name": "stdout",
     "output_type": "stream",
     "text": [
      "<class 'pandas.core.frame.DataFrame'>\n",
      "Int64Index: 10462 entries, 0 to 10682\n",
      "Data columns (total 18 columns):\n",
      " #   Column                    Non-Null Count  Dtype         \n",
      "---  ------                    --------------  -----         \n",
      " 0   Airline                   10462 non-null  object        \n",
      " 1   Date_of_Journey           10462 non-null  datetime64[ns]\n",
      " 2   Source                    10462 non-null  object        \n",
      " 3   Destination               10462 non-null  object        \n",
      " 4   Route                     10462 non-null  object        \n",
      " 5   Dep_Time                  10462 non-null  datetime64[ns]\n",
      " 6   Arrival_Time              10462 non-null  datetime64[ns]\n",
      " 7   Duration                  10462 non-null  int64         \n",
      " 8   Total_Stops               10462 non-null  float64       \n",
      " 9   Price                     10462 non-null  int64         \n",
      " 10  Freq_encoded_Airline      10462 non-null  float64       \n",
      " 11  Freq_encoded_Source       10462 non-null  float64       \n",
      " 12  Freq_encoded_Destination  10462 non-null  float64       \n",
      " 13  Freq_encoded_Route        10462 non-null  float64       \n",
      " 14  Mean_encoded_Airline      10462 non-null  float64       \n",
      " 15  Mean_encoded_Source       10462 non-null  float64       \n",
      " 16  Mean_encoded_Destination  10462 non-null  float64       \n",
      " 17  Mean_encoded_Route        10462 non-null  float64       \n",
      "dtypes: datetime64[ns](3), float64(9), int64(2), object(4)\n",
      "memory usage: 1.5+ MB\n"
     ]
    }
   ],
   "source": [
    "df.info()"
   ]
  },
  {
   "cell_type": "code",
   "execution_count": null,
   "metadata": {
    "id": "fC2KDvDS_-7b"
   },
   "outputs": [],
   "source": [
    "# Also we can try creating Hash encoding for the categorical columns\n",
    "# Suitble when numner of uniques are very high and data is not ordinal.\n",
    "# install in your packages library category_encoders to use it.\n",
    "# ! pip install category_encoders\n",
    "# from category_encoders.hashing import HashingEncoder\n",
    "## To be added as a pipeline"
   ]
  },
  {
   "cell_type": "code",
   "execution_count": null,
   "metadata": {
    "id": "3auh48jlnhA7"
   },
   "outputs": [],
   "source": [
    "## Applying Label Encoder to Categorical columns [as Hit and Trail.]\n",
    "from sklearn.preprocessing import LabelEncoder\n",
    "# df[object_columns] = df[object_columns].apply(LabelEncoder().fit_transform)"
   ]
  },
  {
   "cell_type": "code",
   "execution_count": null,
   "metadata": {
    "id": "85A_Oe7f2hLo"
   },
   "outputs": [],
   "source": [
    "## Label encoder for function and later usages:\n",
    "def label_encoder(df,col):\n",
    "    \"\"\"\n",
    "    This function encodes a categorical column based on the basis of their order label.\n",
    "    input:\n",
    "        df : Input DataFrame in which encoding has to be created \n",
    "        col : Column name which has to be encoded\n",
    "    return: \n",
    "          label encoded dict for column\n",
    "    \"\"\"\n",
    "    le = LabelEncoder()\n",
    "    le.fit(df[col])\n",
    "    label_dict = dict(zip((le.classes_),le.transform(le.classes_)))\n",
    "    df[\"Label_encoded_\"+col] = df[col].replace(label_dict)\n",
    "    return label_dict"
   ]
  },
  {
   "cell_type": "code",
   "execution_count": null,
   "metadata": {
    "colab": {
     "base_uri": "https://localhost:8080/"
    },
    "id": "HNR9dWPjI3PW",
    "outputId": "5ee93015-63c5-4efe-8b83-579cb4eb358f"
   },
   "outputs": [
    {
     "name": "stdout",
     "output_type": "stream",
     "text": [
      "{'Air Asia': 0, 'Air India': 1, 'GoAir': 2, 'IndiGo': 3, 'Jet Airways': 4, 'Jet Airways Business': 5, 'Multiple carriers': 6, 'Multiple carriers Premium economy': 7, 'SpiceJet': 8, 'Trujet': 9, 'Vistara': 10, 'Vistara Premium economy': 11}\n"
     ]
    }
   ],
   "source": [
    "print(label_encoder(df,\"Airline\"))"
   ]
  },
  {
   "cell_type": "code",
   "execution_count": null,
   "metadata": {
    "colab": {
     "base_uri": "https://localhost:8080/"
    },
    "id": "IPKO0zZnJIIm",
    "outputId": "2ddc0c5c-7844-43e9-b3ef-e13c7a9f24ce"
   },
   "outputs": [
    {
     "data": {
      "text/plain": [
       "{'BLR → AMD → DEL': 0,\n",
       " 'BLR → BBI → DEL': 1,\n",
       " 'BLR → BDQ → DEL': 2,\n",
       " 'BLR → BOM → AMD → DEL': 3,\n",
       " 'BLR → BOM → BHO → DEL': 4,\n",
       " 'BLR → BOM → DEL': 5,\n",
       " 'BLR → BOM → IDR → DEL': 6,\n",
       " 'BLR → BOM → IDR → GWL → DEL': 7,\n",
       " 'BLR → BOM → IXC → DEL': 8,\n",
       " 'BLR → BOM → JDH → DEL': 9,\n",
       " 'BLR → BOM → NAG → DEL': 10,\n",
       " 'BLR → BOM → UDR → DEL': 11,\n",
       " 'BLR → CCU → BBI → DEL': 12,\n",
       " 'BLR → CCU → BBI → HYD → DEL': 13,\n",
       " 'BLR → CCU → BBI → HYD → VGA → DEL': 14,\n",
       " 'BLR → CCU → DEL': 15,\n",
       " 'BLR → CCU → GAU → DEL': 16,\n",
       " 'BLR → COK → DEL': 17,\n",
       " 'BLR → DEL': 18,\n",
       " 'BLR → GAU → DEL': 19,\n",
       " 'BLR → GOI → DEL': 20,\n",
       " 'BLR → HBX → BOM → AMD → DEL': 21,\n",
       " 'BLR → HBX → BOM → BHO → DEL': 22,\n",
       " 'BLR → HBX → BOM → NAG → DEL': 23,\n",
       " 'BLR → HYD → DEL': 24,\n",
       " 'BLR → HYD → VGA → DEL': 25,\n",
       " 'BLR → IDR → DEL': 26,\n",
       " 'BLR → LKO → DEL': 27,\n",
       " 'BLR → MAA → DEL': 28,\n",
       " 'BLR → NAG → DEL': 29,\n",
       " 'BLR → PNQ → DEL': 30,\n",
       " 'BLR → STV → DEL': 31,\n",
       " 'BLR → TRV → COK → DEL': 32,\n",
       " 'BLR → VGA → DEL': 33,\n",
       " 'BLR → VGA → HYD → DEL': 34,\n",
       " 'BLR → VGA → VTZ → DEL': 35,\n",
       " 'BOM → AMD → ISK → HYD': 36,\n",
       " 'BOM → BBI → HYD': 37,\n",
       " 'BOM → BDQ → DEL → HYD': 38,\n",
       " 'BOM → BHO → DEL → HYD': 39,\n",
       " 'BOM → BLR → CCU → BBI → HYD': 40,\n",
       " 'BOM → BLR → HYD': 41,\n",
       " 'BOM → CCU → HYD': 42,\n",
       " 'BOM → COK → MAA → HYD': 43,\n",
       " 'BOM → DED → DEL → HYD': 44,\n",
       " 'BOM → DEL → HYD': 45,\n",
       " 'BOM → GOI → HYD': 46,\n",
       " 'BOM → GOI → PNQ → HYD': 47,\n",
       " 'BOM → HYD': 48,\n",
       " 'BOM → IDR → DEL → HYD': 49,\n",
       " 'BOM → JAI → DEL → HYD': 50,\n",
       " 'BOM → JDH → DEL → HYD': 51,\n",
       " 'BOM → JDH → JAI → DEL → HYD': 52,\n",
       " 'BOM → JLR → HYD': 53,\n",
       " 'BOM → MAA → HYD': 54,\n",
       " 'BOM → NDC → HYD': 55,\n",
       " 'BOM → RPR → VTZ → HYD': 56,\n",
       " 'BOM → UDR → DEL → HYD': 57,\n",
       " 'BOM → VNS → DEL → HYD': 58,\n",
       " 'CCU → AMD → BLR': 59,\n",
       " 'CCU → BBI → BLR': 60,\n",
       " 'CCU → BBI → BOM → BLR': 61,\n",
       " 'CCU → BBI → HYD → BLR': 62,\n",
       " 'CCU → BBI → IXR → DEL → BLR': 63,\n",
       " 'CCU → BLR': 64,\n",
       " 'CCU → BOM → AMD → BLR': 65,\n",
       " 'CCU → BOM → BLR': 66,\n",
       " 'CCU → BOM → COK → BLR': 67,\n",
       " 'CCU → BOM → GOI → BLR': 68,\n",
       " 'CCU → BOM → HBX → BLR': 69,\n",
       " 'CCU → BOM → PNQ → BLR': 70,\n",
       " 'CCU → BOM → TRV → BLR': 71,\n",
       " 'CCU → DEL → AMD → BLR': 72,\n",
       " 'CCU → DEL → BLR': 73,\n",
       " 'CCU → DEL → COK → BLR': 74,\n",
       " 'CCU → DEL → COK → TRV → BLR': 75,\n",
       " 'CCU → DEL → VGA → BLR': 76,\n",
       " 'CCU → GAU → BLR': 77,\n",
       " 'CCU → GAU → DEL → BLR': 78,\n",
       " 'CCU → GAU → IMF → DEL → BLR': 79,\n",
       " 'CCU → HYD → BLR': 80,\n",
       " 'CCU → IXA → BLR': 81,\n",
       " 'CCU → IXB → BLR': 82,\n",
       " 'CCU → IXB → DEL → BLR': 83,\n",
       " 'CCU → IXR → BBI → BLR': 84,\n",
       " 'CCU → IXR → DEL → BLR': 85,\n",
       " 'CCU → IXZ → MAA → BLR': 86,\n",
       " 'CCU → JAI → BOM → BLR': 87,\n",
       " 'CCU → JAI → DEL → BLR': 88,\n",
       " 'CCU → KNU → BLR': 89,\n",
       " 'CCU → MAA → BLR': 90,\n",
       " 'CCU → NAG → BLR': 91,\n",
       " 'CCU → PAT → BLR': 92,\n",
       " 'CCU → PNQ → BLR': 93,\n",
       " 'CCU → RPR → HYD → BLR': 94,\n",
       " 'CCU → VNS → DEL → BLR': 95,\n",
       " 'CCU → VTZ → BLR': 96,\n",
       " 'DEL → AMD → BOM → COK': 97,\n",
       " 'DEL → AMD → COK': 98,\n",
       " 'DEL → ATQ → BOM → COK': 99,\n",
       " 'DEL → BBI → COK': 100,\n",
       " 'DEL → BDQ → BOM → COK': 101,\n",
       " 'DEL → BHO → BOM → COK': 102,\n",
       " 'DEL → BLR → COK': 103,\n",
       " 'DEL → BOM → COK': 104,\n",
       " 'DEL → CCU → BOM → COK': 105,\n",
       " 'DEL → COK': 106,\n",
       " 'DEL → DED → BOM → COK': 107,\n",
       " 'DEL → GOI → BOM → COK': 108,\n",
       " 'DEL → GWL → IDR → BOM → COK': 109,\n",
       " 'DEL → HYD → BOM → COK': 110,\n",
       " 'DEL → HYD → COK': 111,\n",
       " 'DEL → HYD → MAA → COK': 112,\n",
       " 'DEL → IDR → BOM → COK': 113,\n",
       " 'DEL → IXC → BOM → COK': 114,\n",
       " 'DEL → IXU → BOM → COK': 115,\n",
       " 'DEL → JAI → BOM → COK': 116,\n",
       " 'DEL → JDH → BOM → COK': 117,\n",
       " 'DEL → LKO → BOM → COK': 118,\n",
       " 'DEL → LKO → COK': 119,\n",
       " 'DEL → MAA → BOM → COK': 120,\n",
       " 'DEL → MAA → COK': 121,\n",
       " 'DEL → NAG → BOM → COK': 122,\n",
       " 'DEL → PNQ → COK': 123,\n",
       " 'DEL → RPR → NAG → BOM → COK': 124,\n",
       " 'DEL → TRV → COK': 125,\n",
       " 'DEL → UDR → BOM → COK': 126,\n",
       " 'MAA → CCU': 127}"
      ]
     },
     "execution_count": 84,
     "metadata": {},
     "output_type": "execute_result"
    }
   ],
   "source": [
    "label_encoder(df,\"Source\")\n",
    "label_encoder(df,\"Destination\")\n",
    "label_encoder(df,\"Route\")"
   ]
  },
  {
   "cell_type": "code",
   "execution_count": null,
   "metadata": {
    "colab": {
     "base_uri": "https://localhost:8080/",
     "height": 424
    },
    "id": "VBy4e0crJUNH",
    "outputId": "baa02399-8b20-452f-c75b-1c6612112c7e"
   },
   "outputs": [
    {
     "data": {
      "text/html": [
       "\n",
       "  <div id=\"df-4732bb74-4610-45fc-9f8e-c3d90a8d6834\">\n",
       "    <div class=\"colab-df-container\">\n",
       "      <div>\n",
       "<style scoped>\n",
       "    .dataframe tbody tr th:only-of-type {\n",
       "        vertical-align: middle;\n",
       "    }\n",
       "\n",
       "    .dataframe tbody tr th {\n",
       "        vertical-align: top;\n",
       "    }\n",
       "\n",
       "    .dataframe thead th {\n",
       "        text-align: right;\n",
       "    }\n",
       "</style>\n",
       "<table border=\"1\" class=\"dataframe\">\n",
       "  <thead>\n",
       "    <tr style=\"text-align: right;\">\n",
       "      <th></th>\n",
       "      <th>Airline</th>\n",
       "      <th>Label_encoded_Airline</th>\n",
       "    </tr>\n",
       "  </thead>\n",
       "  <tbody>\n",
       "    <tr>\n",
       "      <th>0</th>\n",
       "      <td>IndiGo</td>\n",
       "      <td>3</td>\n",
       "    </tr>\n",
       "    <tr>\n",
       "      <th>1</th>\n",
       "      <td>Air India</td>\n",
       "      <td>1</td>\n",
       "    </tr>\n",
       "    <tr>\n",
       "      <th>2</th>\n",
       "      <td>Jet Airways</td>\n",
       "      <td>4</td>\n",
       "    </tr>\n",
       "    <tr>\n",
       "      <th>3</th>\n",
       "      <td>IndiGo</td>\n",
       "      <td>3</td>\n",
       "    </tr>\n",
       "    <tr>\n",
       "      <th>4</th>\n",
       "      <td>IndiGo</td>\n",
       "      <td>3</td>\n",
       "    </tr>\n",
       "    <tr>\n",
       "      <th>...</th>\n",
       "      <td>...</td>\n",
       "      <td>...</td>\n",
       "    </tr>\n",
       "    <tr>\n",
       "      <th>10678</th>\n",
       "      <td>Air Asia</td>\n",
       "      <td>0</td>\n",
       "    </tr>\n",
       "    <tr>\n",
       "      <th>10679</th>\n",
       "      <td>Air India</td>\n",
       "      <td>1</td>\n",
       "    </tr>\n",
       "    <tr>\n",
       "      <th>10680</th>\n",
       "      <td>Jet Airways</td>\n",
       "      <td>4</td>\n",
       "    </tr>\n",
       "    <tr>\n",
       "      <th>10681</th>\n",
       "      <td>Vistara</td>\n",
       "      <td>10</td>\n",
       "    </tr>\n",
       "    <tr>\n",
       "      <th>10682</th>\n",
       "      <td>Air India</td>\n",
       "      <td>1</td>\n",
       "    </tr>\n",
       "  </tbody>\n",
       "</table>\n",
       "<p>10462 rows × 2 columns</p>\n",
       "</div>\n",
       "      <button class=\"colab-df-convert\" onclick=\"convertToInteractive('df-4732bb74-4610-45fc-9f8e-c3d90a8d6834')\"\n",
       "              title=\"Convert this dataframe to an interactive table.\"\n",
       "              style=\"display:none;\">\n",
       "        \n",
       "  <svg xmlns=\"http://www.w3.org/2000/svg\" height=\"24px\"viewBox=\"0 0 24 24\"\n",
       "       width=\"24px\">\n",
       "    <path d=\"M0 0h24v24H0V0z\" fill=\"none\"/>\n",
       "    <path d=\"M18.56 5.44l.94 2.06.94-2.06 2.06-.94-2.06-.94-.94-2.06-.94 2.06-2.06.94zm-11 1L8.5 8.5l.94-2.06 2.06-.94-2.06-.94L8.5 2.5l-.94 2.06-2.06.94zm10 10l.94 2.06.94-2.06 2.06-.94-2.06-.94-.94-2.06-.94 2.06-2.06.94z\"/><path d=\"M17.41 7.96l-1.37-1.37c-.4-.4-.92-.59-1.43-.59-.52 0-1.04.2-1.43.59L10.3 9.45l-7.72 7.72c-.78.78-.78 2.05 0 2.83L4 21.41c.39.39.9.59 1.41.59.51 0 1.02-.2 1.41-.59l7.78-7.78 2.81-2.81c.8-.78.8-2.07 0-2.86zM5.41 20L4 18.59l7.72-7.72 1.47 1.35L5.41 20z\"/>\n",
       "  </svg>\n",
       "      </button>\n",
       "      \n",
       "  <style>\n",
       "    .colab-df-container {\n",
       "      display:flex;\n",
       "      flex-wrap:wrap;\n",
       "      gap: 12px;\n",
       "    }\n",
       "\n",
       "    .colab-df-convert {\n",
       "      background-color: #E8F0FE;\n",
       "      border: none;\n",
       "      border-radius: 50%;\n",
       "      cursor: pointer;\n",
       "      display: none;\n",
       "      fill: #1967D2;\n",
       "      height: 32px;\n",
       "      padding: 0 0 0 0;\n",
       "      width: 32px;\n",
       "    }\n",
       "\n",
       "    .colab-df-convert:hover {\n",
       "      background-color: #E2EBFA;\n",
       "      box-shadow: 0px 1px 2px rgba(60, 64, 67, 0.3), 0px 1px 3px 1px rgba(60, 64, 67, 0.15);\n",
       "      fill: #174EA6;\n",
       "    }\n",
       "\n",
       "    [theme=dark] .colab-df-convert {\n",
       "      background-color: #3B4455;\n",
       "      fill: #D2E3FC;\n",
       "    }\n",
       "\n",
       "    [theme=dark] .colab-df-convert:hover {\n",
       "      background-color: #434B5C;\n",
       "      box-shadow: 0px 1px 3px 1px rgba(0, 0, 0, 0.15);\n",
       "      filter: drop-shadow(0px 1px 2px rgba(0, 0, 0, 0.3));\n",
       "      fill: #FFFFFF;\n",
       "    }\n",
       "  </style>\n",
       "\n",
       "      <script>\n",
       "        const buttonEl =\n",
       "          document.querySelector('#df-4732bb74-4610-45fc-9f8e-c3d90a8d6834 button.colab-df-convert');\n",
       "        buttonEl.style.display =\n",
       "          google.colab.kernel.accessAllowed ? 'block' : 'none';\n",
       "\n",
       "        async function convertToInteractive(key) {\n",
       "          const element = document.querySelector('#df-4732bb74-4610-45fc-9f8e-c3d90a8d6834');\n",
       "          const dataTable =\n",
       "            await google.colab.kernel.invokeFunction('convertToInteractive',\n",
       "                                                     [key], {});\n",
       "          if (!dataTable) return;\n",
       "\n",
       "          const docLinkHtml = 'Like what you see? Visit the ' +\n",
       "            '<a target=\"_blank\" href=https://colab.research.google.com/notebooks/data_table.ipynb>data table notebook</a>'\n",
       "            + ' to learn more about interactive tables.';\n",
       "          element.innerHTML = '';\n",
       "          dataTable['output_type'] = 'display_data';\n",
       "          await google.colab.output.renderOutput(dataTable, element);\n",
       "          const docLink = document.createElement('div');\n",
       "          docLink.innerHTML = docLinkHtml;\n",
       "          element.appendChild(docLink);\n",
       "        }\n",
       "      </script>\n",
       "    </div>\n",
       "  </div>\n",
       "  "
      ],
      "text/plain": [
       "           Airline  Label_encoded_Airline\n",
       "0           IndiGo                      3\n",
       "1        Air India                      1\n",
       "2      Jet Airways                      4\n",
       "3           IndiGo                      3\n",
       "4           IndiGo                      3\n",
       "...            ...                    ...\n",
       "10678     Air Asia                      0\n",
       "10679    Air India                      1\n",
       "10680  Jet Airways                      4\n",
       "10681      Vistara                     10\n",
       "10682    Air India                      1\n",
       "\n",
       "[10462 rows x 2 columns]"
      ]
     },
     "execution_count": 85,
     "metadata": {},
     "output_type": "execute_result"
    }
   ],
   "source": [
    "df[[\"Airline\",\"Label_encoded_Airline\"]]"
   ]
  },
  {
   "cell_type": "code",
   "execution_count": null,
   "metadata": {
    "colab": {
     "base_uri": "https://localhost:8080/"
    },
    "id": "pKB1yqXrA46K",
    "outputId": "c3eb869c-41f5-4e90-f539-ead0e1185ab5"
   },
   "outputs": [
    {
     "name": "stdout",
     "output_type": "stream",
     "text": [
      "<class 'pandas.core.frame.DataFrame'>\n",
      "Int64Index: 10462 entries, 0 to 10682\n",
      "Data columns (total 22 columns):\n",
      " #   Column                     Non-Null Count  Dtype         \n",
      "---  ------                     --------------  -----         \n",
      " 0   Airline                    10462 non-null  object        \n",
      " 1   Date_of_Journey            10462 non-null  datetime64[ns]\n",
      " 2   Source                     10462 non-null  object        \n",
      " 3   Destination                10462 non-null  object        \n",
      " 4   Route                      10462 non-null  object        \n",
      " 5   Dep_Time                   10462 non-null  datetime64[ns]\n",
      " 6   Arrival_Time               10462 non-null  datetime64[ns]\n",
      " 7   Duration                   10462 non-null  int64         \n",
      " 8   Total_Stops                10462 non-null  float64       \n",
      " 9   Price                      10462 non-null  int64         \n",
      " 10  Freq_encoded_Airline       10462 non-null  float64       \n",
      " 11  Freq_encoded_Source        10462 non-null  float64       \n",
      " 12  Freq_encoded_Destination   10462 non-null  float64       \n",
      " 13  Freq_encoded_Route         10462 non-null  float64       \n",
      " 14  Mean_encoded_Airline       10462 non-null  float64       \n",
      " 15  Mean_encoded_Source        10462 non-null  float64       \n",
      " 16  Mean_encoded_Destination   10462 non-null  float64       \n",
      " 17  Mean_encoded_Route         10462 non-null  float64       \n",
      " 18  Label_encoded_Airline      10462 non-null  int64         \n",
      " 19  Label_encoded_Source       10462 non-null  int64         \n",
      " 20  Label_encoded_Destination  10462 non-null  int64         \n",
      " 21  Label_encoded_Route        10462 non-null  int64         \n",
      "dtypes: datetime64[ns](3), float64(9), int64(6), object(4)\n",
      "memory usage: 1.8+ MB\n"
     ]
    }
   ],
   "source": [
    "df.info()"
   ]
  },
  {
   "cell_type": "code",
   "execution_count": null,
   "metadata": {
    "id": "eMLWVbwIzcJE"
   },
   "outputs": [],
   "source": [
    "## Create a function to handle categorical value\n",
    "def handle_categorical_values(df,target):\n",
    "    '''\n",
    "      This function handles categorical value and create a dataframe.\n",
    "      Input:\n",
    "        df : Dataframe which require categorical value treatment\n",
    "      returns :\n",
    "         Dataframe with all categorical value handled.\n",
    "    '''\n",
    "    encoded_dict = {}\n",
    "    # Getting all object columns\n",
    "    object_columns = df.select_dtypes(object).columns\n",
    "\n",
    "    ## generate frequency encoded categorical values\n",
    "    frequency_encoded_dict ={} \n",
    "    for col in object_columns:\n",
    "        freq_dict = frequency_encoder(df,col)\n",
    "        frequency_encoded_dict[col] = freq_dict\n",
    "\n",
    "    ## generate target mean encoded categorical values\n",
    "    mean_encoded_dict ={} \n",
    "    for col in object_columns:\n",
    "        mean_dict = mean_encoder(df,col,target)\n",
    "        mean_encoded_dict[col] = mean_dict\n",
    "\n",
    "    \n",
    "    ## generate label encoded categorical values\n",
    "    label_encoded_dict ={} \n",
    "    for col in object_columns:\n",
    "        label_dict = label_encoder(df,col)\n",
    "        label_encoded_dict[col] = label_dict\n",
    "    \n",
    "    encoded_dict[\"Frequency\"] = frequency_encoded_dict\n",
    "    encoded_dict[\"Mean\"] = mean_encoded_dict\n",
    "    encoded_dict[\"Label\"] = label_encoded_dict\n",
    "\n",
    "    return encoded_dict"
   ]
  },
  {
   "cell_type": "code",
   "execution_count": null,
   "metadata": {
    "colab": {
     "base_uri": "https://localhost:8080/"
    },
    "id": "0W1XxfzBAWTy",
    "outputId": "7ac8c95f-6225-4155-8d4d-9e508a69d882"
   },
   "outputs": [
    {
     "name": "stdout",
     "output_type": "stream",
     "text": [
      "<class 'pandas.core.frame.DataFrame'>\n",
      "Int64Index: 10462 entries, 0 to 10682\n",
      "Data columns (total 22 columns):\n",
      " #   Column                     Non-Null Count  Dtype         \n",
      "---  ------                     --------------  -----         \n",
      " 0   Airline                    10462 non-null  object        \n",
      " 1   Date_of_Journey            10462 non-null  datetime64[ns]\n",
      " 2   Source                     10462 non-null  object        \n",
      " 3   Destination                10462 non-null  object        \n",
      " 4   Route                      10462 non-null  object        \n",
      " 5   Dep_Time                   10462 non-null  datetime64[ns]\n",
      " 6   Arrival_Time               10462 non-null  datetime64[ns]\n",
      " 7   Duration                   10462 non-null  int64         \n",
      " 8   Total_Stops                10462 non-null  float64       \n",
      " 9   Price                      10462 non-null  int64         \n",
      " 10  Freq_encoded_Airline       10462 non-null  float64       \n",
      " 11  Freq_encoded_Source        10462 non-null  float64       \n",
      " 12  Freq_encoded_Destination   10462 non-null  float64       \n",
      " 13  Freq_encoded_Route         10462 non-null  float64       \n",
      " 14  Mean_encoded_Airline       10462 non-null  float64       \n",
      " 15  Mean_encoded_Source        10462 non-null  float64       \n",
      " 16  Mean_encoded_Destination   10462 non-null  float64       \n",
      " 17  Mean_encoded_Route         10462 non-null  float64       \n",
      " 18  Label_encoded_Airline      10462 non-null  int64         \n",
      " 19  Label_encoded_Source       10462 non-null  int64         \n",
      " 20  Label_encoded_Destination  10462 non-null  int64         \n",
      " 21  Label_encoded_Route        10462 non-null  int64         \n",
      "dtypes: datetime64[ns](3), float64(9), int64(6), object(4)\n",
      "memory usage: 1.8+ MB\n"
     ]
    }
   ],
   "source": [
    "df.info()"
   ]
  },
  {
   "cell_type": "code",
   "execution_count": null,
   "metadata": {
    "id": "3g5YXtNhAZx3"
   },
   "outputs": [],
   "source": [
    "encoded_dict = handle_categorical_values(df,'Price')"
   ]
  },
  {
   "cell_type": "code",
   "execution_count": null,
   "metadata": {
    "colab": {
     "base_uri": "https://localhost:8080/"
    },
    "id": "cepNtJZmA7bE",
    "outputId": "5a92f42f-3933-45ba-a95e-3691cf068842"
   },
   "outputs": [
    {
     "name": "stdout",
     "output_type": "stream",
     "text": [
      "<class 'pandas.core.frame.DataFrame'>\n",
      "Int64Index: 10462 entries, 0 to 10682\n",
      "Data columns (total 22 columns):\n",
      " #   Column                     Non-Null Count  Dtype         \n",
      "---  ------                     --------------  -----         \n",
      " 0   Airline                    10462 non-null  object        \n",
      " 1   Date_of_Journey            10462 non-null  datetime64[ns]\n",
      " 2   Source                     10462 non-null  object        \n",
      " 3   Destination                10462 non-null  object        \n",
      " 4   Route                      10462 non-null  object        \n",
      " 5   Dep_Time                   10462 non-null  datetime64[ns]\n",
      " 6   Arrival_Time               10462 non-null  datetime64[ns]\n",
      " 7   Duration                   10462 non-null  int64         \n",
      " 8   Total_Stops                10462 non-null  float64       \n",
      " 9   Price                      10462 non-null  int64         \n",
      " 10  Freq_encoded_Airline       10462 non-null  float64       \n",
      " 11  Freq_encoded_Source        10462 non-null  float64       \n",
      " 12  Freq_encoded_Destination   10462 non-null  float64       \n",
      " 13  Freq_encoded_Route         10462 non-null  float64       \n",
      " 14  Mean_encoded_Airline       10462 non-null  float64       \n",
      " 15  Mean_encoded_Source        10462 non-null  float64       \n",
      " 16  Mean_encoded_Destination   10462 non-null  float64       \n",
      " 17  Mean_encoded_Route         10462 non-null  float64       \n",
      " 18  Label_encoded_Airline      10462 non-null  int64         \n",
      " 19  Label_encoded_Source       10462 non-null  int64         \n",
      " 20  Label_encoded_Destination  10462 non-null  int64         \n",
      " 21  Label_encoded_Route        10462 non-null  int64         \n",
      "dtypes: datetime64[ns](3), float64(9), int64(6), object(4)\n",
      "memory usage: 1.8+ MB\n"
     ]
    }
   ],
   "source": [
    "df.info()"
   ]
  },
  {
   "cell_type": "markdown",
   "metadata": {
    "id": "zJMcvexGBnyN"
   },
   "source": [
    "# Handling Outlier Values"
   ]
  },
  {
   "cell_type": "code",
   "execution_count": null,
   "metadata": {
    "id": "2LkYwidCB6Uv"
   },
   "outputs": [],
   "source": [
    "## To be Added"
   ]
  },
  {
   "cell_type": "code",
   "execution_count": null,
   "metadata": {
    "id": "kFuGv-LNHgZY"
   },
   "outputs": [],
   "source": [
    "## Can be added as a inbuilt pre-processing pipeline."
   ]
  },
  {
   "cell_type": "markdown",
   "metadata": {
    "id": "rReLMr96B905"
   },
   "source": [
    "# Feature Selection and Engineering"
   ]
  },
  {
   "cell_type": "code",
   "execution_count": null,
   "metadata": {
    "colab": {
     "base_uri": "https://localhost:8080/",
     "height": 1000
    },
    "id": "t8U-OeEQLYGe",
    "outputId": "f2363c4c-a0bc-4da0-e28e-362267478f51"
   },
   "outputs": [
    {
     "data": {
      "text/html": [
       "\n",
       "  <div id=\"df-5fe6775e-9bad-4b7e-8db7-2fff8f0386b7\">\n",
       "    <div class=\"colab-df-container\">\n",
       "      <div>\n",
       "<style scoped>\n",
       "    .dataframe tbody tr th:only-of-type {\n",
       "        vertical-align: middle;\n",
       "    }\n",
       "\n",
       "    .dataframe tbody tr th {\n",
       "        vertical-align: top;\n",
       "    }\n",
       "\n",
       "    .dataframe thead th {\n",
       "        text-align: right;\n",
       "    }\n",
       "</style>\n",
       "<table border=\"1\" class=\"dataframe\">\n",
       "  <thead>\n",
       "    <tr style=\"text-align: right;\">\n",
       "      <th></th>\n",
       "      <th>Airline</th>\n",
       "      <th>Date_of_Journey</th>\n",
       "      <th>Source</th>\n",
       "      <th>Destination</th>\n",
       "      <th>Route</th>\n",
       "      <th>Dep_Time</th>\n",
       "      <th>Arrival_Time</th>\n",
       "      <th>Duration</th>\n",
       "      <th>Total_Stops</th>\n",
       "      <th>Price</th>\n",
       "      <th>...</th>\n",
       "      <th>Freq_encoded_Destination</th>\n",
       "      <th>Freq_encoded_Route</th>\n",
       "      <th>Mean_encoded_Airline</th>\n",
       "      <th>Mean_encoded_Source</th>\n",
       "      <th>Mean_encoded_Destination</th>\n",
       "      <th>Mean_encoded_Route</th>\n",
       "      <th>Label_encoded_Airline</th>\n",
       "      <th>Label_encoded_Source</th>\n",
       "      <th>Label_encoded_Destination</th>\n",
       "      <th>Label_encoded_Route</th>\n",
       "    </tr>\n",
       "  </thead>\n",
       "  <tbody>\n",
       "    <tr>\n",
       "      <th>0</th>\n",
       "      <td>IndiGo</td>\n",
       "      <td>2019-03-24</td>\n",
       "      <td>Banglore</td>\n",
       "      <td>New Delhi</td>\n",
       "      <td>BLR → DEL</td>\n",
       "      <td>2022-05-21 22:20:00</td>\n",
       "      <td>2022-03-22 01:10:00</td>\n",
       "      <td>170</td>\n",
       "      <td>0.0</td>\n",
       "      <td>3897</td>\n",
       "      <td>...</td>\n",
       "      <td>0.087364</td>\n",
       "      <td>0.146817</td>\n",
       "      <td>5668.469897</td>\n",
       "      <td>8022.872877</td>\n",
       "      <td>12007.421225</td>\n",
       "      <td>5552.235677</td>\n",
       "      <td>3</td>\n",
       "      <td>0</td>\n",
       "      <td>5</td>\n",
       "      <td>18</td>\n",
       "    </tr>\n",
       "    <tr>\n",
       "      <th>1</th>\n",
       "      <td>Air India</td>\n",
       "      <td>2019-01-05</td>\n",
       "      <td>Kolkata</td>\n",
       "      <td>Banglore</td>\n",
       "      <td>CCU → IXR → BBI → BLR</td>\n",
       "      <td>2022-05-21 05:50:00</td>\n",
       "      <td>2022-05-21 13:15:00</td>\n",
       "      <td>445</td>\n",
       "      <td>2.0</td>\n",
       "      <td>7662</td>\n",
       "      <td>...</td>\n",
       "      <td>0.273370</td>\n",
       "      <td>0.000574</td>\n",
       "      <td>9556.608028</td>\n",
       "      <td>9143.083566</td>\n",
       "      <td>9143.083566</td>\n",
       "      <td>7369.166667</td>\n",
       "      <td>1</td>\n",
       "      <td>3</td>\n",
       "      <td>0</td>\n",
       "      <td>84</td>\n",
       "    </tr>\n",
       "    <tr>\n",
       "      <th>2</th>\n",
       "      <td>Jet Airways</td>\n",
       "      <td>2019-09-06</td>\n",
       "      <td>Delhi</td>\n",
       "      <td>Cochin</td>\n",
       "      <td>DEL → LKO → BOM → COK</td>\n",
       "      <td>2022-05-21 09:25:00</td>\n",
       "      <td>2022-06-10 04:25:00</td>\n",
       "      <td>1140</td>\n",
       "      <td>2.0</td>\n",
       "      <td>13882</td>\n",
       "      <td>...</td>\n",
       "      <td>0.415313</td>\n",
       "      <td>0.003919</td>\n",
       "      <td>11599.021081</td>\n",
       "      <td>10461.600690</td>\n",
       "      <td>10461.600690</td>\n",
       "      <td>13277.195122</td>\n",
       "      <td>4</td>\n",
       "      <td>2</td>\n",
       "      <td>1</td>\n",
       "      <td>118</td>\n",
       "    </tr>\n",
       "    <tr>\n",
       "      <th>3</th>\n",
       "      <td>IndiGo</td>\n",
       "      <td>2019-12-05</td>\n",
       "      <td>Kolkata</td>\n",
       "      <td>Banglore</td>\n",
       "      <td>CCU → NAG → BLR</td>\n",
       "      <td>2022-05-21 18:05:00</td>\n",
       "      <td>2022-05-21 23:30:00</td>\n",
       "      <td>325</td>\n",
       "      <td>1.0</td>\n",
       "      <td>6218</td>\n",
       "      <td>...</td>\n",
       "      <td>0.273370</td>\n",
       "      <td>0.000860</td>\n",
       "      <td>5668.469897</td>\n",
       "      <td>9143.083566</td>\n",
       "      <td>9143.083566</td>\n",
       "      <td>6279.333333</td>\n",
       "      <td>3</td>\n",
       "      <td>3</td>\n",
       "      <td>0</td>\n",
       "      <td>91</td>\n",
       "    </tr>\n",
       "    <tr>\n",
       "      <th>4</th>\n",
       "      <td>IndiGo</td>\n",
       "      <td>2019-01-03</td>\n",
       "      <td>Banglore</td>\n",
       "      <td>New Delhi</td>\n",
       "      <td>BLR → NAG → DEL</td>\n",
       "      <td>2022-05-21 16:50:00</td>\n",
       "      <td>2022-05-21 21:35:00</td>\n",
       "      <td>285</td>\n",
       "      <td>1.0</td>\n",
       "      <td>13302</td>\n",
       "      <td>...</td>\n",
       "      <td>0.087364</td>\n",
       "      <td>0.000287</td>\n",
       "      <td>5668.469897</td>\n",
       "      <td>8022.872877</td>\n",
       "      <td>12007.421225</td>\n",
       "      <td>11313.000000</td>\n",
       "      <td>3</td>\n",
       "      <td>0</td>\n",
       "      <td>5</td>\n",
       "      <td>29</td>\n",
       "    </tr>\n",
       "    <tr>\n",
       "      <th>...</th>\n",
       "      <td>...</td>\n",
       "      <td>...</td>\n",
       "      <td>...</td>\n",
       "      <td>...</td>\n",
       "      <td>...</td>\n",
       "      <td>...</td>\n",
       "      <td>...</td>\n",
       "      <td>...</td>\n",
       "      <td>...</td>\n",
       "      <td>...</td>\n",
       "      <td>...</td>\n",
       "      <td>...</td>\n",
       "      <td>...</td>\n",
       "      <td>...</td>\n",
       "      <td>...</td>\n",
       "      <td>...</td>\n",
       "      <td>...</td>\n",
       "      <td>...</td>\n",
       "      <td>...</td>\n",
       "      <td>...</td>\n",
       "      <td>...</td>\n",
       "    </tr>\n",
       "    <tr>\n",
       "      <th>10678</th>\n",
       "      <td>Air Asia</td>\n",
       "      <td>2019-09-04</td>\n",
       "      <td>Kolkata</td>\n",
       "      <td>Banglore</td>\n",
       "      <td>CCU → BLR</td>\n",
       "      <td>2022-05-21 19:55:00</td>\n",
       "      <td>2022-05-21 22:25:00</td>\n",
       "      <td>150</td>\n",
       "      <td>0.0</td>\n",
       "      <td>4107</td>\n",
       "      <td>...</td>\n",
       "      <td>0.273370</td>\n",
       "      <td>0.069203</td>\n",
       "      <td>5590.260188</td>\n",
       "      <td>9143.083566</td>\n",
       "      <td>9143.083566</td>\n",
       "      <td>4556.055249</td>\n",
       "      <td>0</td>\n",
       "      <td>3</td>\n",
       "      <td>0</td>\n",
       "      <td>64</td>\n",
       "    </tr>\n",
       "    <tr>\n",
       "      <th>10679</th>\n",
       "      <td>Air India</td>\n",
       "      <td>2019-04-27</td>\n",
       "      <td>Kolkata</td>\n",
       "      <td>Banglore</td>\n",
       "      <td>CCU → BLR</td>\n",
       "      <td>2022-05-21 20:45:00</td>\n",
       "      <td>2022-05-21 23:20:00</td>\n",
       "      <td>155</td>\n",
       "      <td>0.0</td>\n",
       "      <td>4145</td>\n",
       "      <td>...</td>\n",
       "      <td>0.273370</td>\n",
       "      <td>0.069203</td>\n",
       "      <td>9556.608028</td>\n",
       "      <td>9143.083566</td>\n",
       "      <td>9143.083566</td>\n",
       "      <td>4556.055249</td>\n",
       "      <td>1</td>\n",
       "      <td>3</td>\n",
       "      <td>0</td>\n",
       "      <td>64</td>\n",
       "    </tr>\n",
       "    <tr>\n",
       "      <th>10680</th>\n",
       "      <td>Jet Airways</td>\n",
       "      <td>2019-04-27</td>\n",
       "      <td>Banglore</td>\n",
       "      <td>Delhi</td>\n",
       "      <td>BLR → DEL</td>\n",
       "      <td>2022-05-21 08:20:00</td>\n",
       "      <td>2022-05-21 11:20:00</td>\n",
       "      <td>180</td>\n",
       "      <td>0.0</td>\n",
       "      <td>7229</td>\n",
       "      <td>...</td>\n",
       "      <td>0.120914</td>\n",
       "      <td>0.146817</td>\n",
       "      <td>11599.021081</td>\n",
       "      <td>8022.872877</td>\n",
       "      <td>5143.918577</td>\n",
       "      <td>5552.235677</td>\n",
       "      <td>4</td>\n",
       "      <td>0</td>\n",
       "      <td>2</td>\n",
       "      <td>18</td>\n",
       "    </tr>\n",
       "    <tr>\n",
       "      <th>10681</th>\n",
       "      <td>Vistara</td>\n",
       "      <td>2019-01-03</td>\n",
       "      <td>Banglore</td>\n",
       "      <td>New Delhi</td>\n",
       "      <td>BLR → DEL</td>\n",
       "      <td>2022-05-21 11:30:00</td>\n",
       "      <td>2022-05-21 14:10:00</td>\n",
       "      <td>160</td>\n",
       "      <td>0.0</td>\n",
       "      <td>12648</td>\n",
       "      <td>...</td>\n",
       "      <td>0.087364</td>\n",
       "      <td>0.146817</td>\n",
       "      <td>7801.355649</td>\n",
       "      <td>8022.872877</td>\n",
       "      <td>12007.421225</td>\n",
       "      <td>5552.235677</td>\n",
       "      <td>10</td>\n",
       "      <td>0</td>\n",
       "      <td>5</td>\n",
       "      <td>18</td>\n",
       "    </tr>\n",
       "    <tr>\n",
       "      <th>10682</th>\n",
       "      <td>Air India</td>\n",
       "      <td>2019-09-05</td>\n",
       "      <td>Delhi</td>\n",
       "      <td>Cochin</td>\n",
       "      <td>DEL → GOI → BOM → COK</td>\n",
       "      <td>2022-05-21 10:55:00</td>\n",
       "      <td>2022-05-21 19:15:00</td>\n",
       "      <td>500</td>\n",
       "      <td>2.0</td>\n",
       "      <td>11753</td>\n",
       "      <td>...</td>\n",
       "      <td>0.415313</td>\n",
       "      <td>0.004206</td>\n",
       "      <td>9556.608028</td>\n",
       "      <td>10461.600690</td>\n",
       "      <td>10461.600690</td>\n",
       "      <td>11941.818182</td>\n",
       "      <td>1</td>\n",
       "      <td>2</td>\n",
       "      <td>1</td>\n",
       "      <td>108</td>\n",
       "    </tr>\n",
       "  </tbody>\n",
       "</table>\n",
       "<p>10462 rows × 22 columns</p>\n",
       "</div>\n",
       "      <button class=\"colab-df-convert\" onclick=\"convertToInteractive('df-5fe6775e-9bad-4b7e-8db7-2fff8f0386b7')\"\n",
       "              title=\"Convert this dataframe to an interactive table.\"\n",
       "              style=\"display:none;\">\n",
       "        \n",
       "  <svg xmlns=\"http://www.w3.org/2000/svg\" height=\"24px\"viewBox=\"0 0 24 24\"\n",
       "       width=\"24px\">\n",
       "    <path d=\"M0 0h24v24H0V0z\" fill=\"none\"/>\n",
       "    <path d=\"M18.56 5.44l.94 2.06.94-2.06 2.06-.94-2.06-.94-.94-2.06-.94 2.06-2.06.94zm-11 1L8.5 8.5l.94-2.06 2.06-.94-2.06-.94L8.5 2.5l-.94 2.06-2.06.94zm10 10l.94 2.06.94-2.06 2.06-.94-2.06-.94-.94-2.06-.94 2.06-2.06.94z\"/><path d=\"M17.41 7.96l-1.37-1.37c-.4-.4-.92-.59-1.43-.59-.52 0-1.04.2-1.43.59L10.3 9.45l-7.72 7.72c-.78.78-.78 2.05 0 2.83L4 21.41c.39.39.9.59 1.41.59.51 0 1.02-.2 1.41-.59l7.78-7.78 2.81-2.81c.8-.78.8-2.07 0-2.86zM5.41 20L4 18.59l7.72-7.72 1.47 1.35L5.41 20z\"/>\n",
       "  </svg>\n",
       "      </button>\n",
       "      \n",
       "  <style>\n",
       "    .colab-df-container {\n",
       "      display:flex;\n",
       "      flex-wrap:wrap;\n",
       "      gap: 12px;\n",
       "    }\n",
       "\n",
       "    .colab-df-convert {\n",
       "      background-color: #E8F0FE;\n",
       "      border: none;\n",
       "      border-radius: 50%;\n",
       "      cursor: pointer;\n",
       "      display: none;\n",
       "      fill: #1967D2;\n",
       "      height: 32px;\n",
       "      padding: 0 0 0 0;\n",
       "      width: 32px;\n",
       "    }\n",
       "\n",
       "    .colab-df-convert:hover {\n",
       "      background-color: #E2EBFA;\n",
       "      box-shadow: 0px 1px 2px rgba(60, 64, 67, 0.3), 0px 1px 3px 1px rgba(60, 64, 67, 0.15);\n",
       "      fill: #174EA6;\n",
       "    }\n",
       "\n",
       "    [theme=dark] .colab-df-convert {\n",
       "      background-color: #3B4455;\n",
       "      fill: #D2E3FC;\n",
       "    }\n",
       "\n",
       "    [theme=dark] .colab-df-convert:hover {\n",
       "      background-color: #434B5C;\n",
       "      box-shadow: 0px 1px 3px 1px rgba(0, 0, 0, 0.15);\n",
       "      filter: drop-shadow(0px 1px 2px rgba(0, 0, 0, 0.3));\n",
       "      fill: #FFFFFF;\n",
       "    }\n",
       "  </style>\n",
       "\n",
       "      <script>\n",
       "        const buttonEl =\n",
       "          document.querySelector('#df-5fe6775e-9bad-4b7e-8db7-2fff8f0386b7 button.colab-df-convert');\n",
       "        buttonEl.style.display =\n",
       "          google.colab.kernel.accessAllowed ? 'block' : 'none';\n",
       "\n",
       "        async function convertToInteractive(key) {\n",
       "          const element = document.querySelector('#df-5fe6775e-9bad-4b7e-8db7-2fff8f0386b7');\n",
       "          const dataTable =\n",
       "            await google.colab.kernel.invokeFunction('convertToInteractive',\n",
       "                                                     [key], {});\n",
       "          if (!dataTable) return;\n",
       "\n",
       "          const docLinkHtml = 'Like what you see? Visit the ' +\n",
       "            '<a target=\"_blank\" href=https://colab.research.google.com/notebooks/data_table.ipynb>data table notebook</a>'\n",
       "            + ' to learn more about interactive tables.';\n",
       "          element.innerHTML = '';\n",
       "          dataTable['output_type'] = 'display_data';\n",
       "          await google.colab.output.renderOutput(dataTable, element);\n",
       "          const docLink = document.createElement('div');\n",
       "          docLink.innerHTML = docLinkHtml;\n",
       "          element.appendChild(docLink);\n",
       "        }\n",
       "      </script>\n",
       "    </div>\n",
       "  </div>\n",
       "  "
      ],
      "text/plain": [
       "           Airline Date_of_Journey    Source Destination  \\\n",
       "0           IndiGo      2019-03-24  Banglore   New Delhi   \n",
       "1        Air India      2019-01-05   Kolkata    Banglore   \n",
       "2      Jet Airways      2019-09-06     Delhi      Cochin   \n",
       "3           IndiGo      2019-12-05   Kolkata    Banglore   \n",
       "4           IndiGo      2019-01-03  Banglore   New Delhi   \n",
       "...            ...             ...       ...         ...   \n",
       "10678     Air Asia      2019-09-04   Kolkata    Banglore   \n",
       "10679    Air India      2019-04-27   Kolkata    Banglore   \n",
       "10680  Jet Airways      2019-04-27  Banglore       Delhi   \n",
       "10681      Vistara      2019-01-03  Banglore   New Delhi   \n",
       "10682    Air India      2019-09-05     Delhi      Cochin   \n",
       "\n",
       "                       Route            Dep_Time        Arrival_Time  \\\n",
       "0                  BLR → DEL 2022-05-21 22:20:00 2022-03-22 01:10:00   \n",
       "1      CCU → IXR → BBI → BLR 2022-05-21 05:50:00 2022-05-21 13:15:00   \n",
       "2      DEL → LKO → BOM → COK 2022-05-21 09:25:00 2022-06-10 04:25:00   \n",
       "3            CCU → NAG → BLR 2022-05-21 18:05:00 2022-05-21 23:30:00   \n",
       "4            BLR → NAG → DEL 2022-05-21 16:50:00 2022-05-21 21:35:00   \n",
       "...                      ...                 ...                 ...   \n",
       "10678              CCU → BLR 2022-05-21 19:55:00 2022-05-21 22:25:00   \n",
       "10679              CCU → BLR 2022-05-21 20:45:00 2022-05-21 23:20:00   \n",
       "10680              BLR → DEL 2022-05-21 08:20:00 2022-05-21 11:20:00   \n",
       "10681              BLR → DEL 2022-05-21 11:30:00 2022-05-21 14:10:00   \n",
       "10682  DEL → GOI → BOM → COK 2022-05-21 10:55:00 2022-05-21 19:15:00   \n",
       "\n",
       "       Duration  Total_Stops  Price  ...  Freq_encoded_Destination  \\\n",
       "0           170          0.0   3897  ...                  0.087364   \n",
       "1           445          2.0   7662  ...                  0.273370   \n",
       "2          1140          2.0  13882  ...                  0.415313   \n",
       "3           325          1.0   6218  ...                  0.273370   \n",
       "4           285          1.0  13302  ...                  0.087364   \n",
       "...         ...          ...    ...  ...                       ...   \n",
       "10678       150          0.0   4107  ...                  0.273370   \n",
       "10679       155          0.0   4145  ...                  0.273370   \n",
       "10680       180          0.0   7229  ...                  0.120914   \n",
       "10681       160          0.0  12648  ...                  0.087364   \n",
       "10682       500          2.0  11753  ...                  0.415313   \n",
       "\n",
       "       Freq_encoded_Route  Mean_encoded_Airline  Mean_encoded_Source  \\\n",
       "0                0.146817           5668.469897          8022.872877   \n",
       "1                0.000574           9556.608028          9143.083566   \n",
       "2                0.003919          11599.021081         10461.600690   \n",
       "3                0.000860           5668.469897          9143.083566   \n",
       "4                0.000287           5668.469897          8022.872877   \n",
       "...                   ...                   ...                  ...   \n",
       "10678            0.069203           5590.260188          9143.083566   \n",
       "10679            0.069203           9556.608028          9143.083566   \n",
       "10680            0.146817          11599.021081          8022.872877   \n",
       "10681            0.146817           7801.355649          8022.872877   \n",
       "10682            0.004206           9556.608028         10461.600690   \n",
       "\n",
       "       Mean_encoded_Destination  Mean_encoded_Route  Label_encoded_Airline  \\\n",
       "0                  12007.421225         5552.235677                      3   \n",
       "1                   9143.083566         7369.166667                      1   \n",
       "2                  10461.600690        13277.195122                      4   \n",
       "3                   9143.083566         6279.333333                      3   \n",
       "4                  12007.421225        11313.000000                      3   \n",
       "...                         ...                 ...                    ...   \n",
       "10678               9143.083566         4556.055249                      0   \n",
       "10679               9143.083566         4556.055249                      1   \n",
       "10680               5143.918577         5552.235677                      4   \n",
       "10681              12007.421225         5552.235677                     10   \n",
       "10682              10461.600690        11941.818182                      1   \n",
       "\n",
       "       Label_encoded_Source  Label_encoded_Destination  Label_encoded_Route  \n",
       "0                         0                          5                   18  \n",
       "1                         3                          0                   84  \n",
       "2                         2                          1                  118  \n",
       "3                         3                          0                   91  \n",
       "4                         0                          5                   29  \n",
       "...                     ...                        ...                  ...  \n",
       "10678                     3                          0                   64  \n",
       "10679                     3                          0                   64  \n",
       "10680                     0                          2                   18  \n",
       "10681                     0                          5                   18  \n",
       "10682                     2                          1                  108  \n",
       "\n",
       "[10462 rows x 22 columns]"
      ]
     },
     "execution_count": 92,
     "metadata": {},
     "output_type": "execute_result"
    }
   ],
   "source": [
    "df"
   ]
  },
  {
   "cell_type": "code",
   "execution_count": null,
   "metadata": {
    "colab": {
     "base_uri": "https://localhost:8080/"
    },
    "id": "DEwGX6oPvE_B",
    "outputId": "13ab7a1a-e474-44e1-8c2f-7d2d5ddafe33"
   },
   "outputs": [
    {
     "data": {
      "text/plain": [
       "Index(['Airline', 'Date_of_Journey', 'Source', 'Destination', 'Route',\n",
       "       'Dep_Time', 'Arrival_Time', 'Duration', 'Total_Stops', 'Price',\n",
       "       'Freq_encoded_Airline', 'Freq_encoded_Source',\n",
       "       'Freq_encoded_Destination', 'Freq_encoded_Route',\n",
       "       'Mean_encoded_Airline', 'Mean_encoded_Source',\n",
       "       'Mean_encoded_Destination', 'Mean_encoded_Route',\n",
       "       'Label_encoded_Airline', 'Label_encoded_Source',\n",
       "       'Label_encoded_Destination', 'Label_encoded_Route'],\n",
       "      dtype='object')"
      ]
     },
     "execution_count": 93,
     "metadata": {},
     "output_type": "execute_result"
    }
   ],
   "source": [
    "df.columns"
   ]
  },
  {
   "cell_type": "code",
   "execution_count": null,
   "metadata": {
    "colab": {
     "base_uri": "https://localhost:8080/",
     "height": 584
    },
    "id": "Euq4n4nCCH85",
    "outputId": "41dc0112-cdb0-4fb4-c495-b5313f33fc73"
   },
   "outputs": [
    {
     "data": {
      "text/html": [
       "\n",
       "  <div id=\"df-59a3cbb6-bd0c-4cbf-80f7-a5fe8bf97a1a\">\n",
       "    <div class=\"colab-df-container\">\n",
       "      <div>\n",
       "<style scoped>\n",
       "    .dataframe tbody tr th:only-of-type {\n",
       "        vertical-align: middle;\n",
       "    }\n",
       "\n",
       "    .dataframe tbody tr th {\n",
       "        vertical-align: top;\n",
       "    }\n",
       "\n",
       "    .dataframe thead th {\n",
       "        text-align: right;\n",
       "    }\n",
       "</style>\n",
       "<table border=\"1\" class=\"dataframe\">\n",
       "  <thead>\n",
       "    <tr style=\"text-align: right;\">\n",
       "      <th></th>\n",
       "      <th>Duration</th>\n",
       "      <th>Total_Stops</th>\n",
       "      <th>Price</th>\n",
       "      <th>Freq_encoded_Airline</th>\n",
       "      <th>Freq_encoded_Source</th>\n",
       "      <th>Freq_encoded_Destination</th>\n",
       "      <th>Freq_encoded_Route</th>\n",
       "      <th>Mean_encoded_Airline</th>\n",
       "      <th>Mean_encoded_Source</th>\n",
       "      <th>Mean_encoded_Destination</th>\n",
       "      <th>Mean_encoded_Route</th>\n",
       "      <th>Label_encoded_Airline</th>\n",
       "      <th>Label_encoded_Source</th>\n",
       "      <th>Label_encoded_Destination</th>\n",
       "      <th>Label_encoded_Route</th>\n",
       "    </tr>\n",
       "  </thead>\n",
       "  <tbody>\n",
       "    <tr>\n",
       "      <th>Duration</th>\n",
       "      <td>1.000000</td>\n",
       "      <td>0.727982</td>\n",
       "      <td>0.501758</td>\n",
       "      <td>0.289457</td>\n",
       "      <td>0.400039</td>\n",
       "      <td>0.403206</td>\n",
       "      <td>-0.111065</td>\n",
       "      <td>0.433989</td>\n",
       "      <td>0.414954</td>\n",
       "      <td>0.453452</td>\n",
       "      <td>0.671871</td>\n",
       "      <td>-0.153618</td>\n",
       "      <td>0.162808</td>\n",
       "      <td>-0.254243</td>\n",
       "      <td>0.273200</td>\n",
       "    </tr>\n",
       "    <tr>\n",
       "      <th>Total_Stops</th>\n",
       "      <td>0.727982</td>\n",
       "      <td>1.000000</td>\n",
       "      <td>0.602013</td>\n",
       "      <td>0.211803</td>\n",
       "      <td>0.571402</td>\n",
       "      <td>0.575447</td>\n",
       "      <td>-0.205605</td>\n",
       "      <td>0.421327</td>\n",
       "      <td>0.559200</td>\n",
       "      <td>0.595820</td>\n",
       "      <td>0.806690</td>\n",
       "      <td>-0.194549</td>\n",
       "      <td>0.194203</td>\n",
       "      <td>-0.291763</td>\n",
       "      <td>0.441347</td>\n",
       "    </tr>\n",
       "    <tr>\n",
       "      <th>Price</th>\n",
       "      <td>0.501758</td>\n",
       "      <td>0.602013</td>\n",
       "      <td>1.000000</td>\n",
       "      <td>0.371620</td>\n",
       "      <td>0.350997</td>\n",
       "      <td>0.311329</td>\n",
       "      <td>0.038912</td>\n",
       "      <td>0.638674</td>\n",
       "      <td>0.359938</td>\n",
       "      <td>0.491191</td>\n",
       "      <td>0.746275</td>\n",
       "      <td>-0.036491</td>\n",
       "      <td>0.013796</td>\n",
       "      <td>-0.065875</td>\n",
       "      <td>0.154374</td>\n",
       "    </tr>\n",
       "    <tr>\n",
       "      <th>Freq_encoded_Airline</th>\n",
       "      <td>0.289457</td>\n",
       "      <td>0.211803</td>\n",
       "      <td>0.371620</td>\n",
       "      <td>1.000000</td>\n",
       "      <td>0.038026</td>\n",
       "      <td>0.029203</td>\n",
       "      <td>0.019636</td>\n",
       "      <td>0.581861</td>\n",
       "      <td>0.056089</td>\n",
       "      <td>0.102435</td>\n",
       "      <td>0.367567</td>\n",
       "      <td>-0.200348</td>\n",
       "      <td>0.055926</td>\n",
       "      <td>-0.035332</td>\n",
       "      <td>-0.065789</td>\n",
       "    </tr>\n",
       "    <tr>\n",
       "      <th>Freq_encoded_Source</th>\n",
       "      <td>0.400039</td>\n",
       "      <td>0.571402</td>\n",
       "      <td>0.350997</td>\n",
       "      <td>0.038026</td>\n",
       "      <td>1.000000</td>\n",
       "      <td>0.959924</td>\n",
       "      <td>0.303115</td>\n",
       "      <td>0.258498</td>\n",
       "      <td>0.975159</td>\n",
       "      <td>0.714584</td>\n",
       "      <td>0.470332</td>\n",
       "      <td>-0.049748</td>\n",
       "      <td>0.066914</td>\n",
       "      <td>-0.544907</td>\n",
       "      <td>0.612054</td>\n",
       "    </tr>\n",
       "    <tr>\n",
       "      <th>Freq_encoded_Destination</th>\n",
       "      <td>0.403206</td>\n",
       "      <td>0.575447</td>\n",
       "      <td>0.311329</td>\n",
       "      <td>0.029203</td>\n",
       "      <td>0.959924</td>\n",
       "      <td>1.000000</td>\n",
       "      <td>0.247081</td>\n",
       "      <td>0.234645</td>\n",
       "      <td>0.915733</td>\n",
       "      <td>0.633826</td>\n",
       "      <td>0.420651</td>\n",
       "      <td>-0.033982</td>\n",
       "      <td>0.308334</td>\n",
       "      <td>-0.672920</td>\n",
       "      <td>0.763369</td>\n",
       "    </tr>\n",
       "    <tr>\n",
       "      <th>Freq_encoded_Route</th>\n",
       "      <td>-0.111065</td>\n",
       "      <td>-0.205605</td>\n",
       "      <td>0.038912</td>\n",
       "      <td>0.019636</td>\n",
       "      <td>0.303115</td>\n",
       "      <td>0.247081</td>\n",
       "      <td>1.000000</td>\n",
       "      <td>0.158467</td>\n",
       "      <td>0.272478</td>\n",
       "      <td>0.039335</td>\n",
       "      <td>0.052142</td>\n",
       "      <td>0.194054</td>\n",
       "      <td>-0.196373</td>\n",
       "      <td>-0.083163</td>\n",
       "      <td>0.055678</td>\n",
       "    </tr>\n",
       "    <tr>\n",
       "      <th>Mean_encoded_Airline</th>\n",
       "      <td>0.433989</td>\n",
       "      <td>0.421327</td>\n",
       "      <td>0.638674</td>\n",
       "      <td>0.581861</td>\n",
       "      <td>0.258498</td>\n",
       "      <td>0.234645</td>\n",
       "      <td>0.158467</td>\n",
       "      <td>1.000000</td>\n",
       "      <td>0.257259</td>\n",
       "      <td>0.277117</td>\n",
       "      <td>0.572144</td>\n",
       "      <td>-0.057135</td>\n",
       "      <td>0.047805</td>\n",
       "      <td>-0.094354</td>\n",
       "      <td>0.071608</td>\n",
       "    </tr>\n",
       "    <tr>\n",
       "      <th>Mean_encoded_Source</th>\n",
       "      <td>0.414954</td>\n",
       "      <td>0.559200</td>\n",
       "      <td>0.359938</td>\n",
       "      <td>0.056089</td>\n",
       "      <td>0.975159</td>\n",
       "      <td>0.915733</td>\n",
       "      <td>0.272478</td>\n",
       "      <td>0.257259</td>\n",
       "      <td>1.000000</td>\n",
       "      <td>0.732787</td>\n",
       "      <td>0.482313</td>\n",
       "      <td>-0.059864</td>\n",
       "      <td>0.038329</td>\n",
       "      <td>-0.606651</td>\n",
       "      <td>0.496810</td>\n",
       "    </tr>\n",
       "    <tr>\n",
       "      <th>Mean_encoded_Destination</th>\n",
       "      <td>0.453452</td>\n",
       "      <td>0.595820</td>\n",
       "      <td>0.491191</td>\n",
       "      <td>0.102435</td>\n",
       "      <td>0.714584</td>\n",
       "      <td>0.633826</td>\n",
       "      <td>0.039335</td>\n",
       "      <td>0.277117</td>\n",
       "      <td>0.732787</td>\n",
       "      <td>1.000000</td>\n",
       "      <td>0.614966</td>\n",
       "      <td>-0.082190</td>\n",
       "      <td>0.028087</td>\n",
       "      <td>-0.134114</td>\n",
       "      <td>0.339975</td>\n",
       "    </tr>\n",
       "    <tr>\n",
       "      <th>Mean_encoded_Route</th>\n",
       "      <td>0.671871</td>\n",
       "      <td>0.806690</td>\n",
       "      <td>0.746275</td>\n",
       "      <td>0.367567</td>\n",
       "      <td>0.470332</td>\n",
       "      <td>0.420651</td>\n",
       "      <td>0.052142</td>\n",
       "      <td>0.572144</td>\n",
       "      <td>0.482313</td>\n",
       "      <td>0.614966</td>\n",
       "      <td>1.000000</td>\n",
       "      <td>-0.058168</td>\n",
       "      <td>0.018486</td>\n",
       "      <td>-0.117251</td>\n",
       "      <td>0.206860</td>\n",
       "    </tr>\n",
       "    <tr>\n",
       "      <th>Label_encoded_Airline</th>\n",
       "      <td>-0.153618</td>\n",
       "      <td>-0.194549</td>\n",
       "      <td>-0.036491</td>\n",
       "      <td>-0.200348</td>\n",
       "      <td>-0.049748</td>\n",
       "      <td>-0.033982</td>\n",
       "      <td>0.194054</td>\n",
       "      <td>-0.057135</td>\n",
       "      <td>-0.059864</td>\n",
       "      <td>-0.082190</td>\n",
       "      <td>-0.058168</td>\n",
       "      <td>1.000000</td>\n",
       "      <td>-0.012172</td>\n",
       "      <td>0.015942</td>\n",
       "      <td>0.029636</td>\n",
       "    </tr>\n",
       "    <tr>\n",
       "      <th>Label_encoded_Source</th>\n",
       "      <td>0.162808</td>\n",
       "      <td>0.194203</td>\n",
       "      <td>0.013796</td>\n",
       "      <td>0.055926</td>\n",
       "      <td>0.066914</td>\n",
       "      <td>0.308334</td>\n",
       "      <td>-0.196373</td>\n",
       "      <td>0.047805</td>\n",
       "      <td>0.038329</td>\n",
       "      <td>0.028087</td>\n",
       "      <td>0.018486</td>\n",
       "      <td>-0.012172</td>\n",
       "      <td>1.000000</td>\n",
       "      <td>-0.589992</td>\n",
       "      <td>0.403884</td>\n",
       "    </tr>\n",
       "    <tr>\n",
       "      <th>Label_encoded_Destination</th>\n",
       "      <td>-0.254243</td>\n",
       "      <td>-0.291763</td>\n",
       "      <td>-0.065875</td>\n",
       "      <td>-0.035332</td>\n",
       "      <td>-0.544907</td>\n",
       "      <td>-0.672920</td>\n",
       "      <td>-0.083163</td>\n",
       "      <td>-0.094354</td>\n",
       "      <td>-0.606651</td>\n",
       "      <td>-0.134114</td>\n",
       "      <td>-0.117251</td>\n",
       "      <td>0.015942</td>\n",
       "      <td>-0.589992</td>\n",
       "      <td>1.000000</td>\n",
       "      <td>-0.457559</td>\n",
       "    </tr>\n",
       "    <tr>\n",
       "      <th>Label_encoded_Route</th>\n",
       "      <td>0.273200</td>\n",
       "      <td>0.441347</td>\n",
       "      <td>0.154374</td>\n",
       "      <td>-0.065789</td>\n",
       "      <td>0.612054</td>\n",
       "      <td>0.763369</td>\n",
       "      <td>0.055678</td>\n",
       "      <td>0.071608</td>\n",
       "      <td>0.496810</td>\n",
       "      <td>0.339975</td>\n",
       "      <td>0.206860</td>\n",
       "      <td>0.029636</td>\n",
       "      <td>0.403884</td>\n",
       "      <td>-0.457559</td>\n",
       "      <td>1.000000</td>\n",
       "    </tr>\n",
       "  </tbody>\n",
       "</table>\n",
       "</div>\n",
       "      <button class=\"colab-df-convert\" onclick=\"convertToInteractive('df-59a3cbb6-bd0c-4cbf-80f7-a5fe8bf97a1a')\"\n",
       "              title=\"Convert this dataframe to an interactive table.\"\n",
       "              style=\"display:none;\">\n",
       "        \n",
       "  <svg xmlns=\"http://www.w3.org/2000/svg\" height=\"24px\"viewBox=\"0 0 24 24\"\n",
       "       width=\"24px\">\n",
       "    <path d=\"M0 0h24v24H0V0z\" fill=\"none\"/>\n",
       "    <path d=\"M18.56 5.44l.94 2.06.94-2.06 2.06-.94-2.06-.94-.94-2.06-.94 2.06-2.06.94zm-11 1L8.5 8.5l.94-2.06 2.06-.94-2.06-.94L8.5 2.5l-.94 2.06-2.06.94zm10 10l.94 2.06.94-2.06 2.06-.94-2.06-.94-.94-2.06-.94 2.06-2.06.94z\"/><path d=\"M17.41 7.96l-1.37-1.37c-.4-.4-.92-.59-1.43-.59-.52 0-1.04.2-1.43.59L10.3 9.45l-7.72 7.72c-.78.78-.78 2.05 0 2.83L4 21.41c.39.39.9.59 1.41.59.51 0 1.02-.2 1.41-.59l7.78-7.78 2.81-2.81c.8-.78.8-2.07 0-2.86zM5.41 20L4 18.59l7.72-7.72 1.47 1.35L5.41 20z\"/>\n",
       "  </svg>\n",
       "      </button>\n",
       "      \n",
       "  <style>\n",
       "    .colab-df-container {\n",
       "      display:flex;\n",
       "      flex-wrap:wrap;\n",
       "      gap: 12px;\n",
       "    }\n",
       "\n",
       "    .colab-df-convert {\n",
       "      background-color: #E8F0FE;\n",
       "      border: none;\n",
       "      border-radius: 50%;\n",
       "      cursor: pointer;\n",
       "      display: none;\n",
       "      fill: #1967D2;\n",
       "      height: 32px;\n",
       "      padding: 0 0 0 0;\n",
       "      width: 32px;\n",
       "    }\n",
       "\n",
       "    .colab-df-convert:hover {\n",
       "      background-color: #E2EBFA;\n",
       "      box-shadow: 0px 1px 2px rgba(60, 64, 67, 0.3), 0px 1px 3px 1px rgba(60, 64, 67, 0.15);\n",
       "      fill: #174EA6;\n",
       "    }\n",
       "\n",
       "    [theme=dark] .colab-df-convert {\n",
       "      background-color: #3B4455;\n",
       "      fill: #D2E3FC;\n",
       "    }\n",
       "\n",
       "    [theme=dark] .colab-df-convert:hover {\n",
       "      background-color: #434B5C;\n",
       "      box-shadow: 0px 1px 3px 1px rgba(0, 0, 0, 0.15);\n",
       "      filter: drop-shadow(0px 1px 2px rgba(0, 0, 0, 0.3));\n",
       "      fill: #FFFFFF;\n",
       "    }\n",
       "  </style>\n",
       "\n",
       "      <script>\n",
       "        const buttonEl =\n",
       "          document.querySelector('#df-59a3cbb6-bd0c-4cbf-80f7-a5fe8bf97a1a button.colab-df-convert');\n",
       "        buttonEl.style.display =\n",
       "          google.colab.kernel.accessAllowed ? 'block' : 'none';\n",
       "\n",
       "        async function convertToInteractive(key) {\n",
       "          const element = document.querySelector('#df-59a3cbb6-bd0c-4cbf-80f7-a5fe8bf97a1a');\n",
       "          const dataTable =\n",
       "            await google.colab.kernel.invokeFunction('convertToInteractive',\n",
       "                                                     [key], {});\n",
       "          if (!dataTable) return;\n",
       "\n",
       "          const docLinkHtml = 'Like what you see? Visit the ' +\n",
       "            '<a target=\"_blank\" href=https://colab.research.google.com/notebooks/data_table.ipynb>data table notebook</a>'\n",
       "            + ' to learn more about interactive tables.';\n",
       "          element.innerHTML = '';\n",
       "          dataTable['output_type'] = 'display_data';\n",
       "          await google.colab.output.renderOutput(dataTable, element);\n",
       "          const docLink = document.createElement('div');\n",
       "          docLink.innerHTML = docLinkHtml;\n",
       "          element.appendChild(docLink);\n",
       "        }\n",
       "      </script>\n",
       "    </div>\n",
       "  </div>\n",
       "  "
      ],
      "text/plain": [
       "                           Duration  Total_Stops     Price  \\\n",
       "Duration                   1.000000     0.727982  0.501758   \n",
       "Total_Stops                0.727982     1.000000  0.602013   \n",
       "Price                      0.501758     0.602013  1.000000   \n",
       "Freq_encoded_Airline       0.289457     0.211803  0.371620   \n",
       "Freq_encoded_Source        0.400039     0.571402  0.350997   \n",
       "Freq_encoded_Destination   0.403206     0.575447  0.311329   \n",
       "Freq_encoded_Route        -0.111065    -0.205605  0.038912   \n",
       "Mean_encoded_Airline       0.433989     0.421327  0.638674   \n",
       "Mean_encoded_Source        0.414954     0.559200  0.359938   \n",
       "Mean_encoded_Destination   0.453452     0.595820  0.491191   \n",
       "Mean_encoded_Route         0.671871     0.806690  0.746275   \n",
       "Label_encoded_Airline     -0.153618    -0.194549 -0.036491   \n",
       "Label_encoded_Source       0.162808     0.194203  0.013796   \n",
       "Label_encoded_Destination -0.254243    -0.291763 -0.065875   \n",
       "Label_encoded_Route        0.273200     0.441347  0.154374   \n",
       "\n",
       "                           Freq_encoded_Airline  Freq_encoded_Source  \\\n",
       "Duration                               0.289457             0.400039   \n",
       "Total_Stops                            0.211803             0.571402   \n",
       "Price                                  0.371620             0.350997   \n",
       "Freq_encoded_Airline                   1.000000             0.038026   \n",
       "Freq_encoded_Source                    0.038026             1.000000   \n",
       "Freq_encoded_Destination               0.029203             0.959924   \n",
       "Freq_encoded_Route                     0.019636             0.303115   \n",
       "Mean_encoded_Airline                   0.581861             0.258498   \n",
       "Mean_encoded_Source                    0.056089             0.975159   \n",
       "Mean_encoded_Destination               0.102435             0.714584   \n",
       "Mean_encoded_Route                     0.367567             0.470332   \n",
       "Label_encoded_Airline                 -0.200348            -0.049748   \n",
       "Label_encoded_Source                   0.055926             0.066914   \n",
       "Label_encoded_Destination             -0.035332            -0.544907   \n",
       "Label_encoded_Route                   -0.065789             0.612054   \n",
       "\n",
       "                           Freq_encoded_Destination  Freq_encoded_Route  \\\n",
       "Duration                                   0.403206           -0.111065   \n",
       "Total_Stops                                0.575447           -0.205605   \n",
       "Price                                      0.311329            0.038912   \n",
       "Freq_encoded_Airline                       0.029203            0.019636   \n",
       "Freq_encoded_Source                        0.959924            0.303115   \n",
       "Freq_encoded_Destination                   1.000000            0.247081   \n",
       "Freq_encoded_Route                         0.247081            1.000000   \n",
       "Mean_encoded_Airline                       0.234645            0.158467   \n",
       "Mean_encoded_Source                        0.915733            0.272478   \n",
       "Mean_encoded_Destination                   0.633826            0.039335   \n",
       "Mean_encoded_Route                         0.420651            0.052142   \n",
       "Label_encoded_Airline                     -0.033982            0.194054   \n",
       "Label_encoded_Source                       0.308334           -0.196373   \n",
       "Label_encoded_Destination                 -0.672920           -0.083163   \n",
       "Label_encoded_Route                        0.763369            0.055678   \n",
       "\n",
       "                           Mean_encoded_Airline  Mean_encoded_Source  \\\n",
       "Duration                               0.433989             0.414954   \n",
       "Total_Stops                            0.421327             0.559200   \n",
       "Price                                  0.638674             0.359938   \n",
       "Freq_encoded_Airline                   0.581861             0.056089   \n",
       "Freq_encoded_Source                    0.258498             0.975159   \n",
       "Freq_encoded_Destination               0.234645             0.915733   \n",
       "Freq_encoded_Route                     0.158467             0.272478   \n",
       "Mean_encoded_Airline                   1.000000             0.257259   \n",
       "Mean_encoded_Source                    0.257259             1.000000   \n",
       "Mean_encoded_Destination               0.277117             0.732787   \n",
       "Mean_encoded_Route                     0.572144             0.482313   \n",
       "Label_encoded_Airline                 -0.057135            -0.059864   \n",
       "Label_encoded_Source                   0.047805             0.038329   \n",
       "Label_encoded_Destination             -0.094354            -0.606651   \n",
       "Label_encoded_Route                    0.071608             0.496810   \n",
       "\n",
       "                           Mean_encoded_Destination  Mean_encoded_Route  \\\n",
       "Duration                                   0.453452            0.671871   \n",
       "Total_Stops                                0.595820            0.806690   \n",
       "Price                                      0.491191            0.746275   \n",
       "Freq_encoded_Airline                       0.102435            0.367567   \n",
       "Freq_encoded_Source                        0.714584            0.470332   \n",
       "Freq_encoded_Destination                   0.633826            0.420651   \n",
       "Freq_encoded_Route                         0.039335            0.052142   \n",
       "Mean_encoded_Airline                       0.277117            0.572144   \n",
       "Mean_encoded_Source                        0.732787            0.482313   \n",
       "Mean_encoded_Destination                   1.000000            0.614966   \n",
       "Mean_encoded_Route                         0.614966            1.000000   \n",
       "Label_encoded_Airline                     -0.082190           -0.058168   \n",
       "Label_encoded_Source                       0.028087            0.018486   \n",
       "Label_encoded_Destination                 -0.134114           -0.117251   \n",
       "Label_encoded_Route                        0.339975            0.206860   \n",
       "\n",
       "                           Label_encoded_Airline  Label_encoded_Source  \\\n",
       "Duration                               -0.153618              0.162808   \n",
       "Total_Stops                            -0.194549              0.194203   \n",
       "Price                                  -0.036491              0.013796   \n",
       "Freq_encoded_Airline                   -0.200348              0.055926   \n",
       "Freq_encoded_Source                    -0.049748              0.066914   \n",
       "Freq_encoded_Destination               -0.033982              0.308334   \n",
       "Freq_encoded_Route                      0.194054             -0.196373   \n",
       "Mean_encoded_Airline                   -0.057135              0.047805   \n",
       "Mean_encoded_Source                    -0.059864              0.038329   \n",
       "Mean_encoded_Destination               -0.082190              0.028087   \n",
       "Mean_encoded_Route                     -0.058168              0.018486   \n",
       "Label_encoded_Airline                   1.000000             -0.012172   \n",
       "Label_encoded_Source                   -0.012172              1.000000   \n",
       "Label_encoded_Destination               0.015942             -0.589992   \n",
       "Label_encoded_Route                     0.029636              0.403884   \n",
       "\n",
       "                           Label_encoded_Destination  Label_encoded_Route  \n",
       "Duration                                   -0.254243             0.273200  \n",
       "Total_Stops                                -0.291763             0.441347  \n",
       "Price                                      -0.065875             0.154374  \n",
       "Freq_encoded_Airline                       -0.035332            -0.065789  \n",
       "Freq_encoded_Source                        -0.544907             0.612054  \n",
       "Freq_encoded_Destination                   -0.672920             0.763369  \n",
       "Freq_encoded_Route                         -0.083163             0.055678  \n",
       "Mean_encoded_Airline                       -0.094354             0.071608  \n",
       "Mean_encoded_Source                        -0.606651             0.496810  \n",
       "Mean_encoded_Destination                   -0.134114             0.339975  \n",
       "Mean_encoded_Route                         -0.117251             0.206860  \n",
       "Label_encoded_Airline                       0.015942             0.029636  \n",
       "Label_encoded_Source                       -0.589992             0.403884  \n",
       "Label_encoded_Destination                   1.000000            -0.457559  \n",
       "Label_encoded_Route                        -0.457559             1.000000  "
      ]
     },
     "execution_count": 94,
     "metadata": {},
     "output_type": "execute_result"
    }
   ],
   "source": [
    "df.corr()"
   ]
  },
  {
   "cell_type": "code",
   "execution_count": null,
   "metadata": {
    "colab": {
     "base_uri": "https://localhost:8080/",
     "height": 614
    },
    "id": "d4SELEfECJBd",
    "outputId": "7b1b2baa-30c2-4a5e-8b49-300cdf5f7fe8"
   },
   "outputs": [
    {
     "data": {
      "image/png": "[encoded data removed]",
      "text/plain": [
       "<Figure size 720x576 with 2 Axes>"
      ]
     },
     "metadata": {
      "needs_background": "light"
     },
     "output_type": "display_data"
    }
   ],
   "source": [
    "plt.figure(figsize=(10,8))\n",
    "sns.heatmap(df.corr(),cmap = sns.cm.rocket_r)\n",
    "plt.show()"
   ]
  },
  {
   "cell_type": "code",
   "execution_count": null,
   "metadata": {
    "id": "6NWac0HACW9Q"
   },
   "outputs": [],
   "source": [
    "# So all features that are showing good correlation with the Target 'Price 0.4 and above should be selected to build model.\n",
    "# Features which are mildly related can be dropped."
   ]
  },
  {
   "cell_type": "code",
   "execution_count": null,
   "metadata": {
    "id": "cvnx2VtsC6Di"
   },
   "outputs": [],
   "source": [
    "# Time based features can be genrated.\n",
    "# Day_of_week\n",
    "df['day_of_week'] = df['Date_of_Journey'].dt.day_of_week \n",
    "# Day_of_month\n",
    "df['day_of_month'] = df['Date_of_Journey'].dt.day\n",
    "# Weekdays \n",
    "df['weekday'] = np.where(df[\"day_of_week\"].isin([5,6]),0,1)\n",
    "# Month of Travel\n",
    "df['month'] = df['Date_of_Journey'].dt.month\n",
    "# Hour of Departure etc.\n",
    "df['dep_hour'] = df['Dep_Time'].dt.hour\n",
    "# deriving time-based feature Depends on your creativity and logical reasoning of it's suitability.\n",
    "# Make sure to run new features correlation with target column always. "
   ]
  },
  {
   "cell_type": "code",
   "execution_count": null,
   "metadata": {
    "id": "vEa6K9_MMJhh"
   },
   "outputs": [],
   "source": [
    "## Explaining\n",
    "# temp_df = pd.DataFrame([[\"M\",\"F\",\"F\",\"M\",\"M\",\"F\",\"F\",\"F\",\"M\",\"F\",\"F\",\"M\",\"M\"]])\n",
    "# temp_df = temp_df.T\n",
    "# temp_df.columns= [\"Gender\"]\n",
    "# temp_df\n",
    "# # mark \"M\" as 0 and \"F\" as 1.\n",
    "# temp_df[\"Gender_code\"] = np.where(temp_df[\"Gender\"]==\"M\",0,1)\n",
    "# temp_df[\"Gender_bool\"] = np.where(temp_df[\"Gender\"]==\"M\",True,False)\n",
    "# temp_df"
   ]
  },
  {
   "cell_type": "code",
   "execution_count": null,
   "metadata": {
    "colab": {
     "base_uri": "https://localhost:8080/",
     "height": 740
    },
    "id": "UtOtxw7lOKal",
    "outputId": "255b7842-5d73-4b93-e23b-85f228909739"
   },
   "outputs": [
    {
     "data": {
      "text/html": [
       "\n",
       "  <div id=\"df-b35d0888-749b-4997-924d-f4a1ee4c7ce9\">\n",
       "    <div class=\"colab-df-container\">\n",
       "      <div>\n",
       "<style scoped>\n",
       "    .dataframe tbody tr th:only-of-type {\n",
       "        vertical-align: middle;\n",
       "    }\n",
       "\n",
       "    .dataframe tbody tr th {\n",
       "        vertical-align: top;\n",
       "    }\n",
       "\n",
       "    .dataframe thead th {\n",
       "        text-align: right;\n",
       "    }\n",
       "</style>\n",
       "<table border=\"1\" class=\"dataframe\">\n",
       "  <thead>\n",
       "    <tr style=\"text-align: right;\">\n",
       "      <th></th>\n",
       "      <th>Duration</th>\n",
       "      <th>Total_Stops</th>\n",
       "      <th>Price</th>\n",
       "      <th>Freq_encoded_Airline</th>\n",
       "      <th>Freq_encoded_Source</th>\n",
       "      <th>Freq_encoded_Destination</th>\n",
       "      <th>Freq_encoded_Route</th>\n",
       "      <th>Mean_encoded_Airline</th>\n",
       "      <th>Mean_encoded_Source</th>\n",
       "      <th>Mean_encoded_Destination</th>\n",
       "      <th>Mean_encoded_Route</th>\n",
       "      <th>Label_encoded_Airline</th>\n",
       "      <th>Label_encoded_Source</th>\n",
       "      <th>Label_encoded_Destination</th>\n",
       "      <th>Label_encoded_Route</th>\n",
       "      <th>day_of_week</th>\n",
       "      <th>day_of_month</th>\n",
       "      <th>weekday</th>\n",
       "      <th>month</th>\n",
       "      <th>dep_hour</th>\n",
       "    </tr>\n",
       "  </thead>\n",
       "  <tbody>\n",
       "    <tr>\n",
       "      <th>Duration</th>\n",
       "      <td>1.000000</td>\n",
       "      <td>0.727982</td>\n",
       "      <td>0.501758</td>\n",
       "      <td>0.289457</td>\n",
       "      <td>0.400039</td>\n",
       "      <td>0.403206</td>\n",
       "      <td>-0.111065</td>\n",
       "      <td>0.433989</td>\n",
       "      <td>0.414954</td>\n",
       "      <td>0.453452</td>\n",
       "      <td>0.671871</td>\n",
       "      <td>-0.153618</td>\n",
       "      <td>0.162808</td>\n",
       "      <td>-0.254243</td>\n",
       "      <td>0.273200</td>\n",
       "      <td>0.023158</td>\n",
       "      <td>-0.047257</td>\n",
       "      <td>0.005944</td>\n",
       "      <td>0.056328</td>\n",
       "      <td>-0.001285</td>\n",
       "    </tr>\n",
       "    <tr>\n",
       "      <th>Total_Stops</th>\n",
       "      <td>0.727982</td>\n",
       "      <td>1.000000</td>\n",
       "      <td>0.602013</td>\n",
       "      <td>0.211803</td>\n",
       "      <td>0.571402</td>\n",
       "      <td>0.575447</td>\n",
       "      <td>-0.205605</td>\n",
       "      <td>0.421327</td>\n",
       "      <td>0.559200</td>\n",
       "      <td>0.595820</td>\n",
       "      <td>0.806690</td>\n",
       "      <td>-0.194549</td>\n",
       "      <td>0.194203</td>\n",
       "      <td>-0.291763</td>\n",
       "      <td>0.441347</td>\n",
       "      <td>0.006147</td>\n",
       "      <td>-0.035371</td>\n",
       "      <td>0.018291</td>\n",
       "      <td>0.065438</td>\n",
       "      <td>-0.067523</td>\n",
       "    </tr>\n",
       "    <tr>\n",
       "      <th>Price</th>\n",
       "      <td>0.501758</td>\n",
       "      <td>0.602013</td>\n",
       "      <td>1.000000</td>\n",
       "      <td>0.371620</td>\n",
       "      <td>0.350997</td>\n",
       "      <td>0.311329</td>\n",
       "      <td>0.038912</td>\n",
       "      <td>0.638674</td>\n",
       "      <td>0.359938</td>\n",
       "      <td>0.491191</td>\n",
       "      <td>0.746275</td>\n",
       "      <td>-0.036491</td>\n",
       "      <td>0.013796</td>\n",
       "      <td>-0.065875</td>\n",
       "      <td>0.154374</td>\n",
       "      <td>-0.005112</td>\n",
       "      <td>-0.171142</td>\n",
       "      <td>-0.013267</td>\n",
       "      <td>0.008662</td>\n",
       "      <td>0.005155</td>\n",
       "    </tr>\n",
       "    <tr>\n",
       "      <th>Freq_encoded_Airline</th>\n",
       "      <td>0.289457</td>\n",
       "      <td>0.211803</td>\n",
       "      <td>0.371620</td>\n",
       "      <td>1.000000</td>\n",
       "      <td>0.038026</td>\n",
       "      <td>0.029203</td>\n",
       "      <td>0.019636</td>\n",
       "      <td>0.581861</td>\n",
       "      <td>0.056089</td>\n",
       "      <td>0.102435</td>\n",
       "      <td>0.367567</td>\n",
       "      <td>-0.200348</td>\n",
       "      <td>0.055926</td>\n",
       "      <td>-0.035332</td>\n",
       "      <td>-0.065789</td>\n",
       "      <td>0.004228</td>\n",
       "      <td>-0.038976</td>\n",
       "      <td>0.029408</td>\n",
       "      <td>0.051802</td>\n",
       "      <td>0.106050</td>\n",
       "    </tr>\n",
       "    <tr>\n",
       "      <th>Freq_encoded_Source</th>\n",
       "      <td>0.400039</td>\n",
       "      <td>0.571402</td>\n",
       "      <td>0.350997</td>\n",
       "      <td>0.038026</td>\n",
       "      <td>1.000000</td>\n",
       "      <td>0.959924</td>\n",
       "      <td>0.303115</td>\n",
       "      <td>0.258498</td>\n",
       "      <td>0.975159</td>\n",
       "      <td>0.714584</td>\n",
       "      <td>0.470332</td>\n",
       "      <td>-0.049748</td>\n",
       "      <td>0.066914</td>\n",
       "      <td>-0.544907</td>\n",
       "      <td>0.612054</td>\n",
       "      <td>-0.007342</td>\n",
       "      <td>0.077903</td>\n",
       "      <td>-0.014222</td>\n",
       "      <td>0.029936</td>\n",
       "      <td>-0.060469</td>\n",
       "    </tr>\n",
       "    <tr>\n",
       "      <th>Freq_encoded_Destination</th>\n",
       "      <td>0.403206</td>\n",
       "      <td>0.575447</td>\n",
       "      <td>0.311329</td>\n",
       "      <td>0.029203</td>\n",
       "      <td>0.959924</td>\n",
       "      <td>1.000000</td>\n",
       "      <td>0.247081</td>\n",
       "      <td>0.234645</td>\n",
       "      <td>0.915733</td>\n",
       "      <td>0.633826</td>\n",
       "      <td>0.420651</td>\n",
       "      <td>-0.033982</td>\n",
       "      <td>0.308334</td>\n",
       "      <td>-0.672920</td>\n",
       "      <td>0.763369</td>\n",
       "      <td>0.008631</td>\n",
       "      <td>0.087448</td>\n",
       "      <td>-0.015694</td>\n",
       "      <td>0.047968</td>\n",
       "      <td>-0.047777</td>\n",
       "    </tr>\n",
       "    <tr>\n",
       "      <th>Freq_encoded_Route</th>\n",
       "      <td>-0.111065</td>\n",
       "      <td>-0.205605</td>\n",
       "      <td>0.038912</td>\n",
       "      <td>0.019636</td>\n",
       "      <td>0.303115</td>\n",
       "      <td>0.247081</td>\n",
       "      <td>1.000000</td>\n",
       "      <td>0.158467</td>\n",
       "      <td>0.272478</td>\n",
       "      <td>0.039335</td>\n",
       "      <td>0.052142</td>\n",
       "      <td>0.194054</td>\n",
       "      <td>-0.196373</td>\n",
       "      <td>-0.083163</td>\n",
       "      <td>0.055678</td>\n",
       "      <td>-0.025374</td>\n",
       "      <td>0.069304</td>\n",
       "      <td>-0.017799</td>\n",
       "      <td>-0.017287</td>\n",
       "      <td>-0.006923</td>\n",
       "    </tr>\n",
       "    <tr>\n",
       "      <th>Mean_encoded_Airline</th>\n",
       "      <td>0.433989</td>\n",
       "      <td>0.421327</td>\n",
       "      <td>0.638674</td>\n",
       "      <td>0.581861</td>\n",
       "      <td>0.258498</td>\n",
       "      <td>0.234645</td>\n",
       "      <td>0.158467</td>\n",
       "      <td>1.000000</td>\n",
       "      <td>0.257259</td>\n",
       "      <td>0.277117</td>\n",
       "      <td>0.572144</td>\n",
       "      <td>-0.057135</td>\n",
       "      <td>0.047805</td>\n",
       "      <td>-0.094354</td>\n",
       "      <td>0.071608</td>\n",
       "      <td>-0.002266</td>\n",
       "      <td>-0.038360</td>\n",
       "      <td>0.028215</td>\n",
       "      <td>0.043311</td>\n",
       "      <td>0.019624</td>\n",
       "    </tr>\n",
       "    <tr>\n",
       "      <th>Mean_encoded_Source</th>\n",
       "      <td>0.414954</td>\n",
       "      <td>0.559200</td>\n",
       "      <td>0.359938</td>\n",
       "      <td>0.056089</td>\n",
       "      <td>0.975159</td>\n",
       "      <td>0.915733</td>\n",
       "      <td>0.272478</td>\n",
       "      <td>0.257259</td>\n",
       "      <td>1.000000</td>\n",
       "      <td>0.732787</td>\n",
       "      <td>0.482313</td>\n",
       "      <td>-0.059864</td>\n",
       "      <td>0.038329</td>\n",
       "      <td>-0.606651</td>\n",
       "      <td>0.496810</td>\n",
       "      <td>0.017508</td>\n",
       "      <td>0.058600</td>\n",
       "      <td>-0.018388</td>\n",
       "      <td>0.036055</td>\n",
       "      <td>-0.029458</td>\n",
       "    </tr>\n",
       "    <tr>\n",
       "      <th>Mean_encoded_Destination</th>\n",
       "      <td>0.453452</td>\n",
       "      <td>0.595820</td>\n",
       "      <td>0.491191</td>\n",
       "      <td>0.102435</td>\n",
       "      <td>0.714584</td>\n",
       "      <td>0.633826</td>\n",
       "      <td>0.039335</td>\n",
       "      <td>0.277117</td>\n",
       "      <td>0.732787</td>\n",
       "      <td>1.000000</td>\n",
       "      <td>0.614966</td>\n",
       "      <td>-0.082190</td>\n",
       "      <td>0.028087</td>\n",
       "      <td>-0.134114</td>\n",
       "      <td>0.339975</td>\n",
       "      <td>0.003945</td>\n",
       "      <td>-0.011936</td>\n",
       "      <td>-0.012254</td>\n",
       "      <td>-0.026473</td>\n",
       "      <td>-0.036796</td>\n",
       "    </tr>\n",
       "    <tr>\n",
       "      <th>Mean_encoded_Route</th>\n",
       "      <td>0.671871</td>\n",
       "      <td>0.806690</td>\n",
       "      <td>0.746275</td>\n",
       "      <td>0.367567</td>\n",
       "      <td>0.470332</td>\n",
       "      <td>0.420651</td>\n",
       "      <td>0.052142</td>\n",
       "      <td>0.572144</td>\n",
       "      <td>0.482313</td>\n",
       "      <td>0.614966</td>\n",
       "      <td>1.000000</td>\n",
       "      <td>-0.058168</td>\n",
       "      <td>0.018486</td>\n",
       "      <td>-0.117251</td>\n",
       "      <td>0.206860</td>\n",
       "      <td>-0.039531</td>\n",
       "      <td>-0.073287</td>\n",
       "      <td>0.049552</td>\n",
       "      <td>0.065617</td>\n",
       "      <td>-0.011537</td>\n",
       "    </tr>\n",
       "    <tr>\n",
       "      <th>Label_encoded_Airline</th>\n",
       "      <td>-0.153618</td>\n",
       "      <td>-0.194549</td>\n",
       "      <td>-0.036491</td>\n",
       "      <td>-0.200348</td>\n",
       "      <td>-0.049748</td>\n",
       "      <td>-0.033982</td>\n",
       "      <td>0.194054</td>\n",
       "      <td>-0.057135</td>\n",
       "      <td>-0.059864</td>\n",
       "      <td>-0.082190</td>\n",
       "      <td>-0.058168</td>\n",
       "      <td>1.000000</td>\n",
       "      <td>-0.012172</td>\n",
       "      <td>0.015942</td>\n",
       "      <td>0.029636</td>\n",
       "      <td>-0.006939</td>\n",
       "      <td>0.031915</td>\n",
       "      <td>0.000824</td>\n",
       "      <td>-0.008680</td>\n",
       "      <td>-0.032267</td>\n",
       "    </tr>\n",
       "    <tr>\n",
       "      <th>Label_encoded_Source</th>\n",
       "      <td>0.162808</td>\n",
       "      <td>0.194203</td>\n",
       "      <td>0.013796</td>\n",
       "      <td>0.055926</td>\n",
       "      <td>0.066914</td>\n",
       "      <td>0.308334</td>\n",
       "      <td>-0.196373</td>\n",
       "      <td>0.047805</td>\n",
       "      <td>0.038329</td>\n",
       "      <td>0.028087</td>\n",
       "      <td>0.018486</td>\n",
       "      <td>-0.012172</td>\n",
       "      <td>1.000000</td>\n",
       "      <td>-0.589992</td>\n",
       "      <td>0.403884</td>\n",
       "      <td>0.067872</td>\n",
       "      <td>0.007833</td>\n",
       "      <td>-0.006152</td>\n",
       "      <td>0.062742</td>\n",
       "      <td>0.060218</td>\n",
       "    </tr>\n",
       "    <tr>\n",
       "      <th>Label_encoded_Destination</th>\n",
       "      <td>-0.254243</td>\n",
       "      <td>-0.291763</td>\n",
       "      <td>-0.065875</td>\n",
       "      <td>-0.035332</td>\n",
       "      <td>-0.544907</td>\n",
       "      <td>-0.672920</td>\n",
       "      <td>-0.083163</td>\n",
       "      <td>-0.094354</td>\n",
       "      <td>-0.606651</td>\n",
       "      <td>-0.134114</td>\n",
       "      <td>-0.117251</td>\n",
       "      <td>0.015942</td>\n",
       "      <td>-0.589992</td>\n",
       "      <td>1.000000</td>\n",
       "      <td>-0.457559</td>\n",
       "      <td>-0.096701</td>\n",
       "      <td>-0.051797</td>\n",
       "      <td>0.022670</td>\n",
       "      <td>-0.104578</td>\n",
       "      <td>-0.074056</td>\n",
       "    </tr>\n",
       "    <tr>\n",
       "      <th>Label_encoded_Route</th>\n",
       "      <td>0.273200</td>\n",
       "      <td>0.441347</td>\n",
       "      <td>0.154374</td>\n",
       "      <td>-0.065789</td>\n",
       "      <td>0.612054</td>\n",
       "      <td>0.763369</td>\n",
       "      <td>0.055678</td>\n",
       "      <td>0.071608</td>\n",
       "      <td>0.496810</td>\n",
       "      <td>0.339975</td>\n",
       "      <td>0.206860</td>\n",
       "      <td>0.029636</td>\n",
       "      <td>0.403884</td>\n",
       "      <td>-0.457559</td>\n",
       "      <td>1.000000</td>\n",
       "      <td>0.013211</td>\n",
       "      <td>0.094510</td>\n",
       "      <td>-0.017896</td>\n",
       "      <td>0.039996</td>\n",
       "      <td>-0.075188</td>\n",
       "    </tr>\n",
       "    <tr>\n",
       "      <th>day_of_week</th>\n",
       "      <td>0.023158</td>\n",
       "      <td>0.006147</td>\n",
       "      <td>-0.005112</td>\n",
       "      <td>0.004228</td>\n",
       "      <td>-0.007342</td>\n",
       "      <td>0.008631</td>\n",
       "      <td>-0.025374</td>\n",
       "      <td>-0.002266</td>\n",
       "      <td>0.017508</td>\n",
       "      <td>0.003945</td>\n",
       "      <td>-0.039531</td>\n",
       "      <td>-0.006939</td>\n",
       "      <td>0.067872</td>\n",
       "      <td>-0.096701</td>\n",
       "      <td>0.013211</td>\n",
       "      <td>1.000000</td>\n",
       "      <td>-0.091499</td>\n",
       "      <td>-0.726731</td>\n",
       "      <td>-0.167740</td>\n",
       "      <td>0.005267</td>\n",
       "    </tr>\n",
       "    <tr>\n",
       "      <th>day_of_month</th>\n",
       "      <td>-0.047257</td>\n",
       "      <td>-0.035371</td>\n",
       "      <td>-0.171142</td>\n",
       "      <td>-0.038976</td>\n",
       "      <td>0.077903</td>\n",
       "      <td>0.087448</td>\n",
       "      <td>0.069304</td>\n",
       "      <td>-0.038360</td>\n",
       "      <td>0.058600</td>\n",
       "      <td>-0.011936</td>\n",
       "      <td>-0.073287</td>\n",
       "      <td>0.031915</td>\n",
       "      <td>0.007833</td>\n",
       "      <td>-0.051797</td>\n",
       "      <td>0.094510</td>\n",
       "      <td>-0.091499</td>\n",
       "      <td>1.000000</td>\n",
       "      <td>-0.045519</td>\n",
       "      <td>-0.265200</td>\n",
       "      <td>-0.007617</td>\n",
       "    </tr>\n",
       "    <tr>\n",
       "      <th>weekday</th>\n",
       "      <td>0.005944</td>\n",
       "      <td>0.018291</td>\n",
       "      <td>-0.013267</td>\n",
       "      <td>0.029408</td>\n",
       "      <td>-0.014222</td>\n",
       "      <td>-0.015694</td>\n",
       "      <td>-0.017799</td>\n",
       "      <td>0.028215</td>\n",
       "      <td>-0.018388</td>\n",
       "      <td>-0.012254</td>\n",
       "      <td>0.049552</td>\n",
       "      <td>0.000824</td>\n",
       "      <td>-0.006152</td>\n",
       "      <td>0.022670</td>\n",
       "      <td>-0.017896</td>\n",
       "      <td>-0.726731</td>\n",
       "      <td>-0.045519</td>\n",
       "      <td>1.000000</td>\n",
       "      <td>0.368011</td>\n",
       "      <td>0.009993</td>\n",
       "    </tr>\n",
       "    <tr>\n",
       "      <th>month</th>\n",
       "      <td>0.056328</td>\n",
       "      <td>0.065438</td>\n",
       "      <td>0.008662</td>\n",
       "      <td>0.051802</td>\n",
       "      <td>0.029936</td>\n",
       "      <td>0.047968</td>\n",
       "      <td>-0.017287</td>\n",
       "      <td>0.043311</td>\n",
       "      <td>0.036055</td>\n",
       "      <td>-0.026473</td>\n",
       "      <td>0.065617</td>\n",
       "      <td>-0.008680</td>\n",
       "      <td>0.062742</td>\n",
       "      <td>-0.104578</td>\n",
       "      <td>0.039996</td>\n",
       "      <td>-0.167740</td>\n",
       "      <td>-0.265200</td>\n",
       "      <td>0.368011</td>\n",
       "      <td>1.000000</td>\n",
       "      <td>0.028462</td>\n",
       "    </tr>\n",
       "    <tr>\n",
       "      <th>dep_hour</th>\n",
       "      <td>-0.001285</td>\n",
       "      <td>-0.067523</td>\n",
       "      <td>0.005155</td>\n",
       "      <td>0.106050</td>\n",
       "      <td>-0.060469</td>\n",
       "      <td>-0.047777</td>\n",
       "      <td>-0.006923</td>\n",
       "      <td>0.019624</td>\n",
       "      <td>-0.029458</td>\n",
       "      <td>-0.036796</td>\n",
       "      <td>-0.011537</td>\n",
       "      <td>-0.032267</td>\n",
       "      <td>0.060218</td>\n",
       "      <td>-0.074056</td>\n",
       "      <td>-0.075188</td>\n",
       "      <td>0.005267</td>\n",
       "      <td>-0.007617</td>\n",
       "      <td>0.009993</td>\n",
       "      <td>0.028462</td>\n",
       "      <td>1.000000</td>\n",
       "    </tr>\n",
       "  </tbody>\n",
       "</table>\n",
       "</div>\n",
       "      <button class=\"colab-df-convert\" onclick=\"convertToInteractive('df-b35d0888-749b-4997-924d-f4a1ee4c7ce9')\"\n",
       "              title=\"Convert this dataframe to an interactive table.\"\n",
       "              style=\"display:none;\">\n",
       "        \n",
       "  <svg xmlns=\"http://www.w3.org/2000/svg\" height=\"24px\"viewBox=\"0 0 24 24\"\n",
       "       width=\"24px\">\n",
       "    <path d=\"M0 0h24v24H0V0z\" fill=\"none\"/>\n",
       "    <path d=\"M18.56 5.44l.94 2.06.94-2.06 2.06-.94-2.06-.94-.94-2.06-.94 2.06-2.06.94zm-11 1L8.5 8.5l.94-2.06 2.06-.94-2.06-.94L8.5 2.5l-.94 2.06-2.06.94zm10 10l.94 2.06.94-2.06 2.06-.94-2.06-.94-.94-2.06-.94 2.06-2.06.94z\"/><path d=\"M17.41 7.96l-1.37-1.37c-.4-.4-.92-.59-1.43-.59-.52 0-1.04.2-1.43.59L10.3 9.45l-7.72 7.72c-.78.78-.78 2.05 0 2.83L4 21.41c.39.39.9.59 1.41.59.51 0 1.02-.2 1.41-.59l7.78-7.78 2.81-2.81c.8-.78.8-2.07 0-2.86zM5.41 20L4 18.59l7.72-7.72 1.47 1.35L5.41 20z\"/>\n",
       "  </svg>\n",
       "      </button>\n",
       "      \n",
       "  <style>\n",
       "    .colab-df-container {\n",
       "      display:flex;\n",
       "      flex-wrap:wrap;\n",
       "      gap: 12px;\n",
       "    }\n",
       "\n",
       "    .colab-df-convert {\n",
       "      background-color: #E8F0FE;\n",
       "      border: none;\n",
       "      border-radius: 50%;\n",
       "      cursor: pointer;\n",
       "      display: none;\n",
       "      fill: #1967D2;\n",
       "      height: 32px;\n",
       "      padding: 0 0 0 0;\n",
       "      width: 32px;\n",
       "    }\n",
       "\n",
       "    .colab-df-convert:hover {\n",
       "      background-color: #E2EBFA;\n",
       "      box-shadow: 0px 1px 2px rgba(60, 64, 67, 0.3), 0px 1px 3px 1px rgba(60, 64, 67, 0.15);\n",
       "      fill: #174EA6;\n",
       "    }\n",
       "\n",
       "    [theme=dark] .colab-df-convert {\n",
       "      background-color: #3B4455;\n",
       "      fill: #D2E3FC;\n",
       "    }\n",
       "\n",
       "    [theme=dark] .colab-df-convert:hover {\n",
       "      background-color: #434B5C;\n",
       "      box-shadow: 0px 1px 3px 1px rgba(0, 0, 0, 0.15);\n",
       "      filter: drop-shadow(0px 1px 2px rgba(0, 0, 0, 0.3));\n",
       "      fill: #FFFFFF;\n",
       "    }\n",
       "  </style>\n",
       "\n",
       "      <script>\n",
       "        const buttonEl =\n",
       "          document.querySelector('#df-b35d0888-749b-4997-924d-f4a1ee4c7ce9 button.colab-df-convert');\n",
       "        buttonEl.style.display =\n",
       "          google.colab.kernel.accessAllowed ? 'block' : 'none';\n",
       "\n",
       "        async function convertToInteractive(key) {\n",
       "          const element = document.querySelector('#df-b35d0888-749b-4997-924d-f4a1ee4c7ce9');\n",
       "          const dataTable =\n",
       "            await google.colab.kernel.invokeFunction('convertToInteractive',\n",
       "                                                     [key], {});\n",
       "          if (!dataTable) return;\n",
       "\n",
       "          const docLinkHtml = 'Like what you see? Visit the ' +\n",
       "            '<a target=\"_blank\" href=https://colab.research.google.com/notebooks/data_table.ipynb>data table notebook</a>'\n",
       "            + ' to learn more about interactive tables.';\n",
       "          element.innerHTML = '';\n",
       "          dataTable['output_type'] = 'display_data';\n",
       "          await google.colab.output.renderOutput(dataTable, element);\n",
       "          const docLink = document.createElement('div');\n",
       "          docLink.innerHTML = docLinkHtml;\n",
       "          element.appendChild(docLink);\n",
       "        }\n",
       "      </script>\n",
       "    </div>\n",
       "  </div>\n",
       "  "
      ],
      "text/plain": [
       "                           Duration  Total_Stops     Price  \\\n",
       "Duration                   1.000000     0.727982  0.501758   \n",
       "Total_Stops                0.727982     1.000000  0.602013   \n",
       "Price                      0.501758     0.602013  1.000000   \n",
       "Freq_encoded_Airline       0.289457     0.211803  0.371620   \n",
       "Freq_encoded_Source        0.400039     0.571402  0.350997   \n",
       "Freq_encoded_Destination   0.403206     0.575447  0.311329   \n",
       "Freq_encoded_Route        -0.111065    -0.205605  0.038912   \n",
       "Mean_encoded_Airline       0.433989     0.421327  0.638674   \n",
       "Mean_encoded_Source        0.414954     0.559200  0.359938   \n",
       "Mean_encoded_Destination   0.453452     0.595820  0.491191   \n",
       "Mean_encoded_Route         0.671871     0.806690  0.746275   \n",
       "Label_encoded_Airline     -0.153618    -0.194549 -0.036491   \n",
       "Label_encoded_Source       0.162808     0.194203  0.013796   \n",
       "Label_encoded_Destination -0.254243    -0.291763 -0.065875   \n",
       "Label_encoded_Route        0.273200     0.441347  0.154374   \n",
       "day_of_week                0.023158     0.006147 -0.005112   \n",
       "day_of_month              -0.047257    -0.035371 -0.171142   \n",
       "weekday                    0.005944     0.018291 -0.013267   \n",
       "month                      0.056328     0.065438  0.008662   \n",
       "dep_hour                  -0.001285    -0.067523  0.005155   \n",
       "\n",
       "                           Freq_encoded_Airline  Freq_encoded_Source  \\\n",
       "Duration                               0.289457             0.400039   \n",
       "Total_Stops                            0.211803             0.571402   \n",
       "Price                                  0.371620             0.350997   \n",
       "Freq_encoded_Airline                   1.000000             0.038026   \n",
       "Freq_encoded_Source                    0.038026             1.000000   \n",
       "Freq_encoded_Destination               0.029203             0.959924   \n",
       "Freq_encoded_Route                     0.019636             0.303115   \n",
       "Mean_encoded_Airline                   0.581861             0.258498   \n",
       "Mean_encoded_Source                    0.056089             0.975159   \n",
       "Mean_encoded_Destination               0.102435             0.714584   \n",
       "Mean_encoded_Route                     0.367567             0.470332   \n",
       "Label_encoded_Airline                 -0.200348            -0.049748   \n",
       "Label_encoded_Source                   0.055926             0.066914   \n",
       "Label_encoded_Destination             -0.035332            -0.544907   \n",
       "Label_encoded_Route                   -0.065789             0.612054   \n",
       "day_of_week                            0.004228            -0.007342   \n",
       "day_of_month                          -0.038976             0.077903   \n",
       "weekday                                0.029408            -0.014222   \n",
       "month                                  0.051802             0.029936   \n",
       "dep_hour                               0.106050            -0.060469   \n",
       "\n",
       "                           Freq_encoded_Destination  Freq_encoded_Route  \\\n",
       "Duration                                   0.403206           -0.111065   \n",
       "Total_Stops                                0.575447           -0.205605   \n",
       "Price                                      0.311329            0.038912   \n",
       "Freq_encoded_Airline                       0.029203            0.019636   \n",
       "Freq_encoded_Source                        0.959924            0.303115   \n",
       "Freq_encoded_Destination                   1.000000            0.247081   \n",
       "Freq_encoded_Route                         0.247081            1.000000   \n",
       "Mean_encoded_Airline                       0.234645            0.158467   \n",
       "Mean_encoded_Source                        0.915733            0.272478   \n",
       "Mean_encoded_Destination                   0.633826            0.039335   \n",
       "Mean_encoded_Route                         0.420651            0.052142   \n",
       "Label_encoded_Airline                     -0.033982            0.194054   \n",
       "Label_encoded_Source                       0.308334           -0.196373   \n",
       "Label_encoded_Destination                 -0.672920           -0.083163   \n",
       "Label_encoded_Route                        0.763369            0.055678   \n",
       "day_of_week                                0.008631           -0.025374   \n",
       "day_of_month                               0.087448            0.069304   \n",
       "weekday                                   -0.015694           -0.017799   \n",
       "month                                      0.047968           -0.017287   \n",
       "dep_hour                                  -0.047777           -0.006923   \n",
       "\n",
       "                           Mean_encoded_Airline  Mean_encoded_Source  \\\n",
       "Duration                               0.433989             0.414954   \n",
       "Total_Stops                            0.421327             0.559200   \n",
       "Price                                  0.638674             0.359938   \n",
       "Freq_encoded_Airline                   0.581861             0.056089   \n",
       "Freq_encoded_Source                    0.258498             0.975159   \n",
       "Freq_encoded_Destination               0.234645             0.915733   \n",
       "Freq_encoded_Route                     0.158467             0.272478   \n",
       "Mean_encoded_Airline                   1.000000             0.257259   \n",
       "Mean_encoded_Source                    0.257259             1.000000   \n",
       "Mean_encoded_Destination               0.277117             0.732787   \n",
       "Mean_encoded_Route                     0.572144             0.482313   \n",
       "Label_encoded_Airline                 -0.057135            -0.059864   \n",
       "Label_encoded_Source                   0.047805             0.038329   \n",
       "Label_encoded_Destination             -0.094354            -0.606651   \n",
       "Label_encoded_Route                    0.071608             0.496810   \n",
       "day_of_week                           -0.002266             0.017508   \n",
       "day_of_month                          -0.038360             0.058600   \n",
       "weekday                                0.028215            -0.018388   \n",
       "month                                  0.043311             0.036055   \n",
       "dep_hour                               0.019624            -0.029458   \n",
       "\n",
       "                           Mean_encoded_Destination  Mean_encoded_Route  \\\n",
       "Duration                                   0.453452            0.671871   \n",
       "Total_Stops                                0.595820            0.806690   \n",
       "Price                                      0.491191            0.746275   \n",
       "Freq_encoded_Airline                       0.102435            0.367567   \n",
       "Freq_encoded_Source                        0.714584            0.470332   \n",
       "Freq_encoded_Destination                   0.633826            0.420651   \n",
       "Freq_encoded_Route                         0.039335            0.052142   \n",
       "Mean_encoded_Airline                       0.277117            0.572144   \n",
       "Mean_encoded_Source                        0.732787            0.482313   \n",
       "Mean_encoded_Destination                   1.000000            0.614966   \n",
       "Mean_encoded_Route                         0.614966            1.000000   \n",
       "Label_encoded_Airline                     -0.082190           -0.058168   \n",
       "Label_encoded_Source                       0.028087            0.018486   \n",
       "Label_encoded_Destination                 -0.134114           -0.117251   \n",
       "Label_encoded_Route                        0.339975            0.206860   \n",
       "day_of_week                                0.003945           -0.039531   \n",
       "day_of_month                              -0.011936           -0.073287   \n",
       "weekday                                   -0.012254            0.049552   \n",
       "month                                     -0.026473            0.065617   \n",
       "dep_hour                                  -0.036796           -0.011537   \n",
       "\n",
       "                           Label_encoded_Airline  Label_encoded_Source  \\\n",
       "Duration                               -0.153618              0.162808   \n",
       "Total_Stops                            -0.194549              0.194203   \n",
       "Price                                  -0.036491              0.013796   \n",
       "Freq_encoded_Airline                   -0.200348              0.055926   \n",
       "Freq_encoded_Source                    -0.049748              0.066914   \n",
       "Freq_encoded_Destination               -0.033982              0.308334   \n",
       "Freq_encoded_Route                      0.194054             -0.196373   \n",
       "Mean_encoded_Airline                   -0.057135              0.047805   \n",
       "Mean_encoded_Source                    -0.059864              0.038329   \n",
       "Mean_encoded_Destination               -0.082190              0.028087   \n",
       "Mean_encoded_Route                     -0.058168              0.018486   \n",
       "Label_encoded_Airline                   1.000000             -0.012172   \n",
       "Label_encoded_Source                   -0.012172              1.000000   \n",
       "Label_encoded_Destination               0.015942             -0.589992   \n",
       "Label_encoded_Route                     0.029636              0.403884   \n",
       "day_of_week                            -0.006939              0.067872   \n",
       "day_of_month                            0.031915              0.007833   \n",
       "weekday                                 0.000824             -0.006152   \n",
       "month                                  -0.008680              0.062742   \n",
       "dep_hour                               -0.032267              0.060218   \n",
       "\n",
       "                           Label_encoded_Destination  Label_encoded_Route  \\\n",
       "Duration                                   -0.254243             0.273200   \n",
       "Total_Stops                                -0.291763             0.441347   \n",
       "Price                                      -0.065875             0.154374   \n",
       "Freq_encoded_Airline                       -0.035332            -0.065789   \n",
       "Freq_encoded_Source                        -0.544907             0.612054   \n",
       "Freq_encoded_Destination                   -0.672920             0.763369   \n",
       "Freq_encoded_Route                         -0.083163             0.055678   \n",
       "Mean_encoded_Airline                       -0.094354             0.071608   \n",
       "Mean_encoded_Source                        -0.606651             0.496810   \n",
       "Mean_encoded_Destination                   -0.134114             0.339975   \n",
       "Mean_encoded_Route                         -0.117251             0.206860   \n",
       "Label_encoded_Airline                       0.015942             0.029636   \n",
       "Label_encoded_Source                       -0.589992             0.403884   \n",
       "Label_encoded_Destination                   1.000000            -0.457559   \n",
       "Label_encoded_Route                        -0.457559             1.000000   \n",
       "day_of_week                                -0.096701             0.013211   \n",
       "day_of_month                               -0.051797             0.094510   \n",
       "weekday                                     0.022670            -0.017896   \n",
       "month                                      -0.104578             0.039996   \n",
       "dep_hour                                   -0.074056            -0.075188   \n",
       "\n",
       "                           day_of_week  day_of_month   weekday     month  \\\n",
       "Duration                      0.023158     -0.047257  0.005944  0.056328   \n",
       "Total_Stops                   0.006147     -0.035371  0.018291  0.065438   \n",
       "Price                        -0.005112     -0.171142 -0.013267  0.008662   \n",
       "Freq_encoded_Airline          0.004228     -0.038976  0.029408  0.051802   \n",
       "Freq_encoded_Source          -0.007342      0.077903 -0.014222  0.029936   \n",
       "Freq_encoded_Destination      0.008631      0.087448 -0.015694  0.047968   \n",
       "Freq_encoded_Route           -0.025374      0.069304 -0.017799 -0.017287   \n",
       "Mean_encoded_Airline         -0.002266     -0.038360  0.028215  0.043311   \n",
       "Mean_encoded_Source           0.017508      0.058600 -0.018388  0.036055   \n",
       "Mean_encoded_Destination      0.003945     -0.011936 -0.012254 -0.026473   \n",
       "Mean_encoded_Route           -0.039531     -0.073287  0.049552  0.065617   \n",
       "Label_encoded_Airline        -0.006939      0.031915  0.000824 -0.008680   \n",
       "Label_encoded_Source          0.067872      0.007833 -0.006152  0.062742   \n",
       "Label_encoded_Destination    -0.096701     -0.051797  0.022670 -0.104578   \n",
       "Label_encoded_Route           0.013211      0.094510 -0.017896  0.039996   \n",
       "day_of_week                   1.000000     -0.091499 -0.726731 -0.167740   \n",
       "day_of_month                 -0.091499      1.000000 -0.045519 -0.265200   \n",
       "weekday                      -0.726731     -0.045519  1.000000  0.368011   \n",
       "month                        -0.167740     -0.265200  0.368011  1.000000   \n",
       "dep_hour                      0.005267     -0.007617  0.009993  0.028462   \n",
       "\n",
       "                           dep_hour  \n",
       "Duration                  -0.001285  \n",
       "Total_Stops               -0.067523  \n",
       "Price                      0.005155  \n",
       "Freq_encoded_Airline       0.106050  \n",
       "Freq_encoded_Source       -0.060469  \n",
       "Freq_encoded_Destination  -0.047777  \n",
       "Freq_encoded_Route        -0.006923  \n",
       "Mean_encoded_Airline       0.019624  \n",
       "Mean_encoded_Source       -0.029458  \n",
       "Mean_encoded_Destination  -0.036796  \n",
       "Mean_encoded_Route        -0.011537  \n",
       "Label_encoded_Airline     -0.032267  \n",
       "Label_encoded_Source       0.060218  \n",
       "Label_encoded_Destination -0.074056  \n",
       "Label_encoded_Route       -0.075188  \n",
       "day_of_week                0.005267  \n",
       "day_of_month              -0.007617  \n",
       "weekday                    0.009993  \n",
       "month                      0.028462  \n",
       "dep_hour                   1.000000  "
      ]
     },
     "execution_count": 99,
     "metadata": {},
     "output_type": "execute_result"
    }
   ],
   "source": [
    "df.corr()"
   ]
  },
  {
   "cell_type": "code",
   "execution_count": null,
   "metadata": {
    "colab": {
     "base_uri": "https://localhost:8080/",
     "height": 614
    },
    "id": "t30WPqPnSix_",
    "outputId": "fc1347ea-d38c-4b3b-f1d2-a2a0041854e7"
   },
   "outputs": [
    {
     "data": {
      "image/png": "[encoded data removed]",
      "text/plain": [
       "<Figure size 720x576 with 2 Axes>"
      ]
     },
     "metadata": {
      "needs_background": "light"
     },
     "output_type": "display_data"
    }
   ],
   "source": [
    "plt.figure(figsize=(10,8))\n",
    "sns.heatmap(df.corr(),cmap = sns.cm.rocket_r)\n",
    "plt.show()"
   ]
  },
  {
   "cell_type": "code",
   "execution_count": null,
   "metadata": {
    "id": "HBYBwsjWDiHV"
   },
   "outputs": [],
   "source": [
    "# Higher order of features can be used as well and these are called polynomial features."
   ]
  },
  {
   "cell_type": "code",
   "execution_count": null,
   "metadata": {
    "id": "Q_wkNpmzDs8e"
   },
   "outputs": [],
   "source": [
    "# Domain based features can be added as well if applicable."
   ]
  },
  {
   "cell_type": "code",
   "execution_count": null,
   "metadata": {
    "id": "_t-cHK-3BJnV"
   },
   "outputs": [],
   "source": [
    "def generate_additional_features(df):\n",
    "    '''\n",
    "    This Function generates additional features.\n",
    "    Input :\n",
    "        df : DataFrame from which feature has to be genrated\n",
    "    return None\n",
    "    '''\n",
    "    # Time based features can be genrated.\n",
    "    # Day_of_week\n",
    "    df['day_of_week'] = df['Date_of_Journey'].dt.day_of_week \n",
    "    # Day_of_month\n",
    "    df['day_of_month'] = df['Date_of_Journey'].dt.day\n",
    "    # Weekdays \n",
    "    df['weekday'] = np.where(df[\"day_of_week\"].isin([5,6]),0,1)\n",
    "    # Month of Travel\n",
    "    df['month'] = df['Date_of_Journey'].dt.month\n",
    "    # Hour of Departure etc.\n",
    "    df['dep_hour'] = df['Dep_Time'].dt.hour\n",
    "    "
   ]
  },
  {
   "cell_type": "code",
   "execution_count": null,
   "metadata": {
    "id": "uzEPvQ0SCZWy"
   },
   "outputs": [],
   "source": [
    "generate_additional_features(df)"
   ]
  },
  {
   "cell_type": "code",
   "execution_count": null,
   "metadata": {
    "colab": {
     "base_uri": "https://localhost:8080/"
    },
    "id": "uwxtfeBnPAzc",
    "outputId": "e0328a59-3b5e-4798-c8d5-250f0cfc757c"
   },
   "outputs": [
    {
     "name": "stdout",
     "output_type": "stream",
     "text": [
      "<class 'pandas.core.frame.DataFrame'>\n",
      "Int64Index: 10462 entries, 0 to 10682\n",
      "Data columns (total 27 columns):\n",
      " #   Column                     Non-Null Count  Dtype         \n",
      "---  ------                     --------------  -----         \n",
      " 0   Airline                    10462 non-null  object        \n",
      " 1   Date_of_Journey            10462 non-null  datetime64[ns]\n",
      " 2   Source                     10462 non-null  object        \n",
      " 3   Destination                10462 non-null  object        \n",
      " 4   Route                      10462 non-null  object        \n",
      " 5   Dep_Time                   10462 non-null  datetime64[ns]\n",
      " 6   Arrival_Time               10462 non-null  datetime64[ns]\n",
      " 7   Duration                   10462 non-null  int64         \n",
      " 8   Total_Stops                10462 non-null  float64       \n",
      " 9   Price                      10462 non-null  int64         \n",
      " 10  Freq_encoded_Airline       10462 non-null  float64       \n",
      " 11  Freq_encoded_Source        10462 non-null  float64       \n",
      " 12  Freq_encoded_Destination   10462 non-null  float64       \n",
      " 13  Freq_encoded_Route         10462 non-null  float64       \n",
      " 14  Mean_encoded_Airline       10462 non-null  float64       \n",
      " 15  Mean_encoded_Source        10462 non-null  float64       \n",
      " 16  Mean_encoded_Destination   10462 non-null  float64       \n",
      " 17  Mean_encoded_Route         10462 non-null  float64       \n",
      " 18  Label_encoded_Airline      10462 non-null  int64         \n",
      " 19  Label_encoded_Source       10462 non-null  int64         \n",
      " 20  Label_encoded_Destination  10462 non-null  int64         \n",
      " 21  Label_encoded_Route        10462 non-null  int64         \n",
      " 22  day_of_week                10462 non-null  int64         \n",
      " 23  day_of_month               10462 non-null  int64         \n",
      " 24  weekday                    10462 non-null  int64         \n",
      " 25  month                      10462 non-null  int64         \n",
      " 26  dep_hour                   10462 non-null  int64         \n",
      "dtypes: datetime64[ns](3), float64(9), int64(11), object(4)\n",
      "memory usage: 2.2+ MB\n"
     ]
    }
   ],
   "source": [
    "df.info()"
   ]
  },
  {
   "cell_type": "markdown",
   "metadata": {
    "id": "xdPfISGKC6Xm"
   },
   "source": [
    "# Scaling the data"
   ]
  },
  {
   "cell_type": "code",
   "execution_count": null,
   "metadata": {
    "id": "79bVCb5dHuDV"
   },
   "outputs": [],
   "source": [
    "## Can added based on distribution of data,\n",
    "## Gaussian like feature with bell-shaped curve can be scaled with Standarization \n",
    "## Non-Gaussian or skewed data  can be scaled with Normalization"
   ]
  },
  {
   "cell_type": "code",
   "execution_count": null,
   "metadata": {
    "id": "qlwFDTHwJfSB"
   },
   "outputs": [],
   "source": [
    "# Can be added as a pipeline"
   ]
  },
  {
   "cell_type": "markdown",
   "metadata": {
    "id": "_VGoK9LtLklF"
   },
   "source": [
    "# Model Building"
   ]
  },
  {
   "cell_type": "code",
   "execution_count": null,
   "metadata": {
    "colab": {
     "base_uri": "https://localhost:8080/"
    },
    "id": "Wlgp3jM8Lz4l",
    "outputId": "ef8bb550-21e2-44dd-e7f3-f3d328cc8802"
   },
   "outputs": [
    {
     "data": {
      "text/plain": [
       "Index(['Airline', 'Date_of_Journey', 'Source', 'Destination', 'Route',\n",
       "       'Dep_Time', 'Arrival_Time', 'Duration', 'Total_Stops', 'Price',\n",
       "       'Freq_encoded_Airline', 'Freq_encoded_Source',\n",
       "       'Freq_encoded_Destination', 'Freq_encoded_Route',\n",
       "       'Mean_encoded_Airline', 'Mean_encoded_Source',\n",
       "       'Mean_encoded_Destination', 'Mean_encoded_Route',\n",
       "       'Label_encoded_Airline', 'Label_encoded_Source',\n",
       "       'Label_encoded_Destination', 'Label_encoded_Route', 'day_of_week',\n",
       "       'day_of_month', 'weekday', 'month', 'dep_hour'],\n",
       "      dtype='object')"
      ]
     },
     "execution_count": 108,
     "metadata": {},
     "output_type": "execute_result"
    }
   ],
   "source": [
    "df.columns"
   ]
  },
  {
   "cell_type": "code",
   "execution_count": null,
   "metadata": {
    "colab": {
     "base_uri": "https://localhost:8080/"
    },
    "id": "19gEkBksQFtZ",
    "outputId": "f27e21cf-0b2f-48f2-c4df-2f845c5b0c69"
   },
   "outputs": [
    {
     "data": {
      "text/plain": [
       "27"
      ]
     },
     "execution_count": 109,
     "metadata": {},
     "output_type": "execute_result"
    }
   ],
   "source": [
    "len(df.columns)"
   ]
  },
  {
   "cell_type": "code",
   "execution_count": null,
   "metadata": {
    "id": "oN2hFdL5Lr_P"
   },
   "outputs": [],
   "source": [
    "# Sepearte your predictors and target variables.\n",
    "X = df.drop(['Airline', 'Date_of_Journey', 'Source', 'Destination', 'Route','Dep_Time', 'Arrival_Time','Price'],axis=1)\n",
    "y = df['Price']"
   ]
  },
  {
   "cell_type": "code",
   "execution_count": null,
   "metadata": {
    "id": "PfsBz_GeCu55"
   },
   "outputs": [],
   "source": [
    "def filter_predictor_columns(df):\n",
    "    '''\n",
    "    This function filters predictor columns from the incoming Data\n",
    "    '''\n",
    "    predictor_columns = ['Duration', 'Total_Stops', 'Label_encoded_Airline',\n",
    "                            'Label_encoded_Source', 'Label_encoded_Destination',\n",
    "                            'Label_encoded_Route', 'Freq_encoded_Airline', 'Freq_encoded_Source',\n",
    "                            'Freq_encoded_Destination', 'Freq_encoded_Route',\n",
    "                            'Mean_encoded_Airline', 'Mean_encoded_Source',\n",
    "                            'Mean_encoded_Destination', 'Mean_encoded_Route', 'day_of_week',\n",
    "                            'day_of_month', 'weekday', 'month', 'dep_hour']\n",
    "    return df[predictor_columns]"
   ]
  },
  {
   "cell_type": "code",
   "execution_count": null,
   "metadata": {
    "id": "BIU8te6oDTdU"
   },
   "outputs": [],
   "source": [
    "_ = filter_predictor_columns(df)"
   ]
  },
  {
   "cell_type": "markdown",
   "metadata": {
    "id": "GmSW7093MnO0"
   },
   "source": [
    "# Model Building and Performace check"
   ]
  },
  {
   "cell_type": "code",
   "execution_count": null,
   "metadata": {
    "id": "wGHmXPSjLskR"
   },
   "outputs": [],
   "source": [
    "from sklearn.preprocessing import StandardScaler\n",
    "from sklearn.model_selection import train_test_split\n",
    "from sklearn.preprocessing import PolynomialFeatures\n",
    "from sklearn.pipeline import make_pipeline\n",
    "from sklearn.preprocessing import PowerTransformer\n",
    "from sklearn.preprocessing import RobustScaler\n",
    "from sklearn.preprocessing import SplineTransformer"
   ]
  },
  {
   "cell_type": "code",
   "execution_count": null,
   "metadata": {
    "id": "BBGV7Z6OMPgX"
   },
   "outputs": [],
   "source": [
    "from sklearn import linear_model\n",
    "from sklearn import metrics"
   ]
  },
  {
   "cell_type": "code",
   "execution_count": null,
   "metadata": {
    "id": "uSjdFasIMSxg"
   },
   "outputs": [],
   "source": [
    "# Split your dataset into train and test\n",
    "X_train, X_test, y_train, y_test = train_test_split(X, y, test_size=0.33, random_state=42)"
   ]
  },
  {
   "cell_type": "code",
   "execution_count": null,
   "metadata": {
    "colab": {
     "base_uri": "https://localhost:8080/"
    },
    "id": "XmQc0GJDQc_D",
    "outputId": "c1e079a0-4ab2-414d-aa22-cfbaee3006de"
   },
   "outputs": [
    {
     "data": {
      "text/plain": [
       "((7009, 19), (3453, 19), (7009,), (3453,))"
      ]
     },
     "execution_count": 116,
     "metadata": {},
     "output_type": "execute_result"
    }
   ],
   "source": [
    "X_train.shape, X_test.shape, y_train.shape, y_test.shape"
   ]
  },
  {
   "cell_type": "markdown",
   "metadata": {
    "id": "ediCrxPMbqX_"
   },
   "source": [
    "## Baseline model"
   ]
  },
  {
   "cell_type": "code",
   "execution_count": null,
   "metadata": {
    "colab": {
     "base_uri": "https://localhost:8080/"
    },
    "id": "eRDDZuOSStD3",
    "outputId": "77777c6f-b8b6-4c0c-baa1-d14149910962"
   },
   "outputs": [
    {
     "data": {
      "text/plain": [
       "(0.6607842122749666, 0.6479600704779648)"
      ]
     },
     "execution_count": 118,
     "metadata": {},
     "output_type": "execute_result"
    }
   ],
   "source": [
    "## Baseline model\n",
    "reg = linear_model.LinearRegression()\n",
    "reg.fit(X_train,y_train)\n",
    "metrics.r2_score(y_train,reg.predict(X_train)), metrics.r2_score(y_test,reg.predict(X_test))"
   ]
  },
  {
   "cell_type": "code",
   "execution_count": null,
   "metadata": {
    "colab": {
     "base_uri": "https://localhost:8080/"
    },
    "id": "9xYjhy9FfDmQ",
    "outputId": "02820ba7-e41b-4975-cecc-57dfdb4ff861"
   },
   "outputs": [
    {
     "name": "stdout",
     "output_type": "stream",
     "text": [
      "TRAIN: [ 2093  2094  2095 ... 10459 10460 10461] TEST: [   0    1    2 ... 2090 2091 2092]\n",
      "0.6609111009335289 0.6407630942838665\n",
      "--------------------------------------------------------------------------------\n",
      "TRAIN: [    0     1     2 ... 10459 10460 10461] TEST: [2093 2094 2095 ... 4183 4184 4185]\n",
      "0.6551540988034807 0.6621612013577918\n",
      "--------------------------------------------------------------------------------\n",
      "TRAIN: [    0     1     2 ... 10459 10460 10461] TEST: [4186 4187 4188 ... 6275 6276 6277]\n",
      "0.6550710562305253 0.6633933893110229\n",
      "--------------------------------------------------------------------------------\n",
      "TRAIN: [    0     1     2 ... 10459 10460 10461] TEST: [6278 6279 6280 ... 8367 8368 8369]\n",
      "0.6580690059522933 0.6499809642273997\n",
      "--------------------------------------------------------------------------------\n",
      "TRAIN: [   0    1    2 ... 8367 8368 8369] TEST: [ 8370  8371  8372 ... 10459 10460 10461]\n",
      "0.654368104477157 0.666079787734542\n",
      "--------------------------------------------------------------------------------\n"
     ]
    }
   ],
   "source": [
    "## K-fold cross-validation\n",
    "from sklearn.model_selection import KFold\n",
    "kf = KFold(n_splits=5)\n",
    "for train_index, test_index in kf.split(X):\n",
    "    print(\"TRAIN:\", train_index, \"TEST:\", test_index)\n",
    "    X_train, X_test = X.iloc[train_index],X.iloc[test_index]\n",
    "    y_train, y_test = y.iloc[train_index], y.iloc[test_index]\n",
    "    print(metrics.r2_score(y_train,reg.predict(X_train)), metrics.r2_score(y_test,reg.predict(X_test)))\n",
    "    print(\"-\"*80)"
   ]
  },
  {
   "cell_type": "markdown",
   "metadata": {
    "id": "nYy4bZuLbt1u"
   },
   "source": [
    "## Over-fitted Model"
   ]
  },
  {
   "cell_type": "code",
   "execution_count": null,
   "metadata": {
    "colab": {
     "base_uri": "https://localhost:8080/"
    },
    "id": "SK3rcis2SZ9k",
    "outputId": "af8548b8-3bfe-491a-bb83-93980afdce92"
   },
   "outputs": [
    {
     "name": "stderr",
     "output_type": "stream",
     "text": [
      "/usr/local/lib/python3.7/dist-packages/sklearn/preprocessing/_data.py:3253: RuntimeWarning: divide by zero encountered in log\n",
      "  loglike = -n_samples / 2 * np.log(x_trans.var())\n"
     ]
    },
    {
     "name": "stdout",
     "output_type": "stream",
     "text": [
      "CPU times: user 6.63 s, sys: 401 ms, total: 7.03 s\n",
      "Wall time: 4.23 s\n"
     ]
    }
   ],
   "source": [
    "# Overfitted model\n",
    "%%time\n",
    "pipe = make_pipeline(PowerTransformer(),PolynomialFeatures(3),RobustScaler(),linear_model.LinearRegression())\n",
    "pipe.fit(X_train, y_train)"
   ]
  },
  {
   "cell_type": "code",
   "execution_count": null,
   "metadata": {
    "colab": {
     "base_uri": "https://localhost:8080/"
    },
    "id": "HuYNWyMCjown",
    "outputId": "9aa059d4-8a1e-4d04-db1f-a1b002190f6b"
   },
   "outputs": [
    {
     "name": "stderr",
     "output_type": "stream",
     "text": [
      "/usr/local/lib/python3.7/dist-packages/sklearn/preprocessing/_data.py:3253: RuntimeWarning: divide by zero encountered in log\n",
      "  loglike = -n_samples / 2 * np.log(x_trans.var())\n"
     ]
    },
    {
     "data": {
      "text/plain": [
       "(0.8535861820703515, -46410940156114.24)"
      ]
     },
     "execution_count": 109,
     "metadata": {},
     "output_type": "execute_result"
    }
   ],
   "source": [
    "pipe = make_pipeline(PowerTransformer(),PolynomialFeatures(3),RobustScaler(),linear_model.LinearRegression())\n",
    "pipe.fit(X_train, y_train)\n",
    "\n",
    "metrics.r2_score(y_train,pipe.predict(X_train)),metrics.r2_score(y_test,pipe.predict(X_test))"
   ]
  },
  {
   "cell_type": "code",
   "execution_count": null,
   "metadata": {
    "colab": {
     "base_uri": "https://localhost:8080/"
    },
    "id": "JYdEhRXWNLu0",
    "outputId": "9ba93be1-cba8-4c22-bd04-eeee26bf71de"
   },
   "outputs": [
    {
     "name": "stderr",
     "output_type": "stream",
     "text": [
      "/usr/local/lib/python3.7/dist-packages/sklearn/preprocessing/_data.py:3253: RuntimeWarning: divide by zero encountered in log\n",
      "  loglike = -n_samples / 2 * np.log(x_trans.var())\n"
     ]
    },
    {
     "name": "stdout",
     "output_type": "stream",
     "text": [
      "0.9058313120374307 -41476981310.51031\n",
      "CPU times: user 7min 55s, sys: 9.1 s, total: 8min 5s\n",
      "Wall time: 4min 10s\n"
     ]
    }
   ],
   "source": [
    "# Overfitted model\n",
    "%%time\n",
    "pipe = make_pipeline(PowerTransformer(),PolynomialFeatures(4),RobustScaler(),linear_model.LinearRegression())\n",
    "pipe.fit(X_train, y_train)\n",
    "\n",
    "print(metrics.r2_score(y_train,pipe.predict(X_train)),metrics.r2_score(y_test,pipe.predict(X_test)))"
   ]
  },
  {
   "cell_type": "code",
   "execution_count": null,
   "metadata": {
    "colab": {
     "base_uri": "https://localhost:8080/"
    },
    "id": "eCGdq4T7XUKg",
    "outputId": "b0ecfb8e-1f7e-4569-e617-4c946896fb0b"
   },
   "outputs": [
    {
     "name": "stderr",
     "output_type": "stream",
     "text": [
      "/usr/local/lib/python3.7/dist-packages/sklearn/preprocessing/_data.py:3253: RuntimeWarning: divide by zero encountered in log\n",
      "  loglike = -n_samples / 2 * np.log(x_trans.var())\n"
     ]
    },
    {
     "name": "stdout",
     "output_type": "stream",
     "text": [
      "0.9639301540081037 -5825936264.969994\n",
      "CPU times: user 16min 4s, sys: 32.6 s, total: 16min 37s\n",
      "Wall time: 9min 15s\n"
     ]
    }
   ],
   "source": [
    "# Overfitted Model\n",
    "%%time\n",
    "pipe = make_pipeline(PowerTransformer(),PolynomialFeatures(4),SplineTransformer(degree=2, n_knots=5),RobustScaler(), \\\n",
    "                     linear_model.LinearRegression())\n",
    "pipe.fit(X_train, y_train)\n",
    "\n",
    "print(metrics.r2_score(y_train,pipe.predict(X_train)),metrics.r2_score(y_test,pipe.predict(X_test)))"
   ]
  },
  {
   "cell_type": "markdown",
   "metadata": {
    "id": "8GDDSbk5b0H8"
   },
   "source": [
    "## Regularized Model"
   ]
  },
  {
   "cell_type": "code",
   "execution_count": null,
   "metadata": {
    "colab": {
     "base_uri": "https://localhost:8080/"
    },
    "id": "PbyGo_qbNQ7u",
    "outputId": "6be59d82-86bc-418f-9b80-a62d059bd5f3"
   },
   "outputs": [
    {
     "name": "stderr",
     "output_type": "stream",
     "text": [
      "/usr/local/lib/python3.7/dist-packages/sklearn/preprocessing/_data.py:3253: RuntimeWarning: divide by zero encountered in log\n",
      "  loglike = -n_samples / 2 * np.log(x_trans.var())\n"
     ]
    },
    {
     "name": "stdout",
     "output_type": "stream",
     "text": [
      "0.776919248560009 0.7674414895091812\n",
      "CPU times: user 56.5 s, sys: 4.6 s, total: 1min 1s\n",
      "Wall time: 39.8 s\n"
     ]
    }
   ],
   "source": [
    "# Regularised model\n",
    "%%time\n",
    "pipe = make_pipeline(PowerTransformer(),PolynomialFeatures(4),RobustScaler(),linear_model.LassoLars(alpha=.1, normalize=False))\n",
    "pipe.fit(X_train, y_train)\n",
    "\n",
    "print(metrics.r2_score(y_train,pipe.predict(X_train)),metrics.r2_score(y_test,pipe.predict(X_test)))"
   ]
  },
  {
   "cell_type": "code",
   "execution_count": null,
   "metadata": {
    "colab": {
     "base_uri": "https://localhost:8080/"
    },
    "id": "zOmCu70OPQHF",
    "outputId": "ed50df33-36e1-4e46-dc8f-41092caf29b7"
   },
   "outputs": [
    {
     "name": "stderr",
     "output_type": "stream",
     "text": [
      "/usr/local/lib/python3.7/dist-packages/sklearn/preprocessing/_data.py:3253: RuntimeWarning: divide by zero encountered in log\n",
      "  loglike = -n_samples / 2 * np.log(x_trans.var())\n"
     ]
    },
    {
     "data": {
      "text/plain": [
       "(0.7581664682688859, 0.7399668551464529)"
      ]
     },
     "execution_count": 57,
     "metadata": {},
     "output_type": "execute_result"
    }
   ],
   "source": [
    "# Regularised model\n",
    "pipe = make_pipeline(PowerTransformer(),PolynomialFeatures(4),SplineTransformer(degree=2, n_knots=5),RobustScaler(), \\\n",
    "                     linear_model.LassoLars(alpha=.1, normalize=False))\n",
    "pipe.fit(X_train, y_train)\n",
    "\n",
    "metrics.r2_score(y_train,pipe.predict(X_train)),metrics.r2_score(y_test,pipe.predict(X_test))"
   ]
  },
  {
   "cell_type": "markdown",
   "metadata": {
    "id": "QBKiBro7XdBH"
   },
   "source": [
    "## Other Model variation"
   ]
  },
  {
   "cell_type": "code",
   "execution_count": null,
   "metadata": {
    "id": "ds65_RngVuXf"
   },
   "outputs": [],
   "source": [
    "from sklearn.model_selection import RandomizedSearchCV\n",
    "from sklearn.model_selection import GridSearchCV\n",
    "from sklearn.neighbors import KNeighborsRegressor\n",
    "from sklearn.ensemble import RandomForestRegressor\n",
    "from sklearn.tree import DecisionTreeRegressor"
   ]
  },
  {
   "cell_type": "markdown",
   "metadata": {
    "id": "24fTNeiPb6y_"
   },
   "source": [
    "### K-nearest neighbour"
   ]
  },
  {
   "cell_type": "code",
   "execution_count": null,
   "metadata": {
    "id": "UbUJkUX9FSLO"
   },
   "outputs": [],
   "source": [
    "k_range = list(range(1, 30))\n",
    "params = dict(n_neighbors = k_range)\n",
    "params"
   ]
  },
  {
   "cell_type": "code",
   "execution_count": null,
   "metadata": {
    "colab": {
     "base_uri": "https://localhost:8080/"
    },
    "id": "4HEf9L2OVWBP",
    "outputId": "b88cff8e-cae9-49b8-b64c-0b5ddfd34e5f"
   },
   "outputs": [
    {
     "name": "stdout",
     "output_type": "stream",
     "text": [
      "0.7768721119278461 0.6711044232626613\n",
      "CPU times: user 39.8 s, sys: 27.3 s, total: 1min 7s\n",
      "Wall time: 35 s\n"
     ]
    }
   ],
   "source": [
    "%%time\n",
    "k_range = list(range(1, 30))\n",
    "params = dict(n_neighbors = k_range)\n",
    "knn_regressor = GridSearchCV(KNeighborsRegressor(), params, cv =10, scoring = 'neg_mean_squared_error')\n",
    "knn_regressor.fit(X_train, y_train)\n",
    "print(metrics.r2_score(y_train,knn_regressor.predict(X_train)),metrics.r2_score(y_test,knn_regressor.predict(X_test)))"
   ]
  },
  {
   "cell_type": "code",
   "execution_count": null,
   "metadata": {
    "colab": {
     "base_uri": "https://localhost:8080/"
    },
    "id": "ohUPsj_ZYGOp",
    "outputId": "aab8dcc8-9842-418e-a697-93c72c60e524"
   },
   "outputs": [
    {
     "data": {
      "text/plain": [
       "<bound method BaseEstimator.get_params of GridSearchCV(cv=10, estimator=KNeighborsRegressor(),\n",
       "             param_grid={'n_neighbors': [1, 2, 3, 4, 5, 6, 7, 8, 9, 10, 11, 12,\n",
       "                                         13, 14, 15, 16, 17, 18, 19, 20, 21, 22,\n",
       "                                         23, 24, 25, 26, 27, 28, 29]},\n",
       "             scoring='neg_mean_squared_error')>"
      ]
     },
     "execution_count": 126,
     "metadata": {},
     "output_type": "execute_result"
    }
   ],
   "source": [
    "knn_regressor.get_params"
   ]
  },
  {
   "cell_type": "code",
   "execution_count": null,
   "metadata": {
    "colab": {
     "base_uri": "https://localhost:8080/"
    },
    "id": "OgWARKA1YktM",
    "outputId": "aed8e54d-073d-4b9e-c144-bb91929c199f"
   },
   "outputs": [
    {
     "data": {
      "text/plain": [
       "{'n_neighbors': 6}"
      ]
     },
     "execution_count": 127,
     "metadata": {},
     "output_type": "execute_result"
    }
   ],
   "source": [
    "knn_regressor.best_params_"
   ]
  },
  {
   "cell_type": "code",
   "execution_count": null,
   "metadata": {
    "id": "tGwwrj4sjXth"
   },
   "outputs": [],
   "source": [
    "import pickle \n",
    "import joblib"
   ]
  },
  {
   "cell_type": "code",
   "execution_count": null,
   "metadata": {
    "colab": {
     "base_uri": "https://localhost:8080/",
     "height": 35
    },
    "id": "MaZrao8Vj-31",
    "outputId": "e0e76d4d-1b78-46ed-a83b-bbd04317a532"
   },
   "outputs": [
    {
     "data": {
      "application/vnd.google.colaboratory.intrinsic+json": {
       "type": "string"
      },
      "text/plain": [
       "'/content/Airline'"
      ]
     },
     "execution_count": 129,
     "metadata": {},
     "output_type": "execute_result"
    }
   ],
   "source": [
    "pwd"
   ]
  },
  {
   "cell_type": "code",
   "execution_count": null,
   "metadata": {
    "colab": {
     "base_uri": "https://localhost:8080/"
    },
    "id": "BTxmFZcg2b0o",
    "outputId": "d88cf3a1-20ad-4a04-d521-a68587b53dc3"
   },
   "outputs": [
    {
     "name": "stdout",
     "output_type": "stream",
     "text": [
      "0.7768721119278461 0.6711044232626613\n"
     ]
    }
   ],
   "source": [
    "# Before\n",
    "print(metrics.r2_score(y_train,knn_regressor.predict(X_train)),metrics.r2_score(y_test,knn_regressor.predict(X_test)))"
   ]
  },
  {
   "cell_type": "code",
   "execution_count": null,
   "metadata": {
    "colab": {
     "base_uri": "https://localhost:8080/"
    },
    "id": "8KQ1tRpM2VQv",
    "outputId": "34ef37c9-169c-4c17-b87e-e43a0bd624d4"
   },
   "outputs": [
    {
     "data": {
      "text/plain": [
       "['model/model_knn_regressor.joblib']"
      ]
     },
     "execution_count": 132,
     "metadata": {},
     "output_type": "execute_result"
    }
   ],
   "source": [
    "from joblib import dump, load\n",
    "dump(knn_regressor, 'model/model_knn_regressor.joblib') "
   ]
  },
  {
   "cell_type": "code",
   "execution_count": null,
   "metadata": {
    "id": "yh-jQY1B2vUi"
   },
   "outputs": [],
   "source": [
    "import pickle\n",
    "pickle.dump(knn_regressor,open(\"model/knn_1st_regressor_model.pkl\", \"wb\"))"
   ]
  },
  {
   "cell_type": "code",
   "execution_count": null,
   "metadata": {
    "id": "tJ_wT8uHjdR_"
   },
   "outputs": [],
   "source": [
    "with open(\"model/knn_2nd_regressor_model.pkl\", \"wb\") as file:\n",
    "      pickle.dump(knn_regressor,file)"
   ]
  },
  {
   "cell_type": "code",
   "execution_count": null,
   "metadata": {
    "id": "KUJ28QSo583Y"
   },
   "outputs": [],
   "source": [
    "# pickle.loads?"
   ]
  },
  {
   "cell_type": "code",
   "execution_count": null,
   "metadata": {
    "id": "z-zpa0_A5J18"
   },
   "outputs": [],
   "source": [
    "saved_knn_pkl_1st_model = pickle.load(open(\"model/knn_1st_regressor_model.pkl\",'rb'))"
   ]
  },
  {
   "cell_type": "code",
   "execution_count": null,
   "metadata": {
    "colab": {
     "base_uri": "https://localhost:8080/"
    },
    "id": "YL_AqE5B5ZDw",
    "outputId": "c9220027-bb95-4ebb-b2d7-03e71e124120"
   },
   "outputs": [
    {
     "name": "stdout",
     "output_type": "stream",
     "text": [
      "0.7768721119278461 0.6711044232626613\n"
     ]
    }
   ],
   "source": [
    "# After\n",
    "print(metrics.r2_score(y_train,saved_knn_pkl_1st_model.predict(X_train)),metrics.r2_score(y_test,saved_knn_pkl_1st_model.predict(X_test)))"
   ]
  },
  {
   "cell_type": "code",
   "execution_count": null,
   "metadata": {
    "id": "6YeV3jjf63Hj"
   },
   "outputs": [],
   "source": [
    "with open(\"model/knn_2nd_regressor_model.pkl\", \"rb\") as file:\n",
    "      saved_knn_pkl_2nd_model = pickle.load(file)"
   ]
  },
  {
   "cell_type": "code",
   "execution_count": null,
   "metadata": {
    "colab": {
     "base_uri": "https://localhost:8080/"
    },
    "id": "6TGwjyzy7E1L",
    "outputId": "d0f9605c-ecfe-428a-e6e3-0f5ac869a836"
   },
   "outputs": [
    {
     "name": "stdout",
     "output_type": "stream",
     "text": [
      "0.7768721119278461 0.6711044232626613\n"
     ]
    }
   ],
   "source": [
    "# After\n",
    "print(metrics.r2_score(y_train,saved_knn_pkl_2nd_model.predict(X_train)),metrics.r2_score(y_test,saved_knn_pkl_2nd_model.predict(X_test)))"
   ]
  },
  {
   "cell_type": "code",
   "execution_count": null,
   "metadata": {
    "id": "-ZIXciSu5J_d"
   },
   "outputs": [],
   "source": [
    "saved_knn_model_joblib = load(\"model/model_knn_regressor.joblib\") "
   ]
  },
  {
   "cell_type": "code",
   "execution_count": null,
   "metadata": {
    "colab": {
     "base_uri": "https://localhost:8080/"
    },
    "id": "SnzBY9y55KOc",
    "outputId": "863258cd-7356-4f92-ba15-857a3c1f86a3"
   },
   "outputs": [
    {
     "name": "stdout",
     "output_type": "stream",
     "text": [
      "0.7768721119278461 0.6711044232626613\n"
     ]
    }
   ],
   "source": [
    "# After\n",
    "print(metrics.r2_score(y_train,saved_knn_model_joblib.predict(X_train)),metrics.r2_score(y_test,saved_knn_model_joblib.predict(X_test)))"
   ]
  },
  {
   "cell_type": "markdown",
   "metadata": {
    "id": "ZjCfnl3scBBN"
   },
   "source": [
    "### Decision Tree"
   ]
  },
  {
   "cell_type": "code",
   "execution_count": null,
   "metadata": {
    "colab": {
     "base_uri": "https://localhost:8080/"
    },
    "id": "qdXbI4EwWYo6",
    "outputId": "438a722a-bee3-4189-d028-47cfbba64ed2"
   },
   "outputs": [
    {
     "name": "stdout",
     "output_type": "stream",
     "text": [
      "0.8374805567332173 0.8013018545246472\n",
      "CPU times: user 8.39 s, sys: 31.5 ms, total: 8.43 s\n",
      "Wall time: 8.4 s\n"
     ]
    }
   ],
   "source": [
    "%%time\n",
    "depth  =list(range(3,30))\n",
    "param_grid =dict(max_depth =depth)\n",
    "tree =GridSearchCV(DecisionTreeRegressor(),param_grid,cv =10)\n",
    "tree.fit(X_train,y_train)\n",
    "print(metrics.r2_score(y_train,tree.predict(X_train)),metrics.r2_score(y_test,tree.predict(X_test)))"
   ]
  },
  {
   "cell_type": "code",
   "execution_count": null,
   "metadata": {
    "colab": {
     "base_uri": "https://localhost:8080/"
    },
    "id": "xZDJsXoGYsH-",
    "outputId": "8e8d0c5e-fbbc-4832-908e-21c13afc5a1c"
   },
   "outputs": [
    {
     "data": {
      "text/plain": [
       "<bound method BaseEstimator.get_params of GridSearchCV(cv=10, estimator=DecisionTreeRegressor(),\n",
       "             param_grid={'max_depth': [3, 4, 5, 6, 7, 8, 9, 10, 11, 12, 13, 14,\n",
       "                                       15, 16, 17, 18, 19, 20, 21, 22, 23, 24,\n",
       "                                       25, 26, 27, 28, 29]})>"
      ]
     },
     "execution_count": 139,
     "metadata": {},
     "output_type": "execute_result"
    }
   ],
   "source": [
    "tree.get_params"
   ]
  },
  {
   "cell_type": "code",
   "execution_count": null,
   "metadata": {
    "colab": {
     "base_uri": "https://localhost:8080/"
    },
    "id": "Ei_SrWAZYsLl",
    "outputId": "cf3c42e0-91d1-4621-c390-e8598b1f723c"
   },
   "outputs": [
    {
     "data": {
      "text/plain": [
       "{'max_depth': 8}"
      ]
     },
     "execution_count": 140,
     "metadata": {},
     "output_type": "execute_result"
    }
   ],
   "source": [
    "tree.best_params_"
   ]
  },
  {
   "cell_type": "code",
   "execution_count": null,
   "metadata": {
    "colab": {
     "base_uri": "https://localhost:8080/"
    },
    "id": "cTpxwTmy35rN",
    "outputId": "2c1fcd52-84f1-4645-9c3f-c28537545c93"
   },
   "outputs": [
    {
     "data": {
      "text/plain": [
       "['model/model_tree_regressor.joblib']"
      ]
     },
     "execution_count": 141,
     "metadata": {},
     "output_type": "execute_result"
    }
   ],
   "source": [
    "from joblib import dump, load\n",
    "dump(tree, 'model/model_tree_regressor.joblib') "
   ]
  },
  {
   "cell_type": "code",
   "execution_count": null,
   "metadata": {
    "id": "YDFKVO7j340a"
   },
   "outputs": [],
   "source": [
    "import pickle\n",
    "pickle.dump(tree,open(\"model/tree_1st_regressor_model.pkl\", \"wb\"))"
   ]
  },
  {
   "cell_type": "code",
   "execution_count": null,
   "metadata": {
    "id": "oNl-atoAkni_"
   },
   "outputs": [],
   "source": [
    "with open(\"model/tree_2nd_regressor_model.pkl\", \"wb\") as file:\n",
    "      pickle.dump(tree,file)"
   ]
  },
  {
   "cell_type": "markdown",
   "metadata": {
    "id": "bH3sfnkqcFPG"
   },
   "source": [
    "### Random Forest"
   ]
  },
  {
   "cell_type": "code",
   "execution_count": null,
   "metadata": {
    "colab": {
     "base_uri": "https://localhost:8080/"
    },
    "id": "XUmVrjopXAxo",
    "outputId": "0ba140e5-d41c-4083-9a1f-2c9159cc2cf9"
   },
   "outputs": [
    {
     "name": "stdout",
     "output_type": "stream",
     "text": [
      "0.9425598272449128 0.840231985961598\n",
      "CPU times: user 14.9 s, sys: 388 ms, total: 15.3 s\n",
      "Wall time: 6min 25s\n"
     ]
    }
   ],
   "source": [
    "%%time\n",
    "tuned_params = {'n_estimators': [100,  300,  500], 'min_samples_split': [2, 5, 10], 'min_samples_leaf': [1, 2, 4]}\n",
    "random_regressor = RandomizedSearchCV(RandomForestRegressor(), tuned_params, n_iter = 20, scoring = 'neg_mean_absolute_error', cv = 5, n_jobs = -1)\n",
    "random_regressor.fit(X_train, y_train)\n",
    "print(metrics.r2_score(y_train,random_regressor.predict(X_train)),metrics.r2_score(y_test,random_regressor.predict(X_test)))"
   ]
  },
  {
   "cell_type": "code",
   "execution_count": null,
   "metadata": {
    "colab": {
     "base_uri": "https://localhost:8080/"
    },
    "id": "2rbbjGCRY1Ma",
    "outputId": "c25a6c88-a527-4fa8-d327-d551b2d4f454"
   },
   "outputs": [
    {
     "data": {
      "text/plain": [
       "<bound method BaseEstimator.get_params of RandomizedSearchCV(cv=5, estimator=RandomForestRegressor(), n_iter=20,\n",
       "                   n_jobs=-1,\n",
       "                   param_distributions={'min_samples_leaf': [1, 2, 4],\n",
       "                                        'min_samples_split': [2, 5, 10],\n",
       "                                        'n_estimators': [100, 300, 500]},\n",
       "                   scoring='neg_mean_absolute_error')>"
      ]
     },
     "execution_count": 122,
     "metadata": {},
     "output_type": "execute_result"
    }
   ],
   "source": [
    "random_regressor.get_params"
   ]
  },
  {
   "cell_type": "code",
   "execution_count": null,
   "metadata": {
    "colab": {
     "base_uri": "https://localhost:8080/"
    },
    "id": "emyMlQUsY1QH",
    "outputId": "2f419c19-21ab-40ad-dbd5-df7a94e9e7a0"
   },
   "outputs": [
    {
     "data": {
      "text/plain": [
       "{'min_samples_leaf': 1, 'min_samples_split': 5, 'n_estimators': 500}"
      ]
     },
     "execution_count": 123,
     "metadata": {},
     "output_type": "execute_result"
    }
   ],
   "source": [
    "random_regressor.best_params_"
   ]
  },
  {
   "cell_type": "code",
   "execution_count": null,
   "metadata": {
    "colab": {
     "base_uri": "https://localhost:8080/"
    },
    "id": "98QWgqqO4dFD",
    "outputId": "21013c0d-ec78-434d-8dff-af73ac7e9af3"
   },
   "outputs": [
    {
     "data": {
      "text/plain": [
       "['model/model_random_forest_regressor.joblib']"
      ]
     },
     "execution_count": 145,
     "metadata": {},
     "output_type": "execute_result"
    }
   ],
   "source": [
    "from joblib import dump, load\n",
    "dump(random_regressor, 'model/model_random_forest_regressor.joblib') "
   ]
  },
  {
   "cell_type": "code",
   "execution_count": null,
   "metadata": {
    "id": "C9zuMOV44jI_"
   },
   "outputs": [],
   "source": [
    "import pickle\n",
    "pickle.dump(random_regressor,open(\"model/random_forest_1st_regressor_model.pkl\", \"wb\"))"
   ]
  },
  {
   "cell_type": "code",
   "execution_count": null,
   "metadata": {
    "id": "5mdWU0MB4jZW"
   },
   "outputs": [],
   "source": [
    "with open(\"model/random_forest_2nd_regressor_model.pkl\", \"wb\") as file:\n",
    "      pickle.dump(random_regressor,file)"
   ]
  },
  {
   "cell_type": "code",
   "execution_count": null,
   "metadata": {
    "colab": {
     "base_uri": "https://localhost:8080/"
    },
    "id": "1mNYWNorS0Zk",
    "outputId": "bf888dd5-1833-45dc-8362-b20c866dde99"
   },
   "outputs": [
    {
     "name": "stdout",
     "output_type": "stream",
     "text": [
      "0.9324951984783214 0.8442228302959484\n",
      "CPU times: user 25.1 s, sys: 2.26 s, total: 27.4 s\n",
      "Wall time: 37min 44s\n"
     ]
    }
   ],
   "source": [
    "%%time\n",
    "tuned_params = {'n_estimators': [290, 295, 300, 305, 310], 'min_samples_split': [ 5,6,7,8,9,10], 'min_samples_leaf': [1, 2,3, 4]}\n",
    "random_regressor = GridSearchCV(RandomForestRegressor(), tuned_params, scoring = 'neg_mean_absolute_error', cv = 5, n_jobs = -1)\n",
    "random_regressor.fit(X_train, y_train)\n",
    "print(metrics.r2_score(y_train,random_regressor.predict(X_train)),metrics.r2_score(y_test,random_regressor.predict(X_test)))"
   ]
  },
  {
   "cell_type": "code",
   "execution_count": null,
   "metadata": {
    "id": "VwdOzcKBqw_V"
   },
   "outputs": [],
   "source": [
    "import xgboost as xgb"
   ]
  },
  {
   "cell_type": "code",
   "execution_count": null,
   "metadata": {
    "colab": {
     "base_uri": "https://localhost:8080/"
    },
    "id": "OpVZ5-cxqyYN",
    "outputId": "5e0575f6-c19a-4539-fc08-1e29dde28826"
   },
   "outputs": [
    {
     "name": "stdout",
     "output_type": "stream",
     "text": [
      "[04:39:46] WARNING: /workspace/src/objective/regression_obj.cu:152: reg:linear is now deprecated in favor of reg:squarederror.\n"
     ]
    },
    {
     "data": {
      "text/plain": [
       "(0.8255090180623456, 0.8090969715596837)"
      ]
     },
     "execution_count": 83,
     "metadata": {},
     "output_type": "execute_result"
    }
   ],
   "source": [
    "xg_reg = xgb.XGBRegressor()\n",
    "xg_reg.fit(X_train,y_train)\n",
    "metrics.r2_score(y_train,xg_reg.predict(X_train)),metrics.r2_score(y_test,xg_reg.predict(X_test))"
   ]
  },
  {
   "cell_type": "code",
   "execution_count": null,
   "metadata": {
    "id": "1lJblP0urECc"
   },
   "outputs": [],
   "source": [
    "%%time\n",
    "n_estimators = [int(i) for i in np.linspace(100,1200,num=6)]\n",
    "learning_rate = [0.2,0.4,0.6]\n",
    "max_depth = [int(i) for i in np.linspace(5,40,num=4)]\n",
    "min_child_weight = [3,5,6,8,7]\n",
    "subsample = [0.4,0.7,0.9]\n",
    "\n",
    "ran_params = {'n_estimators' : n_estimators,\n",
    "             'max_depth' : max_depth,\n",
    "             'learning_rate' : learning_rate,\n",
    "             'min_child_weight': min_child_weight,\n",
    "             'subsample':subsample}\n",
    "\n",
    "xg_r = RandomizedSearchCV(xg_reg,ran_params,cv=5,verbose=3)\n",
    "xg_r.fit(X_train,y_train)\n",
    "metrics.r2_score(y_train,xg_r.predict(X_train)),metrics.r2_score(y_test,xg_r.predict(X_test))"
   ]
  },
  {
   "cell_type": "code",
   "execution_count": null,
   "metadata": {
    "colab": {
     "base_uri": "https://localhost:8080/"
    },
    "id": "-HKaR5Jjp3ww",
    "outputId": "e1001e6b-a04f-43b4-f15e-a2b0c2349c55"
   },
   "outputs": [
    {
     "data": {
      "text/plain": [
       "(0.9218621562170909, 0.7975942157169588)"
      ]
     },
     "execution_count": 87,
     "metadata": {},
     "output_type": "execute_result"
    }
   ],
   "source": [
    "metrics.r2_score(y_train,xg_r.predict(X_train)),metrics.r2_score(y_test,xg_r.predict(X_test))"
   ]
  },
  {
   "cell_type": "code",
   "execution_count": null,
   "metadata": {
    "id": "_IFvV-xA71RB"
   },
   "outputs": [],
   "source": [
    "! rm -rf /content/drive/MyDrive/RegressionFlightPricePrediction"
   ]
  },
  {
   "cell_type": "code",
   "execution_count": null,
   "metadata": {
    "id": "kJWCprs87eNi"
   },
   "outputs": [],
   "source": [
    "! cp -av /content/Airline/ /content/drive/MyDrive/"
   ]
  },
  {
   "cell_type": "markdown",
   "metadata": {
    "id": "DlCKi9v5cKGC"
   },
   "source": [
    "### Building Final Model and Pipeline"
   ]
  },
  {
   "cell_type": "code",
   "execution_count": null,
   "metadata": {
    "id": "hot3N-JYCL_D"
   },
   "outputs": [],
   "source": [
    "import joblib\n",
    "import pickle"
   ]
  },
  {
   "cell_type": "markdown",
   "metadata": {
    "id": "Jr0neGIGck_I"
   },
   "source": [
    "### Building Complete Pipeline"
   ]
  },
  {
   "cell_type": "code",
   "execution_count": null,
   "metadata": {
    "id": "LaZP3D15TBXo"
   },
   "outputs": [],
   "source": [
    "def pre_process(df,target):\n",
    "    '''\n",
    "      This function applies pre-processing on any incoming observations\n",
    "    Input:\n",
    "      df : DataFrame which require pre-processing\n",
    "      target : dependent variable\n",
    "    return clean_df : Cleaned Dataframe\n",
    "    '''\n",
    "    sanity_check(df)\n",
    "    handle_missing_value(df)\n",
    "    encoded_dict = handle_categorical_values(df,target)\n",
    "    generate_additional_features(df)\n",
    "    X = filter_predictor_columns(df)\n",
    "    y = df[target]\n",
    "    # robust_transformer = RobustScaler().fit(X)\n",
    "    # robust_transformer.transform(X)\n",
    "    return X,y,encoded_dict"
   ]
  },
  {
   "cell_type": "code",
   "execution_count": null,
   "metadata": {
    "colab": {
     "base_uri": "https://localhost:8080/"
    },
    "id": "W_m80VD1G-N8",
    "outputId": "b523e996-37fb-42f0-ec9c-98088f771f4d"
   },
   "outputs": [
    {
     "name": "stdout",
     "output_type": "stream",
     "text": [
      "CPU times: user 2.31 s, sys: 11.7 ms, total: 2.32 s\n",
      "Wall time: 2.33 s\n"
     ]
    }
   ],
   "source": [
    "%%time\n",
    "raw_df = pd.read_excel(\"/content/Airline/data/Data_Train.xlsx\")\n",
    "X_input,y_input,encoded_dict = pre_process(raw_df,'Price')"
   ]
  },
  {
   "cell_type": "code",
   "execution_count": null,
   "metadata": {
    "id": "VdMGOhr4_UUi"
   },
   "outputs": [],
   "source": [
    "with open(\"model/category_encoded.pickle\", \"wb\") as file:\n",
    "      pickle.dump(encoded_dict,file)"
   ]
  },
  {
   "cell_type": "code",
   "execution_count": null,
   "metadata": {
    "id": "TezXjCXN_oHf"
   },
   "outputs": [],
   "source": [
    "with open(\"model/category_encoded.pickle\", \"rb\") as file:\n",
    "      category_encoded_dict = pickle.load(file)"
   ]
  },
  {
   "cell_type": "code",
   "execution_count": null,
   "metadata": {
    "colab": {
     "base_uri": "https://localhost:8080/"
    },
    "id": "5f1gn1y6_8QV",
    "outputId": "86b7af38-5d23-427f-d94d-273eb1042379"
   },
   "outputs": [
    {
     "data": {
      "text/plain": [
       "dict_keys(['Frequency', 'Mean', 'Label'])"
      ]
     },
     "execution_count": 190,
     "metadata": {},
     "output_type": "execute_result"
    }
   ],
   "source": [
    "category_encoded_dict.keys()"
   ]
  },
  {
   "cell_type": "code",
   "execution_count": null,
   "metadata": {
    "colab": {
     "base_uri": "https://localhost:8080/"
    },
    "id": "bye-STDhlYZz",
    "outputId": "7cba1c01-0108-470c-8e9d-ec6e5539ca53"
   },
   "outputs": [
    {
     "name": "stdout",
     "output_type": "stream",
     "text": [
      "CPU times: user 176 µs, sys: 57 µs, total: 233 µs\n",
      "Wall time: 242 µs\n"
     ]
    },
    {
     "data": {
      "text/plain": [
       "0     3897\n",
       "1     7662\n",
       "2    13882\n",
       "3     6218\n",
       "4    13302\n",
       "Name: Price, dtype: int64"
      ]
     },
     "execution_count": 174,
     "metadata": {},
     "output_type": "execute_result"
    }
   ],
   "source": [
    "%%time\n",
    "y_input.iloc[0:5]"
   ]
  },
  {
   "cell_type": "code",
   "execution_count": null,
   "metadata": {
    "id": "EPdHiB57llOp"
   },
   "outputs": [],
   "source": [
    "X_input"
   ]
  },
  {
   "cell_type": "code",
   "execution_count": null,
   "metadata": {
    "colab": {
     "base_uri": "https://localhost:8080/"
    },
    "id": "lH1DGtitlVZ8",
    "outputId": "26d2390f-7a40-4f89-a75f-433694854766"
   },
   "outputs": [
    {
     "name": "stdout",
     "output_type": "stream",
     "text": [
      "CPU times: user 6.65 ms, sys: 5.67 ms, total: 12.3 ms\n",
      "Wall time: 11.7 ms\n"
     ]
    },
    {
     "name": "stderr",
     "output_type": "stream",
     "text": [
      "/usr/local/lib/python3.7/dist-packages/sklearn/base.py:493: FutureWarning: The feature names should match those that were passed during fit. Starting version 1.2, an error will be raised.\n",
      "Feature names must be in the same order as they were in fit.\n",
      "\n",
      "  warnings.warn(message, FutureWarning)\n"
     ]
    },
    {
     "data": {
      "text/plain": [
       "array([1991.        , 2367.66666667, 4724.5       , 2069.66666667,\n",
       "       2087.33333333])"
      ]
     },
     "execution_count": 176,
     "metadata": {},
     "output_type": "execute_result"
    }
   ],
   "source": [
    "%%time\n",
    "knn_regressor.predict(X_input.iloc[0:5,:])"
   ]
  },
  {
   "cell_type": "code",
   "execution_count": null,
   "metadata": {
    "colab": {
     "base_uri": "https://localhost:8080/"
    },
    "id": "97lUHO5_lhyd",
    "outputId": "7b10a9f0-a41e-45e9-9248-853bafed996d"
   },
   "outputs": [
    {
     "name": "stdout",
     "output_type": "stream",
     "text": [
      "CPU times: user 6.55 ms, sys: 0 ns, total: 6.55 ms\n",
      "Wall time: 8.64 ms\n"
     ]
    },
    {
     "name": "stderr",
     "output_type": "stream",
     "text": [
      "/usr/local/lib/python3.7/dist-packages/sklearn/base.py:493: FutureWarning: The feature names should match those that were passed during fit. Starting version 1.2, an error will be raised.\n",
      "Feature names must be in the same order as they were in fit.\n",
      "\n",
      "  warnings.warn(message, FutureWarning)\n"
     ]
    },
    {
     "data": {
      "text/plain": [
       "array([2751.1038961, 3755.       , 3755.       , 2751.1038961,\n",
       "       7611.       ])"
      ]
     },
     "execution_count": 177,
     "metadata": {},
     "output_type": "execute_result"
    }
   ],
   "source": [
    "%%time\n",
    "tree.predict(X_input.iloc[0:5,:])"
   ]
  },
  {
   "cell_type": "code",
   "execution_count": null,
   "metadata": {
    "colab": {
     "base_uri": "https://localhost:8080/"
    },
    "id": "DeDyq_iyMLrF",
    "outputId": "1736b864-d891-4e7c-b8af-f3166602b90e"
   },
   "outputs": [
    {
     "name": "stdout",
     "output_type": "stream",
     "text": [
      "CPU times: user 85.9 ms, sys: 51 µs, total: 85.9 ms\n",
      "Wall time: 95.7 ms\n"
     ]
    },
    {
     "name": "stderr",
     "output_type": "stream",
     "text": [
      "/usr/local/lib/python3.7/dist-packages/sklearn/base.py:493: FutureWarning: The feature names should match those that were passed during fit. Starting version 1.2, an error will be raised.\n",
      "Feature names must be in the same order as they were in fit.\n",
      "\n",
      "  warnings.warn(message, FutureWarning)\n"
     ]
    },
    {
     "data": {
      "text/plain": [
       "array([3744.24509401, 3782.4374246 , 4034.85905087, 3757.67061508,\n",
       "       9495.03732121])"
      ]
     },
     "execution_count": 179,
     "metadata": {},
     "output_type": "execute_result"
    }
   ],
   "source": [
    "%%time\n",
    "random_regressor.predict(X_input.iloc[0:5,:])"
   ]
  },
  {
   "cell_type": "code",
   "execution_count": null,
   "metadata": {
    "id": "n83Gh8Eu-RsG"
   },
   "outputs": [],
   "source": [
    "with open(\"model/random_forest_2nd_regressor_model.pkl\", \"rb\") as file:\n",
    "      saved_model = pickle.load(file)"
   ]
  },
  {
   "cell_type": "code",
   "execution_count": null,
   "metadata": {
    "colab": {
     "base_uri": "https://localhost:8080/"
    },
    "id": "d5PaeevKlh1n",
    "outputId": "909285b7-e1f6-437c-dcb3-3eaca459d4c2"
   },
   "outputs": [
    {
     "name": "stdout",
     "output_type": "stream",
     "text": [
      "CPU times: user 45.3 ms, sys: 0 ns, total: 45.3 ms\n",
      "Wall time: 45.7 ms\n"
     ]
    },
    {
     "name": "stderr",
     "output_type": "stream",
     "text": [
      "/usr/local/lib/python3.7/dist-packages/sklearn/base.py:493: FutureWarning: The feature names should match those that were passed during fit. Starting version 1.2, an error will be raised.\n",
      "Feature names must be in the same order as they were in fit.\n",
      "\n",
      "  warnings.warn(message, FutureWarning)\n"
     ]
    },
    {
     "data": {
      "text/plain": [
       "array([3744.24509401, 3782.4374246 , 4034.85905087, 3757.67061508,\n",
       "       9495.03732121])"
      ]
     },
     "execution_count": 185,
     "metadata": {},
     "output_type": "execute_result"
    }
   ],
   "source": [
    "%%time\n",
    "saved_model.predict(X_input.iloc[0:5,:])"
   ]
  },
  {
   "cell_type": "code",
   "execution_count": null,
   "metadata": {
    "colab": {
     "base_uri": "https://localhost:8080/"
    },
    "id": "8lKxZ5-cMMxh",
    "outputId": "d37e13cd-9ba5-4cfe-f098-5da473f6b48e"
   },
   "outputs": [
    {
     "name": "stdout",
     "output_type": "stream",
     "text": [
      "0     3897\n",
      "1     7662\n",
      "2    13882\n",
      "3     6218\n",
      "4    13302\n",
      "Name: Price, dtype: int64\n"
     ]
    }
   ],
   "source": [
    "print(y_input.iloc[0:5])"
   ]
  },
  {
   "cell_type": "markdown",
   "metadata": {
    "id": "Gz35dmpGcQCG"
   },
   "source": [
    "## Saving Pipelines/ Building Prediction Pipeline"
   ]
  },
  {
   "cell_type": "code",
   "execution_count": null,
   "metadata": {
    "id": "Y2iYv-iOQYQB"
   },
   "outputs": [],
   "source": [
    "def encode_predict_input(df,encoded_dict):\n",
    "      '''\n",
    "      This function encodes categorical values with same values as training encoded values.\n",
    "      Input:\n",
    "          df : DataFrame\n",
    "          encoded_dict : Category encoded dictionary\n",
    "      returns :None\n",
    "      '''\n",
    "      encoded_cols = ['Airline', 'Source', 'Destination', 'Route']\n",
    "      frequency_dict = encoded_dict['Frequency']\n",
    "      mean_dict = encoded_dict['Mean']\n",
    "      label_dict = encoded_dict['Label']\n",
    "      for col in encoded_cols:\n",
    "          df[\"Freq_encoded_\"+col] = df[col].replace(frequency_dict[col])\n",
    "          df[\"Mean_encoded_\"+col] = df[col].replace(mean_dict[col])\n",
    "          df[\"Label_encoded_\"+col] = df[col].replace(label_dict[col])"
   ]
  },
  {
   "cell_type": "code",
   "execution_count": null,
   "metadata": {
    "id": "65TnG5w6dCUM"
   },
   "outputs": [],
   "source": [
    "def preprocess_and_predict(df,encoded_dict):\n",
    "    '''\n",
    "      This function takes in new dataframe or row of observation and generate all features\n",
    "    Input :\n",
    "        df : DataFrame or row of observation\n",
    "        encoded_dict : Dictonary created while training for Categorical Encoded Value.\n",
    "    '''\n",
    "    sanity_check(df,mode='predict')\n",
    "    handle_missing_value(df,mode='predict')\n",
    "    \n",
    "    encode_predict_input(df,encoded_dict)\n",
    "    generate_additional_features(df)\n",
    "    X = filter_predictor_columns(df)\n",
    "    return X"
   ]
  },
  {
   "cell_type": "code",
   "execution_count": null,
   "metadata": {
    "colab": {
     "base_uri": "https://localhost:8080/"
    },
    "id": "BRru8RufBWTO",
    "outputId": "8fa252b4-e0e2-4bf2-8b52-dede06a5eb56"
   },
   "outputs": [
    {
     "name": "stdout",
     "output_type": "stream",
     "text": [
      "CPU times: user 750 ms, sys: 4 µs, total: 750 ms\n",
      "Wall time: 794 ms\n"
     ]
    }
   ],
   "source": [
    "%%time\n",
    "test_df = pd.read_excel(\"/content/Airline/data/Test_set.xlsx\")"
   ]
  },
  {
   "cell_type": "code",
   "execution_count": null,
   "metadata": {
    "id": "Fgg5Rk5xBYEa"
   },
   "outputs": [],
   "source": [
    "test_df.head(10)"
   ]
  },
  {
   "cell_type": "code",
   "execution_count": null,
   "metadata": {
    "id": "1yDmoqjlBdy8"
   },
   "outputs": [],
   "source": [
    "test_input = preprocess_and_predict(test_df,encoded_dict)"
   ]
  },
  {
   "cell_type": "code",
   "execution_count": null,
   "metadata": {
    "id": "JH1A9GiCBgOY"
   },
   "outputs": [],
   "source": [
    "test_df.head(10)"
   ]
  },
  {
   "cell_type": "code",
   "execution_count": null,
   "metadata": {
    "id": "a6DW09M-Bmcb"
   },
   "outputs": [],
   "source": [
    "test_input"
   ]
  },
  {
   "cell_type": "code",
   "execution_count": null,
   "metadata": {
    "colab": {
     "base_uri": "https://localhost:8080/"
    },
    "id": "OidYKA66S-cX",
    "outputId": "07c804be-f54e-4191-957a-08053c91f72f"
   },
   "outputs": [
    {
     "name": "stdout",
     "output_type": "stream",
     "text": [
      "CPU times: user 564 ms, sys: 1.76 ms, total: 566 ms\n",
      "Wall time: 566 ms\n"
     ]
    }
   ],
   "source": [
    "%%time\n",
    "test_df = pd.read_excel(\"/content/Airline/data/Test_set.xlsx\")\n",
    "test_input = preprocess_and_predict(test_df,encoded_dict)"
   ]
  },
  {
   "cell_type": "code",
   "execution_count": null,
   "metadata": {
    "colab": {
     "base_uri": "https://localhost:8080/"
    },
    "id": "jT4t1hXZTqkM",
    "outputId": "5ec6bf3a-9713-498c-c10b-a7badf10e8e0"
   },
   "outputs": [
    {
     "name": "stdout",
     "output_type": "stream",
     "text": [
      "[3753.71473795 3548.59791429 3552.57995418 3814.62165101 2876.37702128]\n",
      "CPU times: user 50.6 ms, sys: 603 µs, total: 51.2 ms\n",
      "Wall time: 52.6 ms\n"
     ]
    },
    {
     "name": "stderr",
     "output_type": "stream",
     "text": [
      "/usr/local/lib/python3.7/dist-packages/sklearn/base.py:493: FutureWarning: The feature names should match those that were passed during fit. Starting version 1.2, an error will be raised.\n",
      "Feature names must be in the same order as they were in fit.\n",
      "\n",
      "  warnings.warn(message, FutureWarning)\n"
     ]
    }
   ],
   "source": [
    "%%time\n",
    "print(random_regressor.predict(test_input.iloc[0:5,:]))"
   ]
  },
  {
   "cell_type": "code",
   "execution_count": null,
   "metadata": {
    "colab": {
     "base_uri": "https://localhost:8080/"
    },
    "id": "X_LlotKHB5nP",
    "outputId": "87f5297f-80cc-4fd2-9ac9-6734cdcb9602"
   },
   "outputs": [
    {
     "name": "stderr",
     "output_type": "stream",
     "text": [
      "/usr/local/lib/python3.7/dist-packages/sklearn/base.py:493: FutureWarning: The feature names should match those that were passed during fit. Starting version 1.2, an error will be raised.\n",
      "Feature names must be in the same order as they were in fit.\n",
      "\n",
      "  warnings.warn(message, FutureWarning)\n"
     ]
    },
    {
     "data": {
      "text/plain": [
       "array([3753.71473795, 3548.59791429, 3552.57995418, 3814.62165101,\n",
       "       2876.37702128])"
      ]
     },
     "execution_count": 202,
     "metadata": {},
     "output_type": "execute_result"
    }
   ],
   "source": [
    "saved_model.predict(test_input.iloc[0:5,:])"
   ]
  },
  {
   "cell_type": "markdown",
   "metadata": {
    "id": "uYuuf2sGcUUv"
   },
   "source": [
    "## Saving Models and other dependencies"
   ]
  },
  {
   "cell_type": "code",
   "execution_count": null,
   "metadata": {
    "id": "Vr3t1p-vwplX"
   },
   "outputs": [],
   "source": [
    "# Store data (serialize)\n",
    "with open('encoded.pickle', 'wb') as handle:\n",
    "    pickle.dump(encoded_dict, handle, protocol=pickle.HIGHEST_PROTOCOL)"
   ]
  },
  {
   "cell_type": "code",
   "execution_count": null,
   "metadata": {
    "id": "rXht3gP6woYT"
   },
   "outputs": [],
   "source": [
    "# Load data (deserialize)\n",
    "with open('/content/Airline/model/encoded.pickle', 'rb') as handle:\n",
    "    saved_ecoding = pickle.load(handle)"
   ]
  },
  {
   "cell_type": "code",
   "execution_count": null,
   "metadata": {
    "id": "wwkuugP3LIe6"
   },
   "outputs": [],
   "source": [
    "# Store data (serialize)\n",
    "with open('model.pickle', 'wb') as handle:\n",
    "    pickle.dump(random_regressor, handle, protocol=pickle.HIGHEST_PROTOCOL)"
   ]
  },
  {
   "cell_type": "code",
   "execution_count": null,
   "metadata": {
    "id": "hFlAWJ0ZwMDa"
   },
   "outputs": [],
   "source": [
    "# Load data (deserialize)\n",
    "with open('/content/Airline/model/model.pickle', 'rb') as handle:\n",
    "    saved_model = pickle.load(handle)"
   ]
  },
  {
   "cell_type": "code",
   "execution_count": null,
   "metadata": {
    "colab": {
     "base_uri": "https://localhost:8080/"
    },
    "id": "35o_m8TJwb2l",
    "outputId": "e23114ce-8fb4-4d7e-d10a-ea073f0b9835"
   },
   "outputs": [
    {
     "name": "stdout",
     "output_type": "stream",
     "text": [
      "[11763.24539454  4267.5904709  13882.15832612 12610.25719444\n",
      "  3675.87423016]\n",
      "CPU times: user 41.1 ms, sys: 890 µs, total: 42 ms\n",
      "Wall time: 42.2 ms\n"
     ]
    }
   ],
   "source": [
    "%%time\n",
    "print(saved_model.predict(test_input.iloc[0:5,:]))"
   ]
  },
  {
   "cell_type": "markdown",
   "metadata": {
    "id": "0KhzZ2EeTelW"
   },
   "source": [
    "# Deployment and Making Predictions"
   ]
  },
  {
   "cell_type": "markdown",
   "metadata": {
    "id": "vs3wpzzcwzlr"
   },
   "source": [
    "### Building Flask Api"
   ]
  },
  {
   "cell_type": "code",
   "execution_count": null,
   "metadata": {
    "colab": {
     "base_uri": "https://localhost:8080/"
    },
    "id": "LaTO3debJWxX",
    "outputId": "ea9bd162-775d-47b6-fdc4-800c1a5b739f"
   },
   "outputs": [
    {
     "name": "stdout",
     "output_type": "stream",
     "text": [
      "Collecting flask-ngrok\n",
      "  Downloading flask_ngrok-0.0.25-py3-none-any.whl (3.1 kB)\n",
      "Requirement already satisfied: requests in /usr/local/lib/python3.7/dist-packages (from flask-ngrok) (2.23.0)\n",
      "Requirement already satisfied: Flask>=0.8 in /usr/local/lib/python3.7/dist-packages (from flask-ngrok) (1.1.4)\n",
      "Requirement already satisfied: Werkzeug<2.0,>=0.15 in /usr/local/lib/python3.7/dist-packages (from Flask>=0.8->flask-ngrok) (1.0.1)\n",
      "Requirement already satisfied: click<8.0,>=5.1 in /usr/local/lib/python3.7/dist-packages (from Flask>=0.8->flask-ngrok) (7.1.2)\n",
      "Requirement already satisfied: Jinja2<3.0,>=2.10.1 in /usr/local/lib/python3.7/dist-packages (from Flask>=0.8->flask-ngrok) (2.11.3)\n",
      "Requirement already satisfied: itsdangerous<2.0,>=0.24 in /usr/local/lib/python3.7/dist-packages (from Flask>=0.8->flask-ngrok) (1.1.0)\n",
      "Requirement already satisfied: MarkupSafe>=0.23 in /usr/local/lib/python3.7/dist-packages (from Jinja2<3.0,>=2.10.1->Flask>=0.8->flask-ngrok) (2.0.1)\n",
      "Requirement already satisfied: chardet<4,>=3.0.2 in /usr/local/lib/python3.7/dist-packages (from requests->flask-ngrok) (3.0.4)\n",
      "Requirement already satisfied: urllib3!=1.25.0,!=1.25.1,<1.26,>=1.21.1 in /usr/local/lib/python3.7/dist-packages (from requests->flask-ngrok) (1.24.3)\n",
      "Requirement already satisfied: idna<3,>=2.5 in /usr/local/lib/python3.7/dist-packages (from requests->flask-ngrok) (2.10)\n",
      "Requirement already satisfied: certifi>=2017.4.17 in /usr/local/lib/python3.7/dist-packages (from requests->flask-ngrok) (2021.10.8)\n",
      "Installing collected packages: flask-ngrok\n",
      "Successfully installed flask-ngrok-0.0.25\n"
     ]
    }
   ],
   "source": [
    "## API- Development\n",
    "!pip install flask-ngrok"
   ]
  },
  {
   "cell_type": "code",
   "execution_count": null,
   "metadata": {
    "colab": {
     "base_uri": "https://localhost:8080/"
    },
    "id": "dgmcDTpl8qa2",
    "outputId": "bf3a92fc-2b90-4c5d-f0d1-5ad924504120"
   },
   "outputs": [
    {
     "name": "stdout",
     "output_type": "stream",
     "text": [
      "Collecting pyngrok==4.1.1\n",
      "  Downloading pyngrok-4.1.1.tar.gz (18 kB)\n",
      "Requirement already satisfied: future in /usr/local/lib/python3.7/dist-packages (from pyngrok==4.1.1) (0.16.0)\n",
      "Requirement already satisfied: PyYAML in /usr/local/lib/python3.7/dist-packages (from pyngrok==4.1.1) (3.13)\n",
      "Building wheels for collected packages: pyngrok\n",
      "  Building wheel for pyngrok (setup.py) ... \u001b[?25l\u001b[?25hdone\n",
      "  Created wheel for pyngrok: filename=pyngrok-4.1.1-py3-none-any.whl size=15983 sha256=473c0bc3fd2e8932e3fe072e87c65ca42f72173a7c43a144fcd8a3e7839b4eb7\n",
      "  Stored in directory: /root/.cache/pip/wheels/b1/d9/12/045a042fee3127dc40ba6f5df2798aa2df38c414bf533ca765\n",
      "Successfully built pyngrok\n",
      "Installing collected packages: pyngrok\n",
      "Successfully installed pyngrok-4.1.1\n"
     ]
    }
   ],
   "source": [
    "!pip install pyngrok==4.1.1"
   ]
  },
  {
   "cell_type": "code",
   "execution_count": null,
   "metadata": {
    "colab": {
     "base_uri": "https://localhost:8080/"
    },
    "id": "ALy8xjPD-YgZ",
    "outputId": "bac49ee0-6876-4867-d678-44419f2f6532"
   },
   "outputs": [
    {
     "name": "stdout",
     "output_type": "stream",
     "text": [
      "Authtoken saved to configuration file: /root/.ngrok2/ngrok.yml\n"
     ]
    }
   ],
   "source": [
    "!ngrok authtoken 1WFc9kEXsO0ePPMxP2B0ickiTfn_shWke1zX6gQPRVGoZkuJ"
   ]
  },
  {
   "cell_type": "code",
   "execution_count": null,
   "metadata": {
    "id": "4yD_pWeVDPH_"
   },
   "outputs": [],
   "source": [
    "df = pd.read_excel(\"/content/Airline/data/Test_set.xlsx\")\n",
    "df.to_json(\"data/df_to_json_convert.json\",orient=\"records\",lines=True)"
   ]
  },
  {
   "cell_type": "code",
   "execution_count": null,
   "metadata": {
    "colab": {
     "base_uri": "https://localhost:8080/"
    },
    "id": "SQxstrt_CNM-",
    "outputId": "f42bd0e0-91c8-4d74-8e24-2980a2ba18de"
   },
   "outputs": [
    {
     "name": "stdout",
     "output_type": "stream",
     "text": [
      "--------------------------------------------------------------------------------\n",
      "       Airline Date_of_Journey Source Destination            Route Dep_Time  \\\n",
      "0  Jet Airways       6/06/2019  Delhi      Cochin  DEL → BOM → COK    17:30   \n",
      "\n",
      "   Arrival_Time Duration Total_Stops Additional_Info  \n",
      "0  04:25 07 Jun  10h 55m      1 stop         No info  \n"
     ]
    }
   ],
   "source": [
    "json_data = {\"Airline\":\"Jet Airways\",\"Date_of_Journey\":\"6/06/2019\",\"Source\":\"Delhi\",\"Destination\":\"Cochin\",\"Route\":\"DEL \\u2192 BOM \\u2192 COK\",\"Dep_Time\":\"17:30\",\"Arrival_Time\":\"04:25 07 Jun\",\"Duration\":\"10h 55m\",\"Total_Stops\":\"1 stop\",\"Additional_Info\":\"No info\"}\n",
    "# {\"Airline\":\"Jet Airways\",\"Date_of_Journey\":\"6\\/06\\/2019\",\"Source\":\"Delhi\",\"Destination\":\"Cochin\",\"Route\":\"DEL \\u2192 BOM \\u2192 COK\",\"Dep_Time\":\"17:30\",\"Arrival_Time\":\"04:25 07 Jun\",\"Duration\":\"10h 55m\",\"Total_Stops\":\"1 stop\",\"Additional_Info\":\"No info\"}\n",
    "# Convert json data to dataframe\n",
    "df_record = pd.DataFrame.from_dict(pd.json_normalize(json_data), orient='columns')\n",
    "print(\"-\"*80)\n",
    "print(df_record)"
   ]
  },
  {
   "cell_type": "code",
   "execution_count": null,
   "metadata": {
    "colab": {
     "base_uri": "https://localhost:8080/"
    },
    "id": "ad2E4C7oCfdi",
    "outputId": "6fcfb682-c046-4aff-a776-f9fdf8b9dc4b"
   },
   "outputs": [
    {
     "name": "stdout",
     "output_type": "stream",
     "text": [
      "--------------------------------------------------------------------------------\n",
      "   Duration  Total_Stops  Label_encoded_Airline  Label_encoded_Source  \\\n",
      "0       655            1                      4                     2   \n",
      "\n",
      "   Label_encoded_Destination  Label_encoded_Route  Freq_encoded_Airline  \\\n",
      "0                          1                  104              0.353661   \n",
      "\n",
      "   Freq_encoded_Source  Freq_encoded_Destination  Freq_encoded_Route  \\\n",
      "0             0.415313                  0.415313            0.227108   \n",
      "\n",
      "   Mean_encoded_Airline  Mean_encoded_Source  Mean_encoded_Destination  \\\n",
      "0          11599.021081          10461.60069               10461.60069   \n",
      "\n",
      "   Mean_encoded_Route  day_of_week  day_of_month  weekday  month  dep_hour  \n",
      "0        10954.205808            3             6        1      6        17  \n",
      "--------------------------------------------------------------------------------\n"
     ]
    }
   ],
   "source": [
    "# Pre-process and make prediction using model loaded from disk as per the data.\n",
    "data = preprocess_and_predict(df_record,encoded_dict)\n",
    "print(\"-\"*80)\n",
    "print(data)\n",
    "print(\"-\"*80)"
   ]
  },
  {
   "cell_type": "code",
   "execution_count": null,
   "metadata": {
    "colab": {
     "base_uri": "https://localhost:8080/"
    },
    "id": "KdDhK_GGClQ7",
    "outputId": "20bfa069-c4e4-44e6-cfb7-54dca1888ed7"
   },
   "outputs": [
    {
     "name": "stderr",
     "output_type": "stream",
     "text": [
      "/usr/local/lib/python3.7/dist-packages/sklearn/base.py:493: FutureWarning: The feature names should match those that were passed during fit. Starting version 1.2, an error will be raised.\n",
      "Feature names must be in the same order as they were in fit.\n",
      "\n",
      "  warnings.warn(message, FutureWarning)\n"
     ]
    }
   ],
   "source": [
    "prediction = saved_model.predict(data)"
   ]
  },
  {
   "cell_type": "code",
   "execution_count": null,
   "metadata": {
    "colab": {
     "base_uri": "https://localhost:8080/"
    },
    "id": "5KL-p0aeCNQE",
    "outputId": "5df4d918-d41e-44b4-e253-2d540be8fd96"
   },
   "outputs": [
    {
     "data": {
      "text/plain": [
       "array([3753.71473795])"
      ]
     },
     "execution_count": 214,
     "metadata": {},
     "output_type": "execute_result"
    }
   ],
   "source": [
    "prediction"
   ]
  },
  {
   "cell_type": "code",
   "execution_count": null,
   "metadata": {
    "colab": {
     "base_uri": "https://localhost:8080/"
    },
    "id": "cKIxE7_yGDrk",
    "outputId": "a84f4123-4da5-4a02-b722-97575a2bcac2"
   },
   "outputs": [
    {
     "data": {
      "text/plain": [
       "3753.7147379509356"
      ]
     },
     "execution_count": 215,
     "metadata": {},
     "output_type": "execute_result"
    }
   ],
   "source": [
    "prediction[0]"
   ]
  },
  {
   "cell_type": "code",
   "execution_count": null,
   "metadata": {
    "id": "uxfhTxCFJW06"
   },
   "outputs": [],
   "source": [
    "from flask import Flask, json, request, jsonify\n",
    "from flask_ngrok import run_with_ngrok\n",
    "import os\n",
    "import urllib.request\n",
    "from werkzeug.utils import secure_filename\n",
    "\n",
    "app = Flask(__name__)\n",
    "run_with_ngrok(app)\n",
    "app.secret_key = \"caircocoders-ednalan\"\n",
    "\n",
    "model = saved_model\n",
    "encoded_dict\n",
    "\n",
    "\n",
    "@app.route('/api', methods=['POST','GET'])\n",
    "def predict():\n",
    "    # Get the data from the POST request.\n",
    "    json_data = request.get_json(force=True)\n",
    "\n",
    "    # Convert json data to dataframe\n",
    "    df = pd.DataFrame.from_dict(pd.json_normalize(json_data), orient='columns')\n",
    "    print(\"-\"*80)\n",
    "    print(df)\n",
    "\n",
    "    # Pre-process and make prediction using model loaded from disk as per the data.\n",
    "    data = preprocess_and_predict(df,encoded_dict)\n",
    "    print(\"-\"*80)\n",
    "    print(data)\n",
    "    print(\"-\"*80)\n",
    " \n",
    "    prediction = model.predict(data)\n",
    "\n",
    "\n",
    "    # Take the first value of prediction\n",
    "    output = prediction[0]\n",
    "    print(\"price : \",output)\n",
    "    return jsonify(output)\n",
    "\n",
    "@app.route(\"/\", methods=['POST','GET'])\n",
    "def root():\n",
    "    return 'This is the flight Price Prediction Application!'"
   ]
  },
  {
   "cell_type": "code",
   "execution_count": null,
   "metadata": {
    "colab": {
     "base_uri": "https://localhost:8080/"
    },
    "id": "8VJPnhf80OPX",
    "outputId": "bd0de03c-07cf-4a68-86a3-e82b20eed36d"
   },
   "outputs": [
    {
     "name": "stdout",
     "output_type": "stream",
     "text": [
      " * Serving Flask app \"__main__\" (lazy loading)\n",
      " * Environment: production\n",
      "\u001b[31m   WARNING: This is a development server. Do not use it in a production deployment.\u001b[0m\n",
      "\u001b[2m   Use a production WSGI server instead.\u001b[0m\n",
      " * Debug mode: off\n"
     ]
    },
    {
     "name": "stderr",
     "output_type": "stream",
     "text": [
      " * Running on http://127.0.0.1:5000/ (Press CTRL+C to quit)\n"
     ]
    },
    {
     "name": "stdout",
     "output_type": "stream",
     "text": [
      " * Running on http://6a1e-35-229-87-228.ngrok.io\n",
      " * Traffic stats available on http://127.0.0.1:4040\n"
     ]
    },
    {
     "name": "stderr",
     "output_type": "stream",
     "text": [
      "127.0.0.1 - - [21/May/2022 05:34:20] \"\u001b[37mPOST / HTTP/1.1\u001b[0m\" 200 -\n",
      "127.0.0.1 - - [21/May/2022 05:34:26] \"\u001b[37mPOST /%0A HTTP/1.1\u001b[0m\" 200 -\n",
      "127.0.0.1 - - [21/May/2022 05:34:39] \"\u001b[33mPOST /%0A%0A HTTP/1.1\u001b[0m\" 404 -\n",
      "127.0.0.1 - - [21/May/2022 05:35:04] \"\u001b[37mGET / HTTP/1.1\u001b[0m\" 200 -\n",
      "127.0.0.1 - - [21/May/2022 05:35:05] \"\u001b[33mPOST /%0A%0A HTTP/1.1\u001b[0m\" 404 -\n",
      "127.0.0.1 - - [21/May/2022 05:35:06] \"\u001b[37mGET / HTTP/1.1\u001b[0m\" 200 -\n",
      "127.0.0.1 - - [21/May/2022 05:35:18] \"\u001b[37mGET / HTTP/1.1\u001b[0m\" 200 -\n",
      "127.0.0.1 - - [21/May/2022 05:35:18] \"\u001b[37mGET / HTTP/1.1\u001b[0m\" 200 -\n",
      "127.0.0.1 - - [21/May/2022 05:35:18] \"\u001b[33mGET /favicon.ico HTTP/1.1\u001b[0m\" 404 -\n",
      "127.0.0.1 - - [21/May/2022 05:35:19] \"\u001b[33mGET /favicon.ico HTTP/1.1\u001b[0m\" 404 -\n",
      "127.0.0.1 - - [21/May/2022 05:35:32] \"\u001b[33mPOST /%0A%0A HTTP/1.1\u001b[0m\" 404 -\n",
      "127.0.0.1 - - [21/May/2022 05:35:33] \"\u001b[37mGET / HTTP/1.1\u001b[0m\" 200 -\n",
      "127.0.0.1 - - [21/May/2022 05:35:33] \"\u001b[33mGET /favicon.ico HTTP/1.1\u001b[0m\" 404 -\n",
      "127.0.0.1 - - [21/May/2022 05:36:06] \"\u001b[37mPOST / HTTP/1.1\u001b[0m\" 200 -\n",
      "127.0.0.1 - - [21/May/2022 05:36:35] \"\u001b[37mGET / HTTP/1.1\u001b[0m\" 200 -\n",
      "127.0.0.1 - - [21/May/2022 05:36:35] \"\u001b[37mPOST /%0A HTTP/1.1\u001b[0m\" 200 -\n",
      "/usr/local/lib/python3.7/dist-packages/sklearn/base.py:493: FutureWarning: The feature names should match those that were passed during fit. Starting version 1.2, an error will be raised.\n",
      "Feature names must be in the same order as they were in fit.\n",
      "\n",
      "  warnings.warn(message, FutureWarning)\n",
      "127.0.0.1 - - [21/May/2022 05:37:34] \"\u001b[37mPOST /api HTTP/1.1\u001b[0m\" 200 -\n"
     ]
    },
    {
     "name": "stdout",
     "output_type": "stream",
     "text": [
      "--------------------------------------------------------------------------------\n",
      "       Airline Date_of_Journey Source Destination            Route Dep_Time  \\\n",
      "0  Jet Airways       6/06/2019  Delhi      Cochin  DEL → BOM → COK    17:30   \n",
      "\n",
      "   Arrival_Time Duration Total_Stops Additional_Info  \n",
      "0  04:25 07 Jun  10h 55m      1 stop         No info  \n",
      "--------------------------------------------------------------------------------\n",
      "   Duration  Total_Stops  Label_encoded_Airline  Label_encoded_Source  \\\n",
      "0       655            1                      4                     2   \n",
      "\n",
      "   Label_encoded_Destination  Label_encoded_Route  Freq_encoded_Airline  \\\n",
      "0                          1                  104              0.353661   \n",
      "\n",
      "   Freq_encoded_Source  Freq_encoded_Destination  Freq_encoded_Route  \\\n",
      "0             0.415313                  0.415313            0.227108   \n",
      "\n",
      "   Mean_encoded_Airline  Mean_encoded_Source  Mean_encoded_Destination  \\\n",
      "0          11599.021081          10461.60069               10461.60069   \n",
      "\n",
      "   Mean_encoded_Route  day_of_week  day_of_month  weekday  month  dep_hour  \n",
      "0        10954.205808            3             6        1      6        17  \n",
      "--------------------------------------------------------------------------------\n",
      "price :  3753.7147379509356\n"
     ]
    },
    {
     "name": "stderr",
     "output_type": "stream",
     "text": [
      "[2022-05-21 05:38:10,191] ERROR in app: Exception on /api [POST]\n",
      "Traceback (most recent call last):\n",
      "  File \"/usr/local/lib/python3.7/dist-packages/pandas/core/indexes/base.py\", line 3361, in get_loc\n",
      "    return self._engine.get_loc(casted_key)\n",
      "  File \"pandas/_libs/index.pyx\", line 76, in pandas._libs.index.IndexEngine.get_loc\n",
      "  File \"pandas/_libs/index.pyx\", line 108, in pandas._libs.index.IndexEngine.get_loc\n",
      "  File \"pandas/_libs/hashtable_class_helper.pxi\", line 5198, in pandas._libs.hashtable.PyObjectHashTable.get_item\n",
      "  File \"pandas/_libs/hashtable_class_helper.pxi\", line 5206, in pandas._libs.hashtable.PyObjectHashTable.get_item\n",
      "KeyError: 'Date_of_Journey'\n",
      "\n",
      "The above exception was the direct cause of the following exception:\n",
      "\n",
      "Traceback (most recent call last):\n",
      "  File \"/usr/local/lib/python3.7/dist-packages/flask/app.py\", line 2447, in wsgi_app\n",
      "    response = self.full_dispatch_request()\n",
      "  File \"/usr/local/lib/python3.7/dist-packages/flask/app.py\", line 1952, in full_dispatch_request\n",
      "    rv = self.handle_user_exception(e)\n",
      "  File \"/usr/local/lib/python3.7/dist-packages/flask/app.py\", line 1821, in handle_user_exception\n",
      "    reraise(exc_type, exc_value, tb)\n",
      "  File \"/usr/local/lib/python3.7/dist-packages/flask/_compat.py\", line 39, in reraise\n",
      "    raise value\n",
      "  File \"/usr/local/lib/python3.7/dist-packages/flask/app.py\", line 1950, in full_dispatch_request\n",
      "    rv = self.dispatch_request()\n",
      "  File \"/usr/local/lib/python3.7/dist-packages/flask/app.py\", line 1936, in dispatch_request\n",
      "    return self.view_functions[rule.endpoint](**req.view_args)\n",
      "  File \"<ipython-input-218-134dfc7071bf>\", line 26, in predict\n",
      "    data = preprocess_and_predict(df,encoded_dict)\n",
      "  File \"<ipython-input-192-da4d7e2f6974>\", line 8, in preprocess_and_predict\n",
      "    sanity_check(df,mode='predict')\n",
      "  File \"<ipython-input-43-bd7e079ebe02>\", line 15, in sanity_check\n",
      "    df['Date_of_Journey'] = pd.to_datetime(df['Date_of_Journey'])\n",
      "  File \"/usr/local/lib/python3.7/dist-packages/pandas/core/frame.py\", line 3458, in __getitem__\n",
      "    indexer = self.columns.get_loc(key)\n",
      "  File \"/usr/local/lib/python3.7/dist-packages/pandas/core/indexes/base.py\", line 3363, in get_loc\n",
      "    raise KeyError(key) from err\n",
      "KeyError: 'Date_of_Journey'\n",
      "127.0.0.1 - - [21/May/2022 05:38:10] \"\u001b[35m\u001b[1mPOST /api HTTP/1.1\u001b[0m\" 500 -\n"
     ]
    },
    {
     "name": "stdout",
     "output_type": "stream",
     "text": [
      "--------------------------------------------------------------------------------\n",
      "                                               query\n",
      "0  \\n    query IntrospectionQuery {\\n      __sche...\n"
     ]
    },
    {
     "name": "stderr",
     "output_type": "stream",
     "text": [
      "/usr/local/lib/python3.7/dist-packages/sklearn/base.py:493: FutureWarning: The feature names should match those that were passed during fit. Starting version 1.2, an error will be raised.\n",
      "Feature names must be in the same order as they were in fit.\n",
      "\n",
      "  warnings.warn(message, FutureWarning)\n",
      "127.0.0.1 - - [21/May/2022 05:38:11] \"\u001b[37mPOST /api HTTP/1.1\u001b[0m\" 200 -\n"
     ]
    },
    {
     "name": "stdout",
     "output_type": "stream",
     "text": [
      "--------------------------------------------------------------------------------\n",
      "       Airline Date_of_Journey Source Destination                  Route  \\\n",
      "0  Jet Airways      21/03/2019  Delhi      Cochin  DEL → MAA → BOM → COK   \n",
      "\n",
      "  Dep_Time  Arrival_Time Duration Total_Stops              Additional_Info  \n",
      "0    13:55  18:50 22 Mar  28h 55m     2 stops  In-flight meal not included  \n",
      "--------------------------------------------------------------------------------\n",
      "   Duration  Total_Stops  Label_encoded_Airline  Label_encoded_Source  \\\n",
      "0      1735            2                      4                     2   \n",
      "\n",
      "   Label_encoded_Destination  Label_encoded_Route  Freq_encoded_Airline  \\\n",
      "0                          1                  120              0.353661   \n",
      "\n",
      "   Freq_encoded_Source  Freq_encoded_Destination  Freq_encoded_Route  \\\n",
      "0             0.415313                  0.415313            0.001051   \n",
      "\n",
      "   Mean_encoded_Airline  Mean_encoded_Source  Mean_encoded_Destination  \\\n",
      "0          11599.021081          10461.60069               10461.60069   \n",
      "\n",
      "   Mean_encoded_Route  day_of_week  day_of_month  weekday  month  dep_hour  \n",
      "0         9161.636364            3            21        1      3        13  \n",
      "--------------------------------------------------------------------------------\n",
      "price :  3590.6050912698415\n"
     ]
    },
    {
     "name": "stderr",
     "output_type": "stream",
     "text": [
      "127.0.0.1 - - [21/May/2022 05:38:16] \"\u001b[37mPOST / HTTP/1.1\u001b[0m\" 200 -\n",
      "/usr/local/lib/python3.7/dist-packages/sklearn/base.py:493: FutureWarning: The feature names should match those that were passed during fit. Starting version 1.2, an error will be raised.\n",
      "Feature names must be in the same order as they were in fit.\n",
      "\n",
      "  warnings.warn(message, FutureWarning)\n",
      "127.0.0.1 - - [21/May/2022 05:38:45] \"\u001b[37mPOST /api HTTP/1.1\u001b[0m\" 200 -\n"
     ]
    },
    {
     "name": "stdout",
     "output_type": "stream",
     "text": [
      "--------------------------------------------------------------------------------\n",
      "       Airline Date_of_Journey Source Destination            Route Dep_Time  \\\n",
      "0  Jet Airways       6/06/2019  Delhi      Cochin  DEL → BOM → COK    17:30   \n",
      "\n",
      "   Arrival_Time Duration Total_Stops Additional_Info  \n",
      "0  04:25 07 Jun  10h 55m      1 stop         No info  \n",
      "--------------------------------------------------------------------------------\n",
      "   Duration  Total_Stops  Label_encoded_Airline  Label_encoded_Source  \\\n",
      "0       655            1                      4                     2   \n",
      "\n",
      "   Label_encoded_Destination  Label_encoded_Route  Freq_encoded_Airline  \\\n",
      "0                          1                  104              0.353661   \n",
      "\n",
      "   Freq_encoded_Source  Freq_encoded_Destination  Freq_encoded_Route  \\\n",
      "0             0.415313                  0.415313            0.227108   \n",
      "\n",
      "   Mean_encoded_Airline  Mean_encoded_Source  Mean_encoded_Destination  \\\n",
      "0          11599.021081          10461.60069               10461.60069   \n",
      "\n",
      "   Mean_encoded_Route  day_of_week  day_of_month  weekday  month  dep_hour  \n",
      "0        10954.205808            3             6        1      6        17  \n",
      "--------------------------------------------------------------------------------\n",
      "price :  3753.7147379509356\n"
     ]
    },
    {
     "name": "stderr",
     "output_type": "stream",
     "text": [
      "/usr/local/lib/python3.7/dist-packages/sklearn/base.py:493: FutureWarning: The feature names should match those that were passed during fit. Starting version 1.2, an error will be raised.\n",
      "Feature names must be in the same order as they were in fit.\n",
      "\n",
      "  warnings.warn(message, FutureWarning)\n",
      "127.0.0.1 - - [21/May/2022 05:38:55] \"\u001b[37mPOST /api HTTP/1.1\u001b[0m\" 200 -\n"
     ]
    },
    {
     "name": "stdout",
     "output_type": "stream",
     "text": [
      "--------------------------------------------------------------------------------\n",
      "       Airline Date_of_Journey Source Destination            Route Dep_Time  \\\n",
      "0  Jet Airways       6/06/2019  Delhi      Cochin  DEL → BOM → COK    17:30   \n",
      "\n",
      "   Arrival_Time Duration Total_Stops Additional_Info  \n",
      "0  04:25 07 Jun  10h 55m      1 stop         No info  \n",
      "--------------------------------------------------------------------------------\n",
      "   Duration  Total_Stops  Label_encoded_Airline  Label_encoded_Source  \\\n",
      "0       655            1                      4                     2   \n",
      "\n",
      "   Label_encoded_Destination  Label_encoded_Route  Freq_encoded_Airline  \\\n",
      "0                          1                  104              0.353661   \n",
      "\n",
      "   Freq_encoded_Source  Freq_encoded_Destination  Freq_encoded_Route  \\\n",
      "0             0.415313                  0.415313            0.227108   \n",
      "\n",
      "   Mean_encoded_Airline  Mean_encoded_Source  Mean_encoded_Destination  \\\n",
      "0          11599.021081          10461.60069               10461.60069   \n",
      "\n",
      "   Mean_encoded_Route  day_of_week  day_of_month  weekday  month  dep_hour  \n",
      "0        10954.205808            3             6        1      6        17  \n",
      "--------------------------------------------------------------------------------\n",
      "price :  3753.7147379509356\n"
     ]
    },
    {
     "name": "stderr",
     "output_type": "stream",
     "text": [
      "/usr/local/lib/python3.7/dist-packages/sklearn/base.py:493: FutureWarning: The feature names should match those that were passed during fit. Starting version 1.2, an error will be raised.\n",
      "Feature names must be in the same order as they were in fit.\n",
      "\n",
      "  warnings.warn(message, FutureWarning)\n",
      "127.0.0.1 - - [21/May/2022 05:39:12] \"\u001b[37mPOST /api%0A HTTP/1.1\u001b[0m\" 200 -\n"
     ]
    },
    {
     "name": "stdout",
     "output_type": "stream",
     "text": [
      "--------------------------------------------------------------------------------\n",
      "       Airline Date_of_Journey Source Destination            Route Dep_Time  \\\n",
      "0  Jet Airways       6/06/2019  Delhi      Cochin  DEL → BOM → COK    17:30   \n",
      "\n",
      "   Arrival_Time Duration Total_Stops Additional_Info  \n",
      "0  04:25 07 Jun  10h 55m      1 stop         No info  \n",
      "--------------------------------------------------------------------------------\n",
      "   Duration  Total_Stops  Label_encoded_Airline  Label_encoded_Source  \\\n",
      "0       655            1                      4                     2   \n",
      "\n",
      "   Label_encoded_Destination  Label_encoded_Route  Freq_encoded_Airline  \\\n",
      "0                          1                  104              0.353661   \n",
      "\n",
      "   Freq_encoded_Source  Freq_encoded_Destination  Freq_encoded_Route  \\\n",
      "0             0.415313                  0.415313            0.227108   \n",
      "\n",
      "   Mean_encoded_Airline  Mean_encoded_Source  Mean_encoded_Destination  \\\n",
      "0          11599.021081          10461.60069               10461.60069   \n",
      "\n",
      "   Mean_encoded_Route  day_of_week  day_of_month  weekday  month  dep_hour  \n",
      "0        10954.205808            3             6        1      6        17  \n",
      "--------------------------------------------------------------------------------\n",
      "price :  3753.7147379509356\n"
     ]
    },
    {
     "name": "stderr",
     "output_type": "stream",
     "text": [
      "127.0.0.1 - - [21/May/2022 05:39:34] \"\u001b[31m\u001b[1mGET /api HTTP/1.1\u001b[0m\" 400 -\n",
      "127.0.0.1 - - [21/May/2022 05:39:34] \"\u001b[33mGET /favicon.ico HTTP/1.1\u001b[0m\" 404 -\n",
      "127.0.0.1 - - [21/May/2022 05:40:31] \"\u001b[31m\u001b[1mGET /api%0A?{%22Airline%22:%22Jet%20Airways%22,%22Date_of_Journey%22:%226\\/06\\/2019%22,%22Source%22:%22Delhi%22,%22Destination%22:%22Cochin%22,%22Route%22:%22DEL%20\\u2192%20BOM%20\\u2192%20COK%22,%22Dep_Time%22:%2217:30%22,%22Arrival_Time%22:%2204:25%2007%20Jun%22,%22Duration%22:%2210h%2055m%22,%22Total_Stops%22:%221%20stop%22,%22Additional_Info%22:%22No%20info%22}%0A{%22Airline%22:%22IndiGo%22,%22Date_of_Journey%22:%2212\\/05\\/2019%22,%22Source%22:%22Kolkata%22,%22Destination%22:%22Banglore%22,%22Route%22:%22CCU%20\\u2192%20MAA%20\\u2192%20BLR%22,%22Dep_Time%22:%2206:20%22,%22Arrival_Time%22:%2210:20%22,%22Duration%22:%224h%22,%22Total_Stops%22:%221%20stop%22,%22Additional_Info%22:%22No%20info%22}%0A{%22Airline%22:%22Jet%20Airways%22,%22Date_of_Journey%22:%2221\\/05\\/2019%22,%22Source%22:%22Delhi%22,%22Destination%22:%22Cochin%22,%22Route%22:%22DEL%20\\u2192%20BOM%20\\u2192%20COK%22,%22Dep_Time%22:%2219:15%22,%22Arrival_Time%22:%2219:00%2022%20May%22,%22Duration%22:%2223h%2045m%22,%22Total_Stops%22:%221%20stop%22,%22Additional_Info%22:%22In-flight%20meal%20not%20included%22}%0A{%22Airline%22:%22Multiple%20carriers%22,%22Date_of_Journey%22:%2221\\/05\\/2019%22,%22Source%22:%22Delhi%22,%22Destination%22:%22Cochin%22,%22Route%22:%22DEL%20\\u2192%20BOM%20\\u2192%20COK%22,%22Dep_Time%22:%2208:00%22,%22Arrival_Time%22:%2221:00%22,%22Duration%22:%2213h%22,%22Total_Stops%22:%221%20stop%22,%22Additional_Info%22:%22No%20info%22}%0A HTTP/1.1\u001b[0m\" 400 -\n",
      "127.0.0.1 - - [21/May/2022 05:40:31] \"\u001b[31m\u001b[1mPOST /api HTTP/1.1\u001b[0m\" 400 -\n",
      "/usr/local/lib/python3.7/dist-packages/sklearn/base.py:493: FutureWarning: The feature names should match those that were passed during fit. Starting version 1.2, an error will be raised.\n",
      "Feature names must be in the same order as they were in fit.\n",
      "\n",
      "  warnings.warn(message, FutureWarning)\n",
      "127.0.0.1 - - [21/May/2022 05:40:59] \"\u001b[37mPOST /api HTTP/1.1\u001b[0m\" 200 -\n"
     ]
    },
    {
     "name": "stdout",
     "output_type": "stream",
     "text": [
      "--------------------------------------------------------------------------------\n",
      "       Airline Date_of_Journey Source Destination            Route Dep_Time  \\\n",
      "0  Jet Airways       6/06/2019  Delhi      Cochin  DEL → BOM → COK    17:30   \n",
      "\n",
      "   Arrival_Time Duration Total_Stops Additional_Info  \n",
      "0  04:25 07 Jun  10h 55m      1 stop         No info  \n",
      "--------------------------------------------------------------------------------\n",
      "   Duration  Total_Stops  Label_encoded_Airline  Label_encoded_Source  \\\n",
      "0       655            1                      4                     2   \n",
      "\n",
      "   Label_encoded_Destination  Label_encoded_Route  Freq_encoded_Airline  \\\n",
      "0                          1                  104              0.353661   \n",
      "\n",
      "   Freq_encoded_Source  Freq_encoded_Destination  Freq_encoded_Route  \\\n",
      "0             0.415313                  0.415313            0.227108   \n",
      "\n",
      "   Mean_encoded_Airline  Mean_encoded_Source  Mean_encoded_Destination  \\\n",
      "0          11599.021081          10461.60069               10461.60069   \n",
      "\n",
      "   Mean_encoded_Route  day_of_week  day_of_month  weekday  month  dep_hour  \n",
      "0        10954.205808            3             6        1      6        17  \n",
      "--------------------------------------------------------------------------------\n",
      "price :  3753.7147379509356\n"
     ]
    },
    {
     "name": "stderr",
     "output_type": "stream",
     "text": [
      "/usr/local/lib/python3.7/dist-packages/sklearn/base.py:493: FutureWarning: The feature names should match those that were passed during fit. Starting version 1.2, an error will be raised.\n",
      "Feature names must be in the same order as they were in fit.\n",
      "\n",
      "  warnings.warn(message, FutureWarning)\n",
      "127.0.0.1 - - [21/May/2022 05:41:10] \"\u001b[37mPOST /api%0A HTTP/1.1\u001b[0m\" 200 -\n"
     ]
    },
    {
     "name": "stdout",
     "output_type": "stream",
     "text": [
      "--------------------------------------------------------------------------------\n",
      "       Airline Date_of_Journey Source Destination            Route Dep_Time  \\\n",
      "0  Jet Airways       6/06/2019  Delhi      Cochin  DEL → BOM → COK    17:30   \n",
      "\n",
      "   Arrival_Time Duration Total_Stops Additional_Info  \n",
      "0  04:25 07 Jun  10h 55m      1 stop         No info  \n",
      "--------------------------------------------------------------------------------\n",
      "   Duration  Total_Stops  Label_encoded_Airline  Label_encoded_Source  \\\n",
      "0       655            1                      4                     2   \n",
      "\n",
      "   Label_encoded_Destination  Label_encoded_Route  Freq_encoded_Airline  \\\n",
      "0                          1                  104              0.353661   \n",
      "\n",
      "   Freq_encoded_Source  Freq_encoded_Destination  Freq_encoded_Route  \\\n",
      "0             0.415313                  0.415313            0.227108   \n",
      "\n",
      "   Mean_encoded_Airline  Mean_encoded_Source  Mean_encoded_Destination  \\\n",
      "0          11599.021081          10461.60069               10461.60069   \n",
      "\n",
      "   Mean_encoded_Route  day_of_week  day_of_month  weekday  month  dep_hour  \n",
      "0        10954.205808            3             6        1      6        17  \n",
      "--------------------------------------------------------------------------------\n",
      "price :  3753.7147379509356\n"
     ]
    },
    {
     "name": "stderr",
     "output_type": "stream",
     "text": [
      "127.0.0.1 - - [21/May/2022 05:41:50] \"\u001b[31m\u001b[1mPOST /api HTTP/1.1\u001b[0m\" 400 -\n",
      "/usr/local/lib/python3.7/dist-packages/sklearn/base.py:493: FutureWarning: The feature names should match those that were passed during fit. Starting version 1.2, an error will be raised.\n",
      "Feature names must be in the same order as they were in fit.\n",
      "\n",
      "  warnings.warn(message, FutureWarning)\n",
      "127.0.0.1 - - [21/May/2022 05:42:11] \"\u001b[37mPOST /api%0A HTTP/1.1\u001b[0m\" 200 -\n"
     ]
    },
    {
     "name": "stdout",
     "output_type": "stream",
     "text": [
      "--------------------------------------------------------------------------------\n",
      "       Airline Date_of_Journey Source Destination            Route Dep_Time  \\\n",
      "0  Jet Airways       6/06/2019  Delhi      Cochin  DEL → BOM → COK    17:30   \n",
      "\n",
      "   Arrival_Time Duration Total_Stops Additional_Info  \n",
      "0  04:25 07 Jun  10h 55m      1 stop         No info  \n",
      "--------------------------------------------------------------------------------\n",
      "   Duration  Total_Stops  Label_encoded_Airline  Label_encoded_Source  \\\n",
      "0       655            1                      4                     2   \n",
      "\n",
      "   Label_encoded_Destination  Label_encoded_Route  Freq_encoded_Airline  \\\n",
      "0                          1                  104              0.353661   \n",
      "\n",
      "   Freq_encoded_Source  Freq_encoded_Destination  Freq_encoded_Route  \\\n",
      "0             0.415313                  0.415313            0.227108   \n",
      "\n",
      "   Mean_encoded_Airline  Mean_encoded_Source  Mean_encoded_Destination  \\\n",
      "0          11599.021081          10461.60069               10461.60069   \n",
      "\n",
      "   Mean_encoded_Route  day_of_week  day_of_month  weekday  month  dep_hour  \n",
      "0        10954.205808            3             6        1      6        17  \n",
      "--------------------------------------------------------------------------------\n",
      "price :  3753.7147379509356\n"
     ]
    },
    {
     "name": "stderr",
     "output_type": "stream",
     "text": [
      "127.0.0.1 - - [21/May/2022 05:42:36] \"\u001b[37mGET / HTTP/1.1\u001b[0m\" 200 -\n",
      "127.0.0.1 - - [21/May/2022 05:42:45] \"\u001b[37mGET / HTTP/1.1\u001b[0m\" 200 -\n",
      "/usr/local/lib/python3.7/dist-packages/sklearn/base.py:493: FutureWarning: The feature names should match those that were passed during fit. Starting version 1.2, an error will be raised.\n",
      "Feature names must be in the same order as they were in fit.\n",
      "\n",
      "  warnings.warn(message, FutureWarning)\n",
      "127.0.0.1 - - [21/May/2022 05:42:47] \"\u001b[37mPOST /api%0A HTTP/1.1\u001b[0m\" 200 -\n"
     ]
    },
    {
     "name": "stdout",
     "output_type": "stream",
     "text": [
      "--------------------------------------------------------------------------------\n",
      "       Airline Date_of_Journey Source Destination            Route Dep_Time  \\\n",
      "0  Jet Airways       6/06/2019  Delhi      Cochin  DEL → BOM → COK    17:30   \n",
      "\n",
      "   Arrival_Time Duration Total_Stops Additional_Info  \n",
      "0  04:25 07 Jun  10h 55m      1 stop         No info  \n",
      "--------------------------------------------------------------------------------\n",
      "   Duration  Total_Stops  Label_encoded_Airline  Label_encoded_Source  \\\n",
      "0       655            1                      4                     2   \n",
      "\n",
      "   Label_encoded_Destination  Label_encoded_Route  Freq_encoded_Airline  \\\n",
      "0                          1                  104              0.353661   \n",
      "\n",
      "   Freq_encoded_Source  Freq_encoded_Destination  Freq_encoded_Route  \\\n",
      "0             0.415313                  0.415313            0.227108   \n",
      "\n",
      "   Mean_encoded_Airline  Mean_encoded_Source  Mean_encoded_Destination  \\\n",
      "0          11599.021081          10461.60069               10461.60069   \n",
      "\n",
      "   Mean_encoded_Route  day_of_week  day_of_month  weekday  month  dep_hour  \n",
      "0        10954.205808            3             6        1      6        17  \n",
      "--------------------------------------------------------------------------------\n",
      "price :  3753.7147379509356\n"
     ]
    },
    {
     "name": "stderr",
     "output_type": "stream",
     "text": [
      "127.0.0.1 - - [21/May/2022 05:51:10] \"\u001b[31m\u001b[1mGET /api HTTP/1.1\u001b[0m\" 400 -\n",
      "127.0.0.1 - - [21/May/2022 05:51:41] \"\u001b[31m\u001b[1mGET /api HTTP/1.1\u001b[0m\" 400 -\n",
      "127.0.0.1 - - [21/May/2022 05:51:52] \"\u001b[31m\u001b[1mGET /api HTTP/1.1\u001b[0m\" 400 -\n"
     ]
    }
   ],
   "source": [
    "app.run()"
   ]
  },
  {
   "cell_type": "code",
   "execution_count": null,
   "metadata": {
    "colab": {
     "base_uri": "https://localhost:8080/"
    },
    "id": "YJ9Z-iu_E7ut",
    "outputId": "08a8e6f1-49e1-4eb2-90ab-77e63f399e8a"
   },
   "outputs": [
    {
     "name": "stdout",
     "output_type": "stream",
     "text": [
      "\u001b[0m\u001b[01;34mdata\u001b[0m/    \u001b[01;34mjupyter_notebook\u001b[0m/  \u001b[01;34mpython_script\u001b[0m/  \u001b[01;34mreports\u001b[0m/\n",
      "\u001b[01;34mimages\u001b[0m/  \u001b[01;34mmodel\u001b[0m/             Readme.md       \u001b[01;34mwebpage\u001b[0m/\n"
     ]
    }
   ],
   "source": [
    "ls"
   ]
  },
  {
   "cell_type": "code",
   "execution_count": null,
   "metadata": {
    "colab": {
     "base_uri": "https://localhost:8080/"
    },
    "id": "1_gG0knz66RR",
    "outputId": "ecdb3344-e81c-48b1-9bf2-c5c8c63f3748"
   },
   "outputs": [
    {
     "name": "stdout",
     "output_type": "stream",
     "text": [
      "  adding: Airline.zip (stored 0%)\n"
     ]
    }
   ],
   "source": [
    "!zip -r  /content/Airline Airline.zip"
   ]
  },
  {
   "cell_type": "code",
   "execution_count": null,
   "metadata": {
    "id": "-F93njwmLecF"
   },
   "outputs": [],
   "source": []
  },
  {
   "cell_type": "code",
   "execution_count": null,
   "metadata": {
    "id": "WFHhDkApE5-i"
   },
   "outputs": [],
   "source": [
    "'''\n",
    "Prediction Model:\n",
    "As a Data anlyst my role was to use predictive analytics for solving the {business_problem} using {data}.\n",
    "Performed EDA and data cleaning and come up with insights and findings that resulted in 20% improvement on key-performance Indicators(KPI's).\n",
    "Additionally, Build baseline model and performed evaluation, comparison on Random Forest, boosting, XGBM, k-NN, Naive Bayes, Decision Trees, SVM machine models for the data, and follow up with additional analysis reports.\n",
    "Collaborate closely with the software team to improve the internal processes, and integrate the Machine Learning models into our products and services.\n",
    "'''"
   ]
  },
  {
   "cell_type": "code",
   "execution_count": null,
   "metadata": {
    "id": "ETccb2y0VXLQ"
   },
   "outputs": [],
   "source": [
    "Build baseline model and Evaluated and compared different machine models on the datasets, follow up with additional analysis reports."
   ]
  },
  {
   "cell_type": "code",
   "execution_count": null,
   "metadata": {
    "id": "-Fsp7G_3VXOB"
   },
   "outputs": [],
   "source": [
    "\"\"\"\n",
    "Maven Movies:\n",
    "As a database Analyst my role was to understand the {} and find oppurtunities to increase revenues or identify any possible\n",
    "losses that might arise.\n",
    "Worked on large scale data spread across differnt tables and follow up reports for business and adhoc request.\n",
    "Performed Anlaytics using SQL queries, Joins, Case , aggregations to come up with insights which has resulted in 5% decrease in possible incurred losses.\n",
    "Additioanlly, I prepared a dashboard for data visualtization and charts and plots to present valuable insights using excel and tableau.\n",
    "\n",
    "\"\"\""
   ]
  },
  {
   "cell_type": "code",
   "execution_count": null,
   "metadata": {
    "id": "z3GCTkLCVXRe"
   },
   "outputs": [],
   "source": []
  }
 ],
 "metadata": {
  "colab": {
   "collapsed_sections": [
    "uYuuf2sGcUUv"
   ],
   "provenance": []
  },
  "kernelspec": {
   "display_name": "Python 3 (ipykernel)",
   "language": "python",
   "name": "python3"
  },
  "language_info": {
   "codemirror_mode": {
    "name": "ipython",
    "version": 3
   },
   "file_extension": ".py",
   "mimetype": "text/x-python",
   "name": "python",
   "nbconvert_exporter": "python",
   "pygments_lexer": "ipython3",
   "version": "3.9.7"
  }
 },
 "nbformat": 4,
 "nbformat_minor": 1
}
